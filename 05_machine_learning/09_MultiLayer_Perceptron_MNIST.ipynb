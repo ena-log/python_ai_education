{
 "cells": [
  {
   "cell_type": "markdown",
   "metadata": {},
   "source": [
    "# 다중퍼셉트론을 이용한 손글씨 분류\n",
    "\n",
    "\n",
    "다중 퍼셉트론 모델을 이용하여 MNIST 데이터를 분류하는 다층 퍼셉트롭을 구현한다."
   ]
  },
  {
   "cell_type": "code",
   "execution_count": null,
   "metadata": {},
   "outputs": [],
   "source": []
  },
  {
   "cell_type": "markdown",
   "metadata": {},
   "source": [
    "## 0.환경설정"
   ]
  },
  {
   "cell_type": "code",
   "execution_count": 1,
   "metadata": {},
   "outputs": [
    {
     "name": "stdout",
     "output_type": "stream",
     "text": [
      "WARNING:tensorflow:From C:\\Users\\circl\\anaconda3\\lib\\site-packages\\tensorflow\\python\\compat\\v2_compat.py:96: disable_resource_variables (from tensorflow.python.ops.variable_scope) is deprecated and will be removed in a future version.\n",
      "Instructions for updating:\n",
      "non-resource variables are not supported in the long term\n"
     ]
    }
   ],
   "source": [
    "import numpy as np\n",
    "import tensorflow.compat.v1 as tf\n",
    "tf.disable_v2_behavior()"
   ]
  },
  {
   "cell_type": "markdown",
   "metadata": {},
   "source": [
    "+ 가로 세로 각각 28 pix"
   ]
  },
  {
   "attachments": {
    "image.png": {
     "image/png": "[encoded data removed]"
    }
   },
   "cell_type": "markdown",
   "metadata": {},
   "source": [
    "![image.png](attachment:image.png)"
   ]
  },
  {
   "cell_type": "markdown",
   "metadata": {},
   "source": [
    "## 1.데이터 불러오기\n",
    "\n",
    "MNIST 손글씨 실습을 위해 케라스에서 제공하는 MNIST 데이터 셋을 사용한다.\n",
    "\n",
    "+ 학습 데이터에는 총 60,000개의 샘플이 있고 테스트 데이터는 총 10,000개의 샘플이 있다.\n",
    "+ MNIST 데이터는 28개의 행과 28개의 열을 갖는 픽셀 데이터이다. 각 픽셀은 흑백 사진과 같이 0부터 255까지의 그레이스케일을 가지고 있다.\n",
    "\n",
    "    28*28 = 784, 0~255 -> 256개 -> 2의 8제곱\n",
    "    \n",
    "    숫자 사진 1개의 용량 : 28 * 28 * 256 (bit)"
   ]
  },
  {
   "cell_type": "code",
   "execution_count": 2,
   "metadata": {},
   "outputs": [],
   "source": [
    "(x_train, y_train), (x_test, y_test) = tf.keras.datasets.mnist.load_data()"
   ]
  },
  {
   "cell_type": "code",
   "execution_count": 3,
   "metadata": {},
   "outputs": [
    {
     "name": "stdout",
     "output_type": "stream",
     "text": [
      "(60000, 28, 28) (60000,)\n",
      "(10000, 28, 28) (10000,)\n"
     ]
    }
   ],
   "source": [
    "print(x_train.shape, y_train.shape) # 학습 데이터\n",
    "print(x_test.shape, y_test.shape)   # 학습이 완료된 후 테스트 데이터"
   ]
  },
  {
   "cell_type": "markdown",
   "metadata": {},
   "source": [
    "## 2.학습 데이터와 검증 데이터 분리\n",
    "\n",
    "+ 학습 데이터를 학습 데이터(5만개)와 검증 데이터(1만개)로 분리한다\n",
    "+ 학습 중간마다 검증 데이터로 모델의 성능을 측정하면 모델 학습이 제대로 진행되는지 검증 정확도를 알 수 있고 학습 정확도는 올라가는데 검증 정확도가 안 올라가거나 떨어지는 경우 조기 종료를 구현할 수 있다."
   ]
  },
  {
   "cell_type": "code",
   "execution_count": 4,
   "metadata": {},
   "outputs": [],
   "source": [
    "x_val = x_train[50000:]\n",
    "x_train = x_train[:50000]\n",
    "\n",
    "y_val = y_train[50000:]\n",
    "y_train = y_train[:50000]"
   ]
  },
  {
   "cell_type": "markdown",
   "metadata": {},
   "source": [
    "학습 데이터를 출력해보면 데이터가 0부터 255까지의 숫자(그레이스케일)로 구성된 것을 확인할 수 있다."
   ]
  },
  {
   "cell_type": "code",
   "execution_count": 5,
   "metadata": {
    "scrolled": true
   },
   "outputs": [
    {
     "name": "stdout",
     "output_type": "stream",
     "text": [
      "  0   0   0   0   0   0   0   0   0   0   0   0   0   0   0   0   0   0   0   0   0   0   0   0   0   0   0   0 \n",
      "  0   0   0   0   0   0   0   0   0   0   0   0   0   0   0   0   0   0   0   0   0   0   0   0   0   0   0   0 \n",
      "  0   0   0   0   0   0   0   0   0   0   0   0   0   0   0   0   0   0   0   0   0   0   0   0   0   0   0   0 \n",
      "  0   0   0   0   0   0   0   0   0   0   0   0   0   0   0   0   0   0   0   0   0   0   0   0   0   0   0   0 \n",
      "  0   0   0   0   0   0   0   0   0   0   0   0   0   0   0  51 159 253 159  50   0   0   0   0   0   0   0   0 \n",
      "  0   0   0   0   0   0   0   0   0   0   0   0   0   0  48 238 252 252 252 237   0   0   0   0   0   0   0   0 \n",
      "  0   0   0   0   0   0   0   0   0   0   0   0   0  54 227 253 252 239 233 252  57   6   0   0   0   0   0   0 \n",
      "  0   0   0   0   0   0   0   0   0   0   0  10  60 224 252 253 252 202  84 252 253 122   0   0   0   0   0   0 \n",
      "  0   0   0   0   0   0   0   0   0   0   0 163 252 252 252 253 252 252  96 189 253 167   0   0   0   0   0   0 \n",
      "  0   0   0   0   0   0   0   0   0   0  51 238 253 253 190 114 253 228  47  79 255 168   0   0   0   0   0   0 \n",
      "  0   0   0   0   0   0   0   0   0  48 238 252 252 179  12  75 121  21   0   0 253 243  50   0   0   0   0   0 \n",
      "  0   0   0   0   0   0   0   0  38 165 253 233 208  84   0   0   0   0   0   0 253 252 165   0   0   0   0   0 \n",
      "  0   0   0   0   0   0   0   7 178 252 240  71  19  28   0   0   0   0   0   0 253 252 195   0   0   0   0   0 \n",
      "  0   0   0   0   0   0   0  57 252 252  63   0   0   0   0   0   0   0   0   0 253 252 195   0   0   0   0   0 \n",
      "  0   0   0   0   0   0   0 198 253 190   0   0   0   0   0   0   0   0   0   0 255 253 196   0   0   0   0   0 \n",
      "  0   0   0   0   0   0  76 246 252 112   0   0   0   0   0   0   0   0   0   0 253 252 148   0   0   0   0   0 \n",
      "  0   0   0   0   0   0  85 252 230  25   0   0   0   0   0   0   0   0   7 135 253 186  12   0   0   0   0   0 \n",
      "  0   0   0   0   0   0  85 252 223   0   0   0   0   0   0   0   0   7 131 252 225  71   0   0   0   0   0   0 \n",
      "  0   0   0   0   0   0  85 252 145   0   0   0   0   0   0   0  48 165 252 173   0   0   0   0   0   0   0   0 \n",
      "  0   0   0   0   0   0  86 253 225   0   0   0   0   0   0 114 238 253 162   0   0   0   0   0   0   0   0   0 \n",
      "  0   0   0   0   0   0  85 252 249 146  48  29  85 178 225 253 223 167  56   0   0   0   0   0   0   0   0   0 \n",
      "  0   0   0   0   0   0  85 252 252 252 229 215 252 252 252 196 130   0   0   0   0   0   0   0   0   0   0   0 \n",
      "  0   0   0   0   0   0  28 199 252 252 253 252 252 233 145   0   0   0   0   0   0   0   0   0   0   0   0   0 \n",
      "  0   0   0   0   0   0   0  25 128 252 253 252 141  37   0   0   0   0   0   0   0   0   0   0   0   0   0   0 \n",
      "  0   0   0   0   0   0   0   0   0   0   0   0   0   0   0   0   0   0   0   0   0   0   0   0   0   0   0   0 \n",
      "  0   0   0   0   0   0   0   0   0   0   0   0   0   0   0   0   0   0   0   0   0   0   0   0   0   0   0   0 \n",
      "  0   0   0   0   0   0   0   0   0   0   0   0   0   0   0   0   0   0   0   0   0   0   0   0   0   0   0   0 \n",
      "  0   0   0   0   0   0   0   0   0   0   0   0   0   0   0   0   0   0   0   0   0   0   0   0   0   0   0   0 \n",
      "5\n"
     ]
    }
   ],
   "source": [
    "# print(x_train[0])\n",
    "for i in x_train[1]:\n",
    "    for j in i:\n",
    "        print('%3d ' % j, end='')\n",
    "    print()\n",
    "\n",
    "print(y_train[0])"
   ]
  },
  {
   "cell_type": "markdown",
   "metadata": {},
   "source": [
    "## 3. 데이터 가공"
   ]
  },
  {
   "cell_type": "markdown",
   "metadata": {},
   "source": [
    "### 3.1. 구조 변경\n",
    "\n",
    "+ 다중 퍼셉트론의 입력값으로 들어갈 수 있도록 2차원 형태의 데이터를 1차원 배열 형태로 구조를 변경한다."
   ]
  },
  {
   "cell_type": "code",
   "execution_count": 6,
   "metadata": {},
   "outputs": [
    {
     "name": "stdout",
     "output_type": "stream",
     "text": [
      "(50000, 784)\n"
     ]
    }
   ],
   "source": [
    "# 28 * 28 픽셀의 단색 이미지이므로 데이터 형태를 784개의 1차원 배열 형태로 변환한다.\n",
    "# 샘플개수, 너비 * 높이 형태로 배\n",
    "열을 구성한다\n",
    "x_train = np.reshape(x_train, (50000, 784))\n",
    "x_val = np.reshape(x_val, (10000, 784))\n",
    "x_test = np.reshape(x_test, (10000, 784))\n",
    "\n",
    "print(x_train.shape)"
   ]
  },
  {
   "cell_type": "markdown",
   "metadata": {},
   "source": [
    "### 3.2. 정규화\n",
    "\n",
    "+ 1차원으로 변경된 데이터를 그대로 다중 퍼셉트론에 입력해도 되지만 좀 더 효율적인 학습을 위해 데이터를 정규화시킨다\n",
    "+ 정규화는 모델의 학습 시간을 단축시키고 더 나은 성능을 보이게 하는 효과가 있다\n",
    "+ MNIST 데이터의 모든 값은 0부터 255까지의 범위 안에 있으므로 255로 나눠 모든 값을 0부터 1사인의 값으로 정규화한다."
   ]
  },
  {
   "cell_type": "code",
   "execution_count": 7,
   "metadata": {},
   "outputs": [
    {
     "name": "stdout",
     "output_type": "stream",
     "text": [
      "<class 'numpy.ndarray'>\n",
      "<class 'numpy.uint8'>\n",
      "<class 'numpy.ndarray'>\n",
      "<class 'numpy.float32'>\n"
     ]
    }
   ],
   "source": [
    "print(type(x_train))\n",
    "print(type(x_train[0][0]))\n",
    "\n",
    "x_train = x_train.astype('float32')\n",
    "print(type(x_train))\n",
    "print(type(x_train[0][0]))"
   ]
  },
  {
   "cell_type": "code",
   "execution_count": 8,
   "metadata": {},
   "outputs": [],
   "source": [
    "x_train = x_train.astype('float32')\n",
    "x_val = x_val.astype('float32')\n",
    "x_test = x_test.astype('float32')\n",
    "\n",
    "global_scale  = 255\n",
    "\n",
    "x_train /= global_scale\n",
    "x_val /= global_scale\n",
    "x_test /= global_scale"
   ]
  },
  {
   "cell_type": "markdown",
   "metadata": {},
   "source": [
    "## 4. 모델 구현\n",
    "\n",
    "+ MNIST 손글씨 데이터 분류 모델은 0부터 9까지의 숫자로 분류하는 다중 모델이므로 손실 함수로 크로스 엔트로피를 사용한다.\n",
    "\n",
    "### 4.1. 원 핫 인코딩\n",
    "\n",
    "+ 크로스 엔트로피를 계산하기 위해 실제값(y)은 원 핫 인코딩으로 변환한다.\n",
    "+ 원 핫 인코딩(One Hot Encoding)은 데이터를 수많은 0과 1개의 1값으로 데이터를 구별하는 인코딩  방식으로 0으로 이루어진 벡터 집합에 단 1개의 1의 값으로 해당 데이터를 구별하는 것을 말한다."
   ]
  },
  {
   "cell_type": "code",
   "execution_count": 9,
   "metadata": {},
   "outputs": [],
   "source": [
    "num_classes = 10\n",
    "y_train = tf.keras.utils.to_categorical(y_train, num_classes)\n",
    "y_val = tf.keras.utils.to_categorical(y_val, num_classes)\n",
    "y_test = tf.keras.utils.to_categorical(y_test, num_classes)"
   ]
  },
  {
   "cell_type": "code",
   "execution_count": 10,
   "metadata": {},
   "outputs": [
    {
     "name": "stdout",
     "output_type": "stream",
     "text": [
      "[0. 0. 0. 0. 0. 1. 0. 0. 0. 0.]\n",
      "[1. 0. 0. 0. 0. 0. 0. 0. 0. 0.]\n",
      "[0. 0. 0. 0. 1. 0. 0. 0. 0. 0.]\n",
      "[0. 1. 0. 0. 0. 0. 0. 0. 0. 0.]\n",
      "[0. 0. 0. 0. 0. 0. 0. 0. 0. 1.]\n"
     ]
    }
   ],
   "source": [
    "# print(y_train[:5]) => [5 0 4 1 9]\n",
    "for i in y_train[:5]:\n",
    "    print(i)"
   ]
  },
  {
   "cell_type": "markdown",
   "metadata": {},
   "source": [
    "### 4.2. 다중퍼셉트론 구현 - 히든 레이어"
   ]
  },
  {
   "attachments": {
    "image.png": {
     "image/png": "[encoded data removed]"
    }
   },
   "cell_type": "markdown",
   "metadata": {},
   "source": [
    "![image.png](attachment:image.png)\n",
    "\n",
    "                            <설계한 모델 이미지>"
   ]
  },
  {
   "cell_type": "markdown",
   "metadata": {},
   "source": [
    "+ 입력 데이터는 784개의 숫자가 들어있는 배열이다.  \n",
    "+ 784개의 입력을 받는 256개의 노드가 1번째 레이어에 있고 1번째 레이어의 출력값을 입력으로 받는 2번째 레이어에는 128개의 노드가 있다. 2번째 레이어에 10% 드롭아웃을 적용하고 2번째 레이어의 출력을 받는 3번째 레이어에는 총 10개의 노드가 존재하며 이 10개의 노드값은 소프트맥스를 통과해서 0부터 9까지에 해당하는 각 숫자의 확률을 의미하게 된다."
   ]
  },
  {
   "cell_type": "code",
   "execution_count": 11,
   "metadata": {},
   "outputs": [],
   "source": [
    "# 1번째 차원이 None인 이유는 데이터 개수 제약없이 입력받기 위해서이고\n",
    "# 2번째 차원이 784인 것은 MNIST의 이미지 크기가 28 * 28 픽셀 = 784 픽셀이기 떄문이다 \n",
    "# x : 입력값, y : 출력값, keep_prob : 드롭아웃 적용 변수\n",
    "x = tf.placeholder(tf.float32, [None, 784])\n",
    "y = tf.placeholder(tf.float32, [None, 10])\n",
    "keep_prob = tf.placeholder(tf.float32)\n"
   ]
  },
  {
   "cell_type": "code",
   "execution_count": 21,
   "metadata": {},
   "outputs": [],
   "source": [
    "# 다중 퍼셉트론 구현함수\n",
    "def mlp(x):\n",
    "    \n",
    "    # 히든 레이어1\n",
    "    w1 = tf.Variable(tf.random_uniform([784,256]))\n",
    "    b1 = tf.Variable(tf.zeros([256]))\n",
    "    h1 = tf.nn.relu(tf.matmul(x, w1) + b1)\n",
    "    \n",
    "    # 히든 레이어2\n",
    "    w2 = tf.Variable(tf.random_uniform([256,128]))\n",
    "    b2 = tf.Variable(tf.zeros([128]))\n",
    "    h2 = tf.nn.relu(tf.matmul(h1, w2) + b2)\n",
    "    \n",
    "    # 드롭아웃 적용\n",
    "    # keep_prob만 썼는데 버전이 올라가면서 rate=1-keep_prob 형태로 작성해야함\n",
    "    h2_drop = tf.nn.dropout(h2, rate=1-keep_prob)\n",
    "    \n",
    "    # 히든 레이어3\n",
    "    w3 = tf.Variable(tf.random_uniform([128,10]))\n",
    "    b3 = tf.Variable(tf.zeros([10]))\n",
    "    h3 = tf.nn.relu(tf.matmul(h2_drop, w3) + b3)\n",
    "    \n",
    "    return h3\n",
    "    "
   ]
  },
  {
   "cell_type": "markdown",
   "metadata": {},
   "source": [
    "다층 퍼셉트론의 출력값을 logits로 정의한다.\n",
    "\n",
    "logit => logistic과 probit의 합성어로 probit은 확률을 재는 단위라는 뜻이다."
   ]
  },
  {
   "cell_type": "code",
   "execution_count": 22,
   "metadata": {},
   "outputs": [],
   "source": [
    "logits = mlp(x)"
   ]
  },
  {
   "cell_type": "markdown",
   "metadata": {},
   "source": [
    "### 4.3. 손실함수로 크로스엔트로피 사용\n",
    "\n",
    "logits와 실제값이 크로스 엔트로피를 손실 함수로 사용한다."
   ]
  },
  {
   "cell_type": "code",
   "execution_count": 23,
   "metadata": {},
   "outputs": [],
   "source": [
    "# 크로스 엔트로피 공신인\n",
    "# tf.reduce_mean(-tf.reduce_sum(y*tf.log(tf.nn.softmax(logits)), reduction_indices=1))\n",
    "# 을 그대로 사용하면 수치적으로 불안정하여 계산 오류가 발생할 수 있음\n",
    "\n",
    "loss_op = tf.reduce_mean(tf.nn.softmax_cross_entropy_with_logits_v2(logits=logits, labels=y))\n"
   ]
  },
  {
   "cell_type": "markdown",
   "metadata": {},
   "source": [
    "### 4.4. 매개변수 최적화로 소프트맥스 사용\n",
    "\n",
    "+ 소프트맥스 출력값과 실제값의 차이를 계산하기 위해 크로스 엔트로피를 손실 함수로 사용하고 손실 함수를 최소화하기 위해 Adam 옵티마이저를 사용해 역전파를 통해 모든 가중치 및 편향값을 최적화한다.  \n",
    "+ 최적화 함수 참고 : https://onevision.tistory.com/entry/Optimizer-%EC%9D%98-%EC%A2%85%EB%A5%98%EC%99%80-%ED%8A%B9%EC%84%B1-Momentum-RMSProp-Adam\n",
    "+ 소프트맥스는 분류해야하는 정답지(클래스)의 총 개수를 k라고 할 때 k차원의 벡터를 입력받아 각 클래스에 대한 확률을 추정한다."
   ]
  },
  {
   "cell_type": "code",
   "execution_count": 24,
   "metadata": {},
   "outputs": [],
   "source": [
    "# Adam 옵티마이저를 사용해 모델을 최적화한다\n",
    "# 모델의 최적화 과정은 모델의 예측값과 실제값의 차이를 줄여나가는 과정을 의미함\n",
    "train_op = tf.train.AdamOptimizer(learning_rate=0.01).minimize(loss_op)\n"
   ]
  },
  {
   "cell_type": "markdown",
   "metadata": {},
   "source": [
    "## 5. 학습 및 검증\n",
    "\n",
    "### 5.1. 변수 선언\n",
    "\n",
    "+ 조기 종료는 과대적합을 피하고 충분한 학습을 하기 위해 학습 중간마다 검증 데이터에 대한 정확도를 측정해 학습 정확도는 계속 증가하는 반면 검증 데이터에 대한 정확도가 점차 멀어질 경우 중지하는 것을 말한다.\n",
    "+ 매 주기(epoch)마다 검증 데이터로 검증 정확도를 측정한다.\n",
    "+ 검증 정확도가 5번 연속으로 최고 검증 정확도보다 높지 않을 경우 조기 종료를 수행한다."
   ]
  },
  {
   "cell_type": "code",
   "execution_count": 25,
   "metadata": {},
   "outputs": [],
   "source": [
    "# 텐서플로우 변수 초기화\n",
    "init = tf.global_variables_initializer()\n",
    "\n",
    "# 텐서플로우 모델의 저장 및 로드에 사용할 변수를 선언함\n",
    "saver = tf.train.Saver()\n",
    "\n",
    "# 조기 종료가 일어나지 않을 경우 최대 300번까지 반복해서 학습하도록 설정함\n",
    "epoch_cnt = 300\n",
    "\n",
    "# 1번에 처리할 데이터의 개수를 설정함\n",
    "batch_size = 1000\n",
    "\n",
    "# batch_size 에 따른 학습 반복 횟수를 설정함\n",
    "iteration = len(x_train) // batch_size\n",
    "\n",
    "# 검증 정확도가 최고 정확도보다 5번 연속으로 높지 않을 경우 조기 종료하도록 설정함\n",
    "earlystop_threshold = 5\n",
    "\n",
    "# 검증 정확도가 최고 정확도보다 연속으로 높지 않은 횟수를 세는 변수를 선언함\n",
    "earlystop_cnt = 0\n"
   ]
  },
  {
   "cell_type": "markdown",
   "metadata": {},
   "source": [
    "### 5.2. 학습\n",
    "\n",
    "+ 데이터를 모델에 입력할 때 모델에 드롭아웃이 적용된 경우 항상 keep_prob을 설정해야한다.\n",
    "+ 학습 시 10%의 드롭아웃을 적용하기 위해 keep_prop을 0.9로 설정하고 테스트할 때는 드롭아웃을 적용하지 않을 것이므로 keep_prob를 1.0으로 설정한다."
   ]
  },
  {
   "cell_type": "code",
   "execution_count": 26,
   "metadata": {},
   "outputs": [
    {
     "name": "stdout",
     "output_type": "stream",
     "text": [
      "1\n",
      "[1 0 2]\n",
      "[1 2 1]\n"
     ]
    }
   ],
   "source": [
    "# tf.argmax() 메소드는 배열에서 가장 큰 값을 찾아서 그 인덱스를 리턴한다.\n",
    "# tf.argmax() 메소드를 2차원 배열에서 실행할 때 2번째 인수로 0을 지정하면 각 열에서 가장 큰 값을 찾아 그 인덱스를 리턴한다.\n",
    "# tf.argmax() 메소드를 2차원 배열에서 실행할 때 2번째 인수로 1을 지정하면 각 행에서 가장 큰 값을 찾아 그 인덱스를 리턴한다.\n",
    "\n",
    "a = tf.constant([3, 10, 1])                         # 1차원 배열\n",
    "b = tf.constant([[3, 10, 1], [4, 5, 6], [0, 8, 7]]) # 2차원 배열\n",
    "sess = tf.Session()\n",
    "print(sess.run(tf.argmax(a, 0)))  # a 배열에서 10이 가장 크기 때문에 결과는 10의 인덱스인 1이 출력된다.\n",
    "print(sess.run(tf.argmax(b, 0)))\n",
    "print(sess.run(tf.argmax(b, 1)))\n"
   ]
  },
  {
   "cell_type": "code",
   "execution_count": 28,
   "metadata": {
    "scrolled": true
   },
   "outputs": [
    {
     "name": "stdout",
     "output_type": "stream",
     "text": [
      "epoch:   0, 학습 정확도: 0.18882, 검증 정확도: 0.19820\n",
      "epoch:   1, 학습 정확도: 0.49418, 검증 정확도: 0.50740\n",
      "epoch:   2, 학습 정확도: 0.57410, 검증 정확도: 0.59870\n",
      "epoch:   3, 학습 정확도: 0.62146, 검증 정확도: 0.64280\n",
      "epoch:   4, 학습 정확도: 0.66610, 검증 정확도: 0.68700\n",
      "epoch:   5, 학습 정확도: 0.70878, 검증 정확도: 0.72710\n",
      "epoch:   6, 학습 정확도: 0.73750, 검증 정확도: 0.75600\n",
      "epoch:   7, 학습 정확도: 0.76580, 검증 정확도: 0.77900\n",
      "epoch:   8, 학습 정확도: 0.78622, 검증 정확도: 0.79730\n",
      "epoch:   9, 학습 정확도: 0.80452, 검증 정확도: 0.81700\n",
      "epoch:  10, 학습 정확도: 0.82038, 검증 정확도: 0.83130\n",
      "epoch:  11, 학습 정확도: 0.83494, 검증 정확도: 0.84450\n",
      "epoch:  12, 학습 정확도: 0.84708, 검증 정확도: 0.85370\n",
      "epoch:  13, 학습 정확도: 0.85814, 검증 정확도: 0.86310\n",
      "epoch:  14, 학습 정확도: 0.86708, 검증 정확도: 0.87010\n",
      "epoch:  15, 학습 정확도: 0.87638, 검증 정확도: 0.87680\n",
      "epoch:  16, 학습 정확도: 0.88288, 검증 정확도: 0.88310\n",
      "epoch:  17, 학습 정확도: 0.88916, 검증 정확도: 0.88900\n",
      "epoch:  18, 학습 정확도: 0.89430, 검증 정확도: 0.89450\n",
      "epoch:  19, 학습 정확도: 0.89886, 검증 정확도: 0.89920\n",
      "epoch:  20, 학습 정확도: 0.90176, 검증 정확도: 0.90030\n",
      "epoch:  21, 학습 정확도: 0.90632, 검증 정확도: 0.90280\n",
      "epoch:  22, 학습 정확도: 0.90870, 검증 정확도: 0.90570\n",
      "epoch:  23, 학습 정확도: 0.91126, 검증 정확도: 0.90770\n",
      "epoch:  24, 학습 정확도: 0.91452, 검증 정확도: 0.91040\n",
      "epoch:  25, 학습 정확도: 0.91698, 검증 정확도: 0.91200\n",
      "epoch:  26, 학습 정확도: 0.91942, 검증 정확도: 0.91370\n",
      "epoch:  27, 학습 정확도: 0.92180, 검증 정확도: 0.91570\n",
      "epoch:  28, 학습 정확도: 0.92468, 검증 정확도: 0.91780\n",
      "epoch:  29, 학습 정확도: 0.92650, 검증 정확도: 0.91900\n",
      "epoch:  30, 학습 정확도: 0.92848, 검증 정확도: 0.91980\n",
      "epoch:  31, 학습 정확도: 0.92990, 검증 정확도: 0.92050\n",
      "epoch:  32, 학습 정확도: 0.93186, 검증 정확도: 0.92250\n",
      "epoch:  33, 학습 정확도: 0.93254, 검증 정확도: 0.92330\n",
      "epoch:  34, 학습 정확도: 0.93396, 검증 정확도: 0.92430\n",
      "epoch:  35, 학습 정확도: 0.93612, 검증 정확도: 0.92560\n",
      "epoch:  36, 학습 정확도: 0.93768, 검증 정확도: 0.92770\n",
      "epoch:  37, 학습 정확도: 0.93870, 검증 정확도: 0.92700\n",
      "과대적합 경고 횟수: 0\n",
      "epoch:  38, 학습 정확도: 0.94000, 검증 정확도: 0.92790\n",
      "epoch:  39, 학습 정확도: 0.94194, 검증 정확도: 0.92860\n",
      "epoch:  40, 학습 정확도: 0.94258, 검증 정확도: 0.92920\n",
      "epoch:  41, 학습 정확도: 0.94370, 검증 정확도: 0.93000\n",
      "epoch:  42, 학습 정확도: 0.94482, 검증 정확도: 0.93080\n",
      "epoch:  43, 학습 정확도: 0.94584, 검증 정확도: 0.93160\n",
      "epoch:  44, 학습 정확도: 0.94676, 검증 정확도: 0.93070\n",
      "과대적합 경고 횟수: 0\n",
      "epoch:  45, 학습 정확도: 0.94748, 검증 정확도: 0.93240\n",
      "epoch:  46, 학습 정확도: 0.94914, 검증 정확도: 0.93360\n",
      "epoch:  47, 학습 정확도: 0.95054, 검증 정확도: 0.93380\n",
      "epoch:  48, 학습 정확도: 0.95108, 검증 정확도: 0.93380\n",
      "epoch:  49, 학습 정확도: 0.95194, 검증 정확도: 0.93320\n",
      "과대적합 경고 횟수: 0\n",
      "epoch:  50, 학습 정확도: 0.95344, 검증 정확도: 0.93540\n",
      "epoch:  51, 학습 정확도: 0.95402, 검증 정확도: 0.93500\n",
      "과대적합 경고 횟수: 0\n",
      "epoch:  52, 학습 정확도: 0.95514, 검증 정확도: 0.93670\n",
      "epoch:  53, 학습 정확도: 0.95514, 검증 정확도: 0.93530\n",
      "epoch:  54, 학습 정확도: 0.95596, 검증 정확도: 0.93640\n",
      "과대적합 경고 횟수: 0\n",
      "epoch:  55, 학습 정확도: 0.95658, 검증 정확도: 0.93680\n",
      "epoch:  56, 학습 정확도: 0.95842, 검증 정확도: 0.93650\n",
      "과대적합 경고 횟수: 0\n",
      "epoch:  57, 학습 정확도: 0.95894, 검증 정확도: 0.93560\n",
      "과대적합 경고 횟수: 1\n",
      "epoch:  58, 학습 정확도: 0.95966, 검증 정확도: 0.93820\n",
      "epoch:  59, 학습 정확도: 0.95980, 검증 정확도: 0.93830\n",
      "epoch:  60, 학습 정확도: 0.96030, 검증 정확도: 0.93910\n",
      "epoch:  61, 학습 정확도: 0.96136, 검증 정확도: 0.93960\n",
      "epoch:  62, 학습 정확도: 0.96160, 검증 정확도: 0.93970\n",
      "epoch:  63, 학습 정확도: 0.96262, 검증 정확도: 0.93970\n",
      "epoch:  64, 학습 정확도: 0.96224, 검증 정확도: 0.94070\n",
      "epoch:  65, 학습 정확도: 0.96364, 검증 정확도: 0.94050\n",
      "과대적합 경고 횟수: 0\n",
      "epoch:  66, 학습 정확도: 0.96508, 검증 정확도: 0.94050\n",
      "과대적합 경고 횟수: 1\n",
      "epoch:  67, 학습 정확도: 0.96504, 검증 정확도: 0.94070\n",
      "epoch:  68, 학습 정확도: 0.96584, 검증 정확도: 0.94190\n",
      "epoch:  69, 학습 정확도: 0.96662, 검증 정확도: 0.94150\n",
      "과대적합 경고 횟수: 0\n",
      "epoch:  70, 학습 정확도: 0.96688, 검증 정확도: 0.94210\n",
      "epoch:  71, 학습 정확도: 0.96800, 검증 정확도: 0.94200\n",
      "과대적합 경고 횟수: 0\n",
      "epoch:  72, 학습 정확도: 0.96794, 검증 정확도: 0.94200\n",
      "epoch:  73, 학습 정확도: 0.96874, 검증 정확도: 0.94360\n",
      "epoch:  74, 학습 정확도: 0.96928, 검증 정확도: 0.94310\n",
      "과대적합 경고 횟수: 0\n",
      "epoch:  75, 학습 정확도: 0.96926, 검증 정확도: 0.94360\n",
      "epoch:  76, 학습 정확도: 0.97036, 검증 정확도: 0.94360\n",
      "epoch:  77, 학습 정확도: 0.97132, 검증 정확도: 0.94390\n",
      "epoch:  78, 학습 정확도: 0.97144, 검증 정확도: 0.94460\n",
      "epoch:  79, 학습 정확도: 0.97118, 검증 정확도: 0.94430\n",
      "epoch:  80, 학습 정확도: 0.97092, 검증 정확도: 0.94500\n",
      "epoch:  81, 학습 정확도: 0.97164, 검증 정확도: 0.94530\n",
      "epoch:  82, 학습 정확도: 0.97214, 검증 정확도: 0.94500\n",
      "과대적합 경고 횟수: 0\n",
      "epoch:  83, 학습 정확도: 0.97246, 검증 정확도: 0.94390\n",
      "과대적합 경고 횟수: 1\n",
      "epoch:  84, 학습 정확도: 0.97374, 검증 정확도: 0.94550\n",
      "epoch:  85, 학습 정확도: 0.97276, 검증 정확도: 0.94430\n",
      "epoch:  86, 학습 정확도: 0.97424, 검증 정확도: 0.94520\n",
      "과대적합 경고 횟수: 0\n",
      "epoch:  87, 학습 정확도: 0.97462, 검증 정확도: 0.94590\n",
      "epoch:  88, 학습 정확도: 0.97516, 검증 정확도: 0.94510\n",
      "과대적합 경고 횟수: 0\n",
      "epoch:  89, 학습 정확도: 0.97526, 검증 정확도: 0.94590\n",
      "epoch:  90, 학습 정확도: 0.97452, 검증 정확도: 0.94610\n",
      "epoch:  91, 학습 정확도: 0.97488, 검증 정확도: 0.94630\n",
      "epoch:  92, 학습 정확도: 0.97622, 검증 정확도: 0.94770\n",
      "epoch:  93, 학습 정확도: 0.97532, 검증 정확도: 0.94740\n",
      "epoch:  94, 학습 정확도: 0.97378, 검증 정확도: 0.94510\n",
      "epoch:  95, 학습 정확도: 0.97596, 검증 정확도: 0.94610\n",
      "과대적합 경고 횟수: 0\n",
      "epoch:  96, 학습 정확도: 0.97602, 검증 정확도: 0.94660\n",
      "과대적합 경고 횟수: 1\n",
      "epoch:  97, 학습 정확도: 0.97600, 검증 정확도: 0.94620\n",
      "epoch:  98, 학습 정확도: 0.97630, 검증 정확도: 0.94700\n",
      "과대적합 경고 횟수: 0\n",
      "epoch:  99, 학습 정확도: 0.97658, 검증 정확도: 0.94690\n",
      "과대적합 경고 횟수: 1\n",
      "epoch: 100, 학습 정확도: 0.97762, 검증 정확도: 0.94780\n",
      "epoch: 101, 학습 정확도: 0.97850, 검증 정확도: 0.94910\n",
      "epoch: 102, 학습 정확도: 0.97710, 검증 정확도: 0.94630\n",
      "epoch: 103, 학습 정확도: 0.97668, 검증 정확도: 0.94660\n",
      "epoch: 104, 학습 정확도: 0.97434, 검증 정확도: 0.94530\n",
      "epoch: 105, 학습 정확도: 0.97642, 검증 정확도: 0.94740\n",
      "과대적합 경고 횟수: 0\n",
      "epoch: 106, 학습 정확도: 0.97668, 검증 정확도: 0.94530\n",
      "과대적합 경고 횟수: 1\n",
      "epoch: 107, 학습 정확도: 0.97804, 검증 정확도: 0.94860\n",
      "과대적합 경고 횟수: 2\n",
      "epoch: 108, 학습 정확도: 0.97780, 검증 정확도: 0.94780\n",
      "epoch: 109, 학습 정확도: 0.97842, 검증 정확도: 0.94920\n",
      "epoch: 110, 학습 정확도: 0.97774, 검증 정확도: 0.94700\n",
      "epoch: 111, 학습 정확도: 0.97834, 검증 정확도: 0.94830\n",
      "과대적합 경고 횟수: 0\n",
      "epoch: 112, 학습 정확도: 0.97874, 검증 정확도: 0.94840\n",
      "과대적합 경고 횟수: 1\n",
      "epoch: 113, 학습 정확도: 0.97994, 검증 정확도: 0.95060\n",
      "epoch: 114, 학습 정확도: 0.97950, 검증 정확도: 0.95250\n",
      "epoch: 115, 학습 정확도: 0.98020, 검증 정확도: 0.95190\n",
      "과대적합 경고 횟수: 0\n",
      "epoch: 116, 학습 정확도: 0.98108, 검증 정확도: 0.95080\n",
      "과대적합 경고 횟수: 1\n",
      "epoch: 117, 학습 정확도: 0.97980, 검증 정확도: 0.95080\n",
      "epoch: 118, 학습 정확도: 0.97878, 검증 정확도: 0.94940\n",
      "epoch: 119, 학습 정확도: 0.97884, 검증 정확도: 0.94820\n",
      "과대적합 경고 횟수: 0\n",
      "epoch: 120, 학습 정확도: 0.97986, 검증 정확도: 0.94990\n",
      "과대적합 경고 횟수: 1\n",
      "epoch: 121, 학습 정확도: 0.97826, 검증 정확도: 0.95000\n",
      "epoch: 122, 학습 정확도: 0.97946, 검증 정확도: 0.94990\n",
      "과대적합 경고 횟수: 0\n",
      "epoch: 123, 학습 정확도: 0.97940, 검증 정확도: 0.94960\n",
      "epoch: 124, 학습 정확도: 0.98218, 검증 정확도: 0.95100\n",
      "과대적합 경고 횟수: 0\n",
      "epoch: 125, 학습 정확도: 0.97950, 검증 정확도: 0.94890\n",
      "epoch: 126, 학습 정확도: 0.97970, 검증 정확도: 0.94960\n",
      "과대적합 경고 횟수: 0\n",
      "epoch: 127, 학습 정확도: 0.98006, 검증 정확도: 0.94970\n",
      "과대적합 경고 횟수: 1\n",
      "epoch: 128, 학습 정확도: 0.98248, 검증 정확도: 0.95170\n",
      "과대적합 경고 횟수: 2\n",
      "epoch: 129, 학습 정확도: 0.98216, 검증 정확도: 0.94940\n",
      "epoch: 130, 학습 정확도: 0.98228, 검증 정확도: 0.95100\n",
      "과대적합 경고 횟수: 0\n",
      "epoch: 131, 학습 정확도: 0.98398, 검증 정확도: 0.95330\n",
      "epoch: 132, 학습 정확도: 0.98430, 검증 정확도: 0.95270\n",
      "과대적합 경고 횟수: 0\n",
      "epoch: 133, 학습 정확도: 0.98452, 검증 정확도: 0.95320\n",
      "과대적합 경고 횟수: 1\n",
      "epoch: 134, 학습 정확도: 0.98426, 검증 정확도: 0.95200\n",
      "epoch: 135, 학습 정확도: 0.98430, 검증 정확도: 0.95380\n",
      "epoch: 136, 학습 정확도: 0.98330, 검증 정확도: 0.95340\n",
      "epoch: 137, 학습 정확도: 0.98374, 검증 정확도: 0.95380\n",
      "epoch: 138, 학습 정확도: 0.98322, 검증 정확도: 0.95090\n",
      "epoch: 139, 학습 정확도: 0.98086, 검증 정확도: 0.95190\n",
      "epoch: 140, 학습 정확도: 0.98338, 검증 정확도: 0.95120\n",
      "과대적합 경고 횟수: 0\n",
      "epoch: 141, 학습 정확도: 0.98238, 검증 정확도: 0.95160\n",
      "epoch: 142, 학습 정확도: 0.98276, 검증 정확도: 0.95320\n",
      "과대적합 경고 횟수: 0\n",
      "epoch: 143, 학습 정확도: 0.98488, 검증 정확도: 0.95110\n",
      "과대적합 경고 횟수: 1\n",
      "epoch: 144, 학습 정확도: 0.98436, 검증 정확도: 0.95370\n",
      "epoch: 145, 학습 정확도: 0.98330, 검증 정확도: 0.95460\n",
      "epoch: 146, 학습 정확도: 0.98518, 검증 정확도: 0.95580\n",
      "epoch: 147, 학습 정확도: 0.98748, 검증 정확도: 0.95460\n",
      "과대적합 경고 횟수: 0\n",
      "epoch: 148, 학습 정확도: 0.98722, 검증 정확도: 0.95370\n",
      "epoch: 149, 학습 정확도: 0.98602, 검증 정확도: 0.95420\n",
      "epoch: 150, 학습 정확도: 0.98328, 검증 정확도: 0.95410\n",
      "epoch: 151, 학습 정확도: 0.97936, 검증 정확도: 0.94970\n",
      "epoch: 152, 학습 정확도: 0.98702, 검증 정확도: 0.95520\n",
      "과대적합 경고 횟수: 0\n",
      "epoch: 153, 학습 정확도: 0.98914, 검증 정확도: 0.95580\n",
      "epoch: 154, 학습 정확도: 0.98906, 검증 정확도: 0.95570\n",
      "epoch: 155, 학습 정확도: 0.98864, 검증 정확도: 0.95380\n",
      "epoch: 156, 학습 정확도: 0.98926, 검증 정확도: 0.95570\n",
      "과대적합 경고 횟수: 0\n",
      "epoch: 157, 학습 정확도: 0.98888, 검증 정확도: 0.95690\n",
      "epoch: 158, 학습 정확도: 0.98862, 검증 정확도: 0.95460\n",
      "epoch: 159, 학습 정확도: 0.98886, 검증 정확도: 0.95500\n",
      "과대적합 경고 횟수: 0\n",
      "epoch: 160, 학습 정확도: 0.98646, 검증 정확도: 0.95380\n",
      "epoch: 161, 학습 정확도: 0.98810, 검증 정확도: 0.95470\n",
      "과대적합 경고 횟수: 0\n",
      "epoch: 162, 학습 정확도: 0.98788, 검증 정확도: 0.95330\n",
      "epoch: 163, 학습 정확도: 0.98798, 검증 정확도: 0.95400\n",
      "과대적합 경고 횟수: 0\n",
      "epoch: 164, 학습 정확도: 0.98720, 검증 정확도: 0.95630\n",
      "epoch: 165, 학습 정확도: 0.98766, 검증 정확도: 0.95540\n",
      "과대적합 경고 횟수: 0\n",
      "epoch: 166, 학습 정확도: 0.98948, 검증 정확도: 0.95620\n",
      "과대적합 경고 횟수: 1\n",
      "epoch: 167, 학습 정확도: 0.98982, 검증 정확도: 0.95770\n"
     ]
    },
    {
     "name": "stdout",
     "output_type": "stream",
     "text": [
      "epoch: 168, 학습 정확도: 0.98924, 검증 정확도: 0.95570\n",
      "epoch: 169, 학습 정확도: 0.98872, 검증 정확도: 0.95600\n",
      "epoch: 170, 학습 정확도: 0.98790, 검증 정확도: 0.95440\n",
      "epoch: 171, 학습 정확도: 0.98682, 검증 정확도: 0.95460\n",
      "epoch: 172, 학습 정확도: 0.98912, 검증 정확도: 0.95570\n",
      "과대적합 경고 횟수: 0\n",
      "epoch: 173, 학습 정확도: 0.98888, 검증 정확도: 0.95460\n",
      "epoch: 174, 학습 정확도: 0.99018, 검증 정확도: 0.95600\n",
      "과대적합 경고 횟수: 0\n",
      "epoch: 175, 학습 정확도: 0.98968, 검증 정확도: 0.95510\n",
      "epoch: 176, 학습 정확도: 0.99138, 검증 정확도: 0.95700\n",
      "과대적합 경고 횟수: 0\n",
      "epoch: 177, 학습 정확도: 0.99094, 검증 정확도: 0.95720\n",
      "과대적합 경고 횟수: 1\n",
      "epoch: 178, 학습 정확도: 0.98930, 검증 정확도: 0.95530\n",
      "epoch: 179, 학습 정확도: 0.99142, 검증 정확도: 0.95760\n",
      "과대적합 경고 횟수: 0\n",
      "epoch: 180, 학습 정확도: 0.99166, 검증 정확도: 0.95790\n",
      "epoch: 181, 학습 정확도: 0.98972, 검증 정확도: 0.95620\n",
      "epoch: 182, 학습 정확도: 0.99150, 검증 정확도: 0.95640\n",
      "과대적합 경고 횟수: 0\n",
      "epoch: 183, 학습 정확도: 0.99022, 검증 정확도: 0.95580\n",
      "과대적합 경고 횟수: 1\n",
      "epoch: 184, 학습 정확도: 0.98970, 검증 정확도: 0.95620\n",
      "epoch: 185, 학습 정확도: 0.98990, 검증 정확도: 0.95620\n",
      "과대적합 경고 횟수: 0\n",
      "epoch: 186, 학습 정확도: 0.98968, 검증 정확도: 0.95610\n",
      "epoch: 187, 학습 정확도: 0.98794, 검증 정확도: 0.95690\n",
      "epoch: 188, 학습 정확도: 0.99038, 검증 정확도: 0.95800\n",
      "epoch: 189, 학습 정확도: 0.99092, 검증 정확도: 0.95630\n",
      "과대적합 경고 횟수: 0\n",
      "epoch: 190, 학습 정확도: 0.99000, 검증 정확도: 0.95700\n",
      "과대적합 경고 횟수: 1\n",
      "epoch: 191, 학습 정확도: 0.99020, 검증 정확도: 0.95670\n",
      "과대적합 경고 횟수: 2\n",
      "epoch: 192, 학습 정확도: 0.99138, 검증 정확도: 0.95610\n",
      "과대적합 경고 횟수: 3\n",
      "epoch: 193, 학습 정확도: 0.99120, 검증 정확도: 0.95820\n",
      "epoch: 194, 학습 정확도: 0.98928, 검증 정확도: 0.95680\n",
      "epoch: 195, 학습 정확도: 0.98962, 검증 정확도: 0.95720\n",
      "과대적합 경고 횟수: 0\n",
      "epoch: 196, 학습 정확도: 0.98842, 검증 정확도: 0.95470\n",
      "epoch: 197, 학습 정확도: 0.99018, 검증 정확도: 0.95920\n",
      "epoch: 198, 학습 정확도: 0.99212, 검증 정확도: 0.95810\n",
      "과대적합 경고 횟수: 0\n",
      "epoch: 199, 학습 정확도: 0.98958, 검증 정확도: 0.95750\n",
      "epoch: 200, 학습 정확도: 0.99086, 검증 정확도: 0.95620\n",
      "과대적합 경고 횟수: 0\n",
      "epoch: 201, 학습 정확도: 0.99164, 검증 정확도: 0.95720\n",
      "과대적합 경고 횟수: 1\n",
      "epoch: 202, 학습 정확도: 0.98914, 검증 정확도: 0.95600\n",
      "epoch: 203, 학습 정확도: 0.98990, 검증 정확도: 0.95510\n",
      "과대적합 경고 횟수: 0\n",
      "epoch: 204, 학습 정확도: 0.99112, 검증 정확도: 0.95840\n",
      "과대적합 경고 횟수: 1\n",
      "epoch: 205, 학습 정확도: 0.99302, 검증 정확도: 0.95880\n",
      "과대적합 경고 횟수: 2\n",
      "epoch: 206, 학습 정확도: 0.99092, 검증 정확도: 0.95810\n",
      "과대적합 경고 횟수: 3\n",
      "epoch: 207, 학습 정확도: 0.99218, 검증 정확도: 0.95690\n",
      "과대적합 경고 횟수: 4\n",
      "epoch: 208, 학습 정확도: 0.98902, 검증 정확도: 0.95440\n",
      "epoch: 209, 학습 정확도: 0.99212, 검증 정확도: 0.95710\n",
      "과대적합 경고 횟수: 0\n",
      "epoch: 210, 학습 정확도: 0.99188, 검증 정확도: 0.95750\n",
      "과대적합 경고 횟수: 1\n",
      "epoch: 211, 학습 정확도: 0.99164, 검증 정확도: 0.95960\n",
      "epoch: 212, 학습 정확도: 0.99178, 검증 정확도: 0.95860\n",
      "과대적합 경고 횟수: 0\n",
      "epoch: 213, 학습 정확도: 0.99176, 검증 정확도: 0.95820\n",
      "과대적합 경고 횟수: 1\n",
      "epoch: 214, 학습 정확도: 0.99260, 검증 정확도: 0.95770\n",
      "과대적합 경고 횟수: 2\n",
      "epoch: 215, 학습 정확도: 0.99202, 검증 정확도: 0.95840\n",
      "과대적합 경고 횟수: 3\n",
      "epoch: 216, 학습 정확도: 0.99272, 검증 정확도: 0.95970\n",
      "epoch: 217, 학습 정확도: 0.99372, 검증 정확도: 0.96020\n",
      "epoch: 218, 학습 정확도: 0.99064, 검증 정확도: 0.95900\n",
      "과대적합 경고 횟수: 0\n",
      "epoch: 219, 학습 정확도: 0.99370, 검증 정확도: 0.96120\n",
      "epoch: 220, 학습 정확도: 0.99348, 검증 정확도: 0.95920\n",
      "과대적합 경고 횟수: 0\n",
      "epoch: 221, 학습 정확도: 0.99290, 검증 정확도: 0.95920\n",
      "과대적합 경고 횟수: 1\n",
      "epoch: 222, 학습 정확도: 0.99330, 검증 정확도: 0.95970\n",
      "과대적합 경고 횟수: 2\n",
      "epoch: 223, 학습 정확도: 0.99240, 검증 정확도: 0.96010\n",
      "과대적합 경고 횟수: 3\n",
      "epoch: 224, 학습 정확도: 0.99320, 검증 정확도: 0.95940\n",
      "과대적합 경고 횟수: 4\n",
      "epoch: 225, 학습 정확도: 0.99468, 검증 정확도: 0.96020\n",
      "조기 종료 시점: 225\n"
     ]
    }
   ],
   "source": [
    "with tf.Session() as sess:\n",
    "    sess.run(init)          # 텐서플로우 변수 초기화\n",
    "    prev_train_acc = 0.0    # 이전 학습 정확도를 기억하는 변수를 선언함\n",
    "    max_val_acc = 0.0       # 검증 정확도의 최대값을 기억하는 변수를 선언함\n",
    "    \n",
    "    # 지정된 최대 epoch 만큼 학습함\n",
    "    # 검증 정확도가 최고 정확도보다 5번 연속으로 높지 않을 경우 학습을 조기 종료함\n",
    "    for epoch in range(epoch_cnt):\n",
    "        avg_loss = 0.0      # 손실값\n",
    "        start = 0           # 학습 시작 위치\n",
    "        end = batch_size    # 학습 끝 위치\n",
    "        \n",
    "        \n",
    "        # 1. 학습 데이터를 batch_size 개씩 나눠 학습을 진행한다.\n",
    "        for i in range(iteration):\n",
    "            _, loss = sess.run([train_op, loss_op], \n",
    "                               feed_dict={x: x_train[start:end], y: y_train[start:end], keep_prob: 0.9})\n",
    "            start += batch_size\n",
    "            end += batch_size\n",
    "            # 크로스 엔트로피 손실 함수의 학습 손실값을 계산한다.\n",
    "            avg_loss += loss / iteration\n",
    "        \n",
    "        \n",
    "        # 2. 모델 검증\n",
    "        preds = tf.nn.softmax(logits) # 소프트맥스 적용\n",
    "        correct_prediction = tf.equal(tf.argmax(preds, 1), tf.argmax(y, 1))\n",
    "        \n",
    "        \n",
    "        # 3. 정확도 계산\n",
    "        accuracy = tf.reduce_mean(tf.cast(correct_prediction, 'float'))\n",
    "        \n",
    "        # 3.1. 학습 정확도 계산\n",
    "        # Session.run()과 Tensor.eval()의 차이\n",
    "        # t가 Tensor 오브젝트라면 t.eval()은 sess.run(t)의 속기 표현이다.(sess가 현재 디폴트 세션인 곳에서만)\n",
    "        cur_train_acc = accuracy.eval({x: x_train, y: y_train, keep_prob: 1.0})\n",
    "        \n",
    "        # 3.2. 검증 정확도 계산\n",
    "        cur_val_acc = accuracy.eval({x: x_val, y: y_val, keep_prob: 1.0})\n",
    "        \n",
    "        # 검증 데이터에 대한 손실값 계산\n",
    "        cur_val_loss = loss_op.eval({x: x_val, y: y_val, keep_prob: 1.0})\n",
    "        \n",
    "        # 학습 정확도와 검증 정확도를 출력한다.\n",
    "        print('epoch: {0:3d}, 학습 정확도: {1:7.5f}, 검증 정확도: {2:7.5f}'.format(epoch, cur_train_acc, cur_val_acc))\n",
    "        \n",
    "        \n",
    "         # 4. 현재 검증 정확도와 검증 정확도의 최대값을 비교한다.\n",
    "        if cur_val_acc < max_val_acc:\n",
    "            \n",
    "            # 현재 검증 정확도가 검증 정확도의 최대값 미만이면\n",
    "            # 현재 학습 정확도와 이전 학습 정확도, 현재 학습 정확도와 0.99를 비교한다.\n",
    "            if cur_train_acc > prev_train_acc or cur_train_acc > 0.99:\n",
    "                \n",
    "                # 현재 학습 정확도가 이전 학습 정확도 보다 크거나 현재 학습 정확도가 0.99 보다 크면\n",
    "                if earlystop_cnt == earlystop_threshold:\n",
    "                    # 5번 연속으로 현재 학습 정확도가 이전 학습 정확도 보다 크면 조기 종료한다.\n",
    "                    print('조기 종료 시점: {}'.format(epoch))\n",
    "                    break\n",
    "                else:\n",
    "                    # 5번 연속으로 현재 학습 정확도가 이전 학습 정확도 보다 크지 않다면 이전 학습 정확도가 현재 학습 정확도\n",
    "                    # 보다 크므로 현재 검증 정확도가 최고 정확도의 최대값보다 연속으로 높지 않은 횟수를 카운트 하는 변수를\n",
    "                    # 1증가 시킨다.\n",
    "                    print('과대적합 경고 횟수: {}'.format(earlystop_cnt))\n",
    "                    earlystop_cnt += 1\n",
    "                # ============================================\n",
    "            \n",
    "            else:\n",
    "                # 현재 학습 정확도가 이전 학습 정확도 보다 작거나, 현재 학습 정확도가 0.99 이하이면\n",
    "                # 이전 학습 정확도가 현재 학습 정확도 이상이므로 현재 검증 정확도가 정확도의 최대값 보다 연속으로 높지 않은\n",
    "                # 횟수를 카운트하는 변수를 다시 0으로 초기화시킨다.\n",
    "                earlystop_cnt = 0\n",
    "            # ============================================\n",
    "        \n",
    "        else:\n",
    "            # 현재 검증 정확도가 검증 정확도의 최대값 이상이면\n",
    "            # 현재 검증 정확도가 검증 정확도의 최대값 보다 연속으로 높지 않은 횟수를 카운트 하는 변수를 다시 0으로 초기화\n",
    "            # 시킨다.\n",
    "            earlystop_cnt = 0\n",
    "            # 검증 정확도의 최대값을 현재 검증 정확도로 교체한다.\n",
    "            max_val_acc = cur_val_acc\n",
    "            # 검증 정확도가 가장 높은 모델을 저장한다.\n",
    "            save_path = saver.save(sess, './model/model.ckpt')\n",
    "        # ============================================\n",
    "        \n",
    "        # 5. 다음 학습을 위해 현재 학습 정확도를 이전 학습 정확도를 기억하는 변수에 넣어준다.\n",
    "        prev_train_acc = cur_train_acc\n",
    "        "
   ]
  },
  {
   "cell_type": "markdown",
   "metadata": {},
   "source": [
    "## 6. 테스트"
   ]
  },
  {
   "cell_type": "code",
   "execution_count": 29,
   "metadata": {},
   "outputs": [
    {
     "name": "stdout",
     "output_type": "stream",
     "text": [
      "INFO:tensorflow:Restoring parameters from ./model/model.ckpt\n",
      "정확도: 0.9937000274658203\n"
     ]
    }
   ],
   "source": [
    "with tf.Session() as sess:\n",
    "    # 검증 결과가 가장 높았던 모델을 불러온다.\n",
    "    saver.restore(sess, './model/model.ckpt')\n",
    "    correct_prediction = tf.equal(tf.argmax(preds, 1), tf.argmax(y, 1))\n",
    "    \n",
    "    # 정확도 계산\n",
    "    accuracy = tf.reduce_mean(tf.cast(correct_prediction, 'float'))\n",
    "    print('정확도: {}'.format(accuracy.eval({x: x_train, y: y_train, keep_prob: 1.0})))\n"
   ]
  },
  {
   "cell_type": "code",
   "execution_count": null,
   "metadata": {},
   "outputs": [],
   "source": []
  },
  {
   "cell_type": "code",
   "execution_count": null,
   "metadata": {},
   "outputs": [],
   "source": []
  },
  {
   "cell_type": "code",
   "execution_count": null,
   "metadata": {},
   "outputs": [],
   "source": []
  }
 ],
 "metadata": {
  "kernelspec": {
   "display_name": "Python 3",
   "language": "python",
   "name": "python3"
  },
  "language_info": {
   "codemirror_mode": {
    "name": "ipython",
    "version": 3
   },
   "file_extension": ".py",
   "mimetype": "text/x-python",
   "name": "python",
   "nbconvert_exporter": "python",
   "pygments_lexer": "ipython3",
   "version": "3.8.5"
  },
  "toc": {
   "base_numbering": 1,
   "nav_menu": {},
   "number_sections": false,
   "sideBar": true,
   "skip_h1_title": false,
   "title_cell": "Table of Contents",
   "title_sidebar": "Contents",
   "toc_cell": false,
   "toc_position": {
    "height": "calc(100% - 180px)",
    "left": "10px",
    "top": "150px",
    "width": "164.985px"
   },
   "toc_section_display": true,
   "toc_window_display": true
  }
 },
 "nbformat": 4,
 "nbformat_minor": 4
}
