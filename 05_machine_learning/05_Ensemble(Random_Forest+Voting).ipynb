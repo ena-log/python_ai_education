{
 "cells": [
  {
   "cell_type": "markdown",
   "metadata": {},
   "source": [
    "# 앙상블(Ensemble)\n",
    "\n",
    "<strong>여러 개의 분류 모델을 조합해서 더 나은 성능을 내는 방법이다.</strong>\n",
    "\n",
    "최근접 이웃, 서포트 백터 머신, 의사결정 트리, 나이브 베이즈 분류 모델을 실습했는데 지금까지 실습한 여러 분류 모델을 조합해서 단일 모델모다 더 좋은 성능을 낸다.\n",
    "\n",
    "***\n",
    "+ 배깅(bagging)\n",
    "\n",
    "    어원은 부트스트랩(bootstrap)과 어그리게이팅(aggregating, 집계)에서 왔고 상당히 연주하기 힘든 바이올린 연주곡을 두세명의 초급 바이올린 연주자가 나누어 연주함으로써 한 명의 중급 바이올린 연주자가 연주하는 것 보다 나은 연주를 할 수 있는 것에 비유할 수 있다.\n",
    "\n",
    "    중금 바이올린 연주자는 나름 잘 학습했지만 학습 데이터에 과대적합된 의사결정 트리라 볼 수 있다. 의사결정 트리의 단점은 쉽게 과적합된다는 것인데 배깅은 과대적합이 쉬운 모델에 상당히 적합한 앙상블이다.\n",
    "\n",
    "\n",
    "+ 부스팅(Boosting)\n",
    "\n",
    "    여러 개의 분류기를 만들어 투표를 통해 예측값을 결정한다는 측면에서는 배깅과 동일하다.\n",
    "\n",
    "    배깅은 서로 다른 알고리즘에 기반한 여러  분류기를 병렬적으로 학습하는 반면에 부스팅은 동이한 알고리즘의 분류기를 순차적으로 학습해서 여러 개의 분류기를 만든 후 테스트할 때 가중 투표를 통해 예측값을 결정한다.\n",
    "\n",
    "***\n",
    "+ 랜덤 포레스트(Random Forest)\n",
    "\n",
    "    여러 의사결정 트리를 배깅을 적용해서 예측을 실행하는 모델이다.\n",
    "    \n",
    "    배깅이 모든 분류 모델에서 적용 가능하지만 특히 과대적합되기 쉬운 의사경정 트리에 적용하면 확실히 과대적합을 줄여 성능이 높아지는 혜택을 보기 때문에 배깅은 많은 의사결정 트리 모델의 개선으 이뤘고  여러 개의 나무들이 모여있다는 개념애서 랜덤 포레스트라는 이름이 생겼다.\n",
    "\n",
    "    의사결정 트리에서는 최적의 특징으로 트리를 분기하는 반면 랭덤 포르스트는 각 노드에 주어진 데이터를 샘플링해서 일부 데이터를 제와한 채 최적의 특징을 찾아 트리를 분기한다. 이러한 과정에서 램덤 포레스트는 또 한 번 모델의 편향을 증갓시켜서 과대적합의 위험을 감소시킨다.\n"
   ]
  },
  {
   "cell_type": "markdown",
   "metadata": {},
   "source": [
    "## 1. Random Forest : MNIST 데이터셋을 통한 모델 비교\n",
    "\n",
    "MNIST 손글씨 데이터셋으로 랜덤 포레스트 모델과 의사결정 트리 모델을 동일하게 학습시켜 두 모델의 성능 차이를 시각화해 비교한다."
   ]
  },
  {
   "cell_type": "markdown",
   "metadata": {},
   "source": [
    "### 1.0.  환경 설정"
   ]
  },
  {
   "cell_type": "code",
   "execution_count": 1,
   "metadata": {},
   "outputs": [],
   "source": [
    "# MNIST 손글씨 데이터셋을 사용하기 위해 import 시킨다. \n",
    "from sklearn import datasets\n",
    "\n",
    "# 의사결정 트리 사용을 위한\n",
    "from sklearn import tree\n",
    "\n",
    "# 랜덤 포레스트 분류기 사용을 위한\n",
    "from sklearn.ensemble import RandomForestClassifier\n",
    "\n",
    "# 교차 검증을 위한 \n",
    "from sklearn.model_selection import cross_val_score\n",
    "\n",
    "import matplotlib.pyplot as plt\n",
    "import pandas as pd\n",
    "import numpy as np"
   ]
  },
  {
   "cell_type": "markdown",
   "metadata": {},
   "source": [
    "### 1.1.  MNIST 손글씨 데이터 불러오기"
   ]
  },
  {
   "cell_type": "code",
   "execution_count": 2,
   "metadata": {},
   "outputs": [
    {
     "data": {
      "text/plain": [
       "(array([[ 0.,  0.,  5., ...,  0.,  0.,  0.],\n",
       "        [ 0.,  0.,  0., ..., 10.,  0.,  0.],\n",
       "        [ 0.,  0.,  0., ..., 16.,  9.,  0.],\n",
       "        ...,\n",
       "        [ 0.,  0.,  1., ...,  6.,  0.,  0.],\n",
       "        [ 0.,  0.,  2., ..., 12.,  0.,  0.],\n",
       "        [ 0.,  0., 10., ..., 12.,  1.,  0.]]),\n",
       " array([0, 1, 2, ..., 8, 9, 8]))"
      ]
     },
     "execution_count": 2,
     "metadata": {},
     "output_type": "execute_result"
    }
   ],
   "source": [
    "mnist = datasets.load_digits()\n",
    "features, labels = mnist.data, mnist.target\n",
    "features, labels"
   ]
  },
  {
   "cell_type": "code",
   "execution_count": 3,
   "metadata": {},
   "outputs": [
    {
     "data": {
      "text/plain": [
       "array([[ 0.,  0.,  5., 13.,  9.,  1.,  0.,  0.],\n",
       "       [ 0.,  0., 13., 15., 10., 15.,  5.,  0.],\n",
       "       [ 0.,  3., 15.,  2.,  0., 11.,  8.,  0.],\n",
       "       [ 0.,  4., 12.,  0.,  0.,  8.,  8.,  0.],\n",
       "       [ 0.,  5.,  8.,  0.,  0.,  9.,  8.,  0.],\n",
       "       [ 0.,  4., 11.,  0.,  1., 12.,  7.,  0.],\n",
       "       [ 0.,  2., 14.,  5., 10., 12.,  0.,  0.],\n",
       "       [ 0.,  0.,  6., 13., 10.,  0.,  0.,  0.]])"
      ]
     },
     "execution_count": 3,
     "metadata": {},
     "output_type": "execute_result"
    }
   ],
   "source": [
    "# features[0].shape # (64, )\n",
    "features[0].reshape(8,8)"
   ]
  },
  {
   "cell_type": "markdown",
   "metadata": {},
   "source": [
    "### 1.2. 교차 검증\n",
    "\n",
    "사이킷런의 cross_val_score() 함수는 데이터를 k개로 나누어 k번 정확도를 검증하는 k-fold 교차 검증을 수행한다.\n",
    "\n",
    "cross_val_score(model, X, y, scoring=None, cv=None)\n",
    "\n",
    "    model : 회귀 분석 모형\n",
    "    X : 독립 변수 데이터 -> 학습 데이터\n",
    "    y : 종속 변수 데잍터 -> 결과\n",
    "    scoring : 성능 검증에 사용할 매개 변수에 원하는 평가 지표를 지정한다. \n",
    "        분류일 경우 정확도를 의미하는 'accuracy'이다.\n",
    "    cv : 교차 검증 생성기 객체 또는 숫자\n",
    "        None이면 k-Fold(3), 숫자 k이면 k-Fold(k)이다."
   ]
  },
  {
   "cell_type": "markdown",
   "metadata": {},
   "source": [
    "#### MNIST 데이터에 대한 랜덤 포레스트와 의사결정 트리의 검증 정확도를 계산하는 함수"
   ]
  },
  {
   "cell_type": "code",
   "execution_count": 4,
   "metadata": {},
   "outputs": [],
   "source": [
    "def cross_validation(classifier, features, labels):\n",
    "    cv_scores = []\n",
    "    \n",
    "    for i in range(10):\n",
    "        scores = cross_val_score(classifier, features, labels, \n",
    "                                 scoring='accuracy', cv=10)\n",
    "        # print(scores)\n",
    "        cv_scores.append(scores.mean())\n",
    "    \n",
    "    return cv_scores"
   ]
  },
  {
   "cell_type": "markdown",
   "metadata": {},
   "source": [
    "#### 의사결정 트리의 MNIST 손글씨 검증 정확도를 계산한다."
   ]
  },
  {
   "cell_type": "code",
   "execution_count": 5,
   "metadata": {},
   "outputs": [
    {
     "name": "stdout",
     "output_type": "stream",
     "text": [
      " 1. 0.82748\n",
      " 2. 0.82802\n",
      " 3. 0.83303\n",
      " 4. 0.81855\n",
      " 5. 0.82527\n",
      " 6. 0.83357\n",
      " 7. 0.83694\n",
      " 8. 0.82970\n",
      " 9. 0.82858\n",
      "10. 0.82248\n"
     ]
    }
   ],
   "source": [
    "dt_cv_scores = cross_validation(tree.DecisionTreeClassifier(), features, labels)\n",
    "# dt_cv_scores\n",
    "\n",
    "for i in range(len(dt_cv_scores)):\n",
    "    print('{0:2d}. {1:7.5f}'.format(i+1, dt_cv_scores[i]))\n"
   ]
  },
  {
   "cell_type": "markdown",
   "metadata": {},
   "source": [
    "#### 랜덤 포레스트의 MNIST 손글씨 검증 정확도를 계산한다."
   ]
  },
  {
   "cell_type": "code",
   "execution_count": 6,
   "metadata": {},
   "outputs": [
    {
     "name": "stdout",
     "output_type": "stream",
     "text": [
      " 1. 0.95603\n",
      " 2. 0.94880\n",
      " 3. 0.94602\n",
      " 4. 0.95102\n",
      " 5. 0.95047\n",
      " 6. 0.94656\n",
      " 7. 0.95157\n",
      " 8. 0.95380\n",
      " 9. 0.95437\n",
      "10. 0.95101\n"
     ]
    }
   ],
   "source": [
    "rf_cv_scores = cross_validation(RandomForestClassifier(), features, labels)\n",
    "# rf_cv_scores\n",
    "\n",
    "for i in range(len(rf_cv_scores)):\n",
    "    print('{0:2d}. {1:7.5f}'.format(i+1, rf_cv_scores[i]))\n"
   ]
  },
  {
   "cell_type": "markdown",
   "metadata": {},
   "source": [
    "### 1.3. 의사결정 트리와 랜덤 포레스트 정확도 시각화"
   ]
  },
  {
   "cell_type": "markdown",
   "metadata": {},
   "source": [
    "예전에 사용하던 방법\n",
    "\n",
    "cv_list = [['decision_tree', dt_cv_scores], ['random_forest', rf_cv_scores]]\n",
    "\n",
    "리스트를 데이터프레임으로 만들어주는 from_item() 메소드가 없어지고 <strong>from_dict()</strong> 메소드가 사용된다.\n",
    "\n",
    "df = pd.DataFrame.from_item(cv_list)"
   ]
  },
  {
   "cell_type": "code",
   "execution_count": 7,
   "metadata": {},
   "outputs": [
    {
     "data": {
      "text/html": [
       "<div>\n",
       "<style scoped>\n",
       "    .dataframe tbody tr th:only-of-type {\n",
       "        vertical-align: middle;\n",
       "    }\n",
       "\n",
       "    .dataframe tbody tr th {\n",
       "        vertical-align: top;\n",
       "    }\n",
       "\n",
       "    .dataframe thead th {\n",
       "        text-align: right;\n",
       "    }\n",
       "</style>\n",
       "<table border=\"1\" class=\"dataframe\">\n",
       "  <thead>\n",
       "    <tr style=\"text-align: right;\">\n",
       "      <th></th>\n",
       "      <th>Decision Tree</th>\n",
       "      <th>Random Forest</th>\n",
       "    </tr>\n",
       "  </thead>\n",
       "  <tbody>\n",
       "    <tr>\n",
       "      <th>0</th>\n",
       "      <td>0.827480</td>\n",
       "      <td>0.956034</td>\n",
       "    </tr>\n",
       "    <tr>\n",
       "      <th>1</th>\n",
       "      <td>0.828017</td>\n",
       "      <td>0.948799</td>\n",
       "    </tr>\n",
       "    <tr>\n",
       "      <th>2</th>\n",
       "      <td>0.833029</td>\n",
       "      <td>0.946021</td>\n",
       "    </tr>\n",
       "    <tr>\n",
       "      <th>3</th>\n",
       "      <td>0.818554</td>\n",
       "      <td>0.951018</td>\n",
       "    </tr>\n",
       "    <tr>\n",
       "      <th>4</th>\n",
       "      <td>0.825270</td>\n",
       "      <td>0.950469</td>\n",
       "    </tr>\n",
       "    <tr>\n",
       "      <th>5</th>\n",
       "      <td>0.833572</td>\n",
       "      <td>0.946564</td>\n",
       "    </tr>\n",
       "    <tr>\n",
       "      <th>6</th>\n",
       "      <td>0.836943</td>\n",
       "      <td>0.951567</td>\n",
       "    </tr>\n",
       "    <tr>\n",
       "      <th>7</th>\n",
       "      <td>0.829696</td>\n",
       "      <td>0.953799</td>\n",
       "    </tr>\n",
       "    <tr>\n",
       "      <th>8</th>\n",
       "      <td>0.828575</td>\n",
       "      <td>0.954370</td>\n",
       "    </tr>\n",
       "    <tr>\n",
       "      <th>9</th>\n",
       "      <td>0.822480</td>\n",
       "      <td>0.951015</td>\n",
       "    </tr>\n",
       "  </tbody>\n",
       "</table>\n",
       "</div>"
      ],
      "text/plain": [
       "   Decision Tree  Random Forest\n",
       "0       0.827480       0.956034\n",
       "1       0.828017       0.948799\n",
       "2       0.833029       0.946021\n",
       "3       0.818554       0.951018\n",
       "4       0.825270       0.950469\n",
       "5       0.833572       0.946564\n",
       "6       0.836943       0.951567\n",
       "7       0.829696       0.953799\n",
       "8       0.828575       0.954370\n",
       "9       0.822480       0.951015"
      ]
     },
     "execution_count": 7,
     "metadata": {},
     "output_type": "execute_result"
    }
   ],
   "source": [
    "# from_dict() 메소드는 딕셔너리를 데이터프레임으로 변경하려 할 경우 사용한다.\n",
    "cv_dict = {'Decision Tree':dt_cv_scores, 'Random Forest':rf_cv_scores}\n",
    "df = pd.DataFrame.from_dict(cv_dict) # df = pd.DataFrame(cv_dict) 와 같음\n",
    "df"
   ]
  },
  {
   "cell_type": "code",
   "execution_count": 8,
   "metadata": {},
   "outputs": [
    {
     "data": {
      "text/plain": [
       "<AxesSubplot:>"
      ]
     },
     "execution_count": 8,
     "metadata": {},
     "output_type": "execute_result"
    },
    {
     "data": {
      "image/png": "[encoded data removed]",
      "text/plain": [
       "<Figure size 432x288 with 1 Axes>"
      ]
     },
     "metadata": {
      "needs_background": "light"
     },
     "output_type": "display_data"
    }
   ],
   "source": [
    "df.plot()"
   ]
  },
  {
   "cell_type": "markdown",
   "metadata": {},
   "source": [
    "정확도"
   ]
  },
  {
   "cell_type": "code",
   "execution_count": 9,
   "metadata": {},
   "outputs": [
    {
     "name": "stdout",
     "output_type": "stream",
     "text": [
      "의사결정 트리 : 0.8283615766604593\n",
      "랜덤포레스트 : 0.950965549348231\n"
     ]
    }
   ],
   "source": [
    "print('의사결정 트리 : {}'.format(np.mean(dt_cv_scores)))\n",
    "print('랜덤포레스트 : {}'.format(np.mean(rf_cv_scores)))"
   ]
  },
  {
   "cell_type": "markdown",
   "metadata": {},
   "source": [
    "> 앙상블을 사용하는 것이 더 좋다."
   ]
  },
  {
   "cell_type": "code",
   "execution_count": null,
   "metadata": {},
   "outputs": [],
   "source": []
  },
  {
   "cell_type": "markdown",
   "metadata": {},
   "source": [
    "## 2. Voting : MNIST 데이터셋을 통한 예측\n",
    "\n",
    "MNIST 손글씨 데이터셋을 사용해 단일 모델들을 앙상블해서 투표룰 통해 예측해본다."
   ]
  },
  {
   "cell_type": "markdown",
   "metadata": {},
   "source": [
    "### 2.0. 환경 설정"
   ]
  },
  {
   "cell_type": "code",
   "execution_count": 20,
   "metadata": {},
   "outputs": [],
   "source": [
    "# MNIST 손글씨 데이터셋을 사용하기 위해 import한다.\n",
    "from sklearn import datasets\n",
    "\n",
    "# kNN 사용을 위한\n",
    "from sklearn.neighbors import KNeighborsClassifier\n",
    "\n",
    "# SVM 사용을 위한\n",
    "from sklearn.svm import SVC\n",
    "\n",
    "# 의사결정 트리 사용을 위한\n",
    "from sklearn import tree\n",
    "\n",
    "# 하드 보팅, 소프트 보팅을 계산한다.\n",
    "from sklearn.ensemble import VotingClassifier\n",
    "\n",
    "# 학습, 검증 데이터 분리를 위한\n",
    "from sklearn.model_selection import train_test_split\n",
    "\n",
    "# 정확도 계산을 위한\n",
    "from sklearn.metrics import accuracy_score\n",
    "\n",
    "# 시각화를 위한\n",
    "import matplotlib.pyplot as plt\n",
    "%matplotlib inline\n",
    "\n",
    "import numpy as np"
   ]
  },
  {
   "cell_type": "markdown",
   "metadata": {},
   "source": [
    "### 2.1. 데이터 불러오기\n",
    "\n",
    "손글씨 데이터를 불러온다."
   ]
  },
  {
   "cell_type": "code",
   "execution_count": 11,
   "metadata": {},
   "outputs": [
    {
     "data": {
      "text/plain": [
       "(array([[ 0.,  0.,  5., ...,  0.,  0.,  0.],\n",
       "        [ 0.,  0.,  0., ..., 10.,  0.,  0.],\n",
       "        [ 0.,  0.,  0., ..., 16.,  9.,  0.],\n",
       "        ...,\n",
       "        [ 0.,  0.,  1., ...,  6.,  0.,  0.],\n",
       "        [ 0.,  0.,  2., ..., 12.,  0.,  0.],\n",
       "        [ 0.,  0., 10., ..., 12.,  1.,  0.]]),\n",
       " array([0, 1, 2, ..., 8, 9, 8]))"
      ]
     },
     "execution_count": 11,
     "metadata": {},
     "output_type": "execute_result"
    }
   ],
   "source": [
    "mnist = datasets.load_digits()\n",
    "features, labels = mnist.data, mnist.target\n",
    "features, labels"
   ]
  },
  {
   "cell_type": "code",
   "execution_count": 12,
   "metadata": {},
   "outputs": [
    {
     "name": "stdout",
     "output_type": "stream",
     "text": [
      "(1797, 64) (1797,)\n"
     ]
    }
   ],
   "source": [
    "print(features.shape, labels.shape)"
   ]
  },
  {
   "cell_type": "markdown",
   "metadata": {},
   "source": [
    "### 2.2. 데이터 나누기 (학습, 테스트)"
   ]
  },
  {
   "cell_type": "code",
   "execution_count": 13,
   "metadata": {},
   "outputs": [
    {
     "name": "stdout",
     "output_type": "stream",
     "text": [
      "학습 데이터 갯수 : 1437, 테스트 데이터 갯수 : 360\n"
     ]
    }
   ],
   "source": [
    "x_train, x_test, y_train, y_test = train_test_split(features, labels, test_size = 0.2)\n",
    "print('학습 데이터 갯수 : {}, 테스트 데이터 갯수 : {}'.format(len(x_train), len(x_test)))\n"
   ]
  },
  {
   "cell_type": "markdown",
   "metadata": {},
   "source": [
    "### 2.3. 단일 모델의 정확도 측정\n",
    "\n",
    "앙상블의 정확도를 측정하기 앞서 단일 모델들의 정확도를 kNN, SVM, 의사결정 트리 분류기를 만들어 정확도를 계산한다."
   ]
  },
  {
   "cell_type": "markdown",
   "metadata": {},
   "source": [
    "의사결정트리 옵션\n",
    "\n",
    "    criterion : split 할 특성 선택 알고리즘\n",
    "        gini : 지니 계수(gini index, 불순도, 집합에 이질적인 것이 얼마나 섞였는가), CART 알고리즘\n",
    "        entropy : 엔트로피(entropy, 복잡도, 불확실성), ID3 알고리즘\n",
    "    max_depth : 트리 최대 길이\n",
    "    max_features : split 할 때 마다 랜덤으로 선택해 그 중 하나를 split 하는데 사용\n",
    "    max_leaf_nodes : 최대 몇 개 leaf 노드가 만들어 질 때 까지 split 할 것인가, 작을수록 가지치기\n",
    "    min_samples_split : 자식 노드가 가지기 위한 최소한의 데이터 개수\n",
    "    min_samples_leaf : 리프 노드의 최소 데이터 개수"
   ]
  },
  {
   "cell_type": "code",
   "execution_count": 14,
   "metadata": {},
   "outputs": [
    {
     "name": "stdout",
     "output_type": "stream",
     "text": [
      "dtree 정확도: 0.8138888888888889\n",
      " knn  정확도: 0.8333333333333334\n",
      " svm  정확도: 0.9305555555555556\n"
     ]
    }
   ],
   "source": [
    "# dtree = tree.DecisionTreeClassifier()\n",
    "dtree = tree.DecisionTreeClassifier(criterion='gini', max_depth=8, max_features=32, random_state=35)\n",
    "dtree = dtree.fit(x_train, y_train)\n",
    "dtree_predicted = dtree.predict(x_test)\n",
    "\n",
    "# n_neighbors : kNN 모델에서 사용할 이웃의 개수를 지정한다.\n",
    "knn = KNeighborsClassifier(n_neighbors=299).fit(x_train, y_train)\n",
    "knn_predicted = knn.predict(x_test)\n",
    "\n",
    "# probability : 확률 추정치를 사용할 지 여부를 지정한다. fit() 메소드를 호출하기 전에 저장해야 하며 실행 속도가 느려진다.\n",
    "svm = SVC(C=0.1, gamma=0.003, probability=True, random_state=35).fit(x_train, y_train)\n",
    "svm_predicted = svm.predict(x_test)\n",
    "\n",
    "# 모델 예측 정확도를 출력한다.\n",
    "print('dtree 정확도: {}'.format(accuracy_score(y_test,dtree_predicted)))\n",
    "print(' knn  정확도: {}'.format(accuracy_score(y_test,knn_predicted)))\n",
    "print(' svm  정확도: {}'.format(accuracy_score(y_test,svm_predicted)))\n"
   ]
  },
  {
   "cell_type": "markdown",
   "metadata": {},
   "source": [
    "확률 합계"
   ]
  },
  {
   "cell_type": "code",
   "execution_count": 15,
   "metadata": {},
   "outputs": [
    {
     "name": "stdout",
     "output_type": "stream",
     "text": [
      "360\n",
      "[0.01262306 0.04303277 0.03536139 0.02416179 0.64317926 0.05644144\n",
      " 0.0195732  0.02592644 0.07986554 0.05983511]\n",
      "확률 합계: 1.0\n"
     ]
    }
   ],
   "source": [
    "svm_proba = svm.predict_proba(x_test)\n",
    "\n",
    "# 테스트 데이터 개수\n",
    "print(len(svm_proba))\n",
    "\n",
    "# print(svm_proba)\n",
    "print(svm_proba[0])\n",
    "\n",
    "total = 0.0\n",
    "for i in svm_proba[0]:\n",
    "    total += i\n",
    "print('확률 합계: {}'.format(total))"
   ]
  },
  {
   "cell_type": "markdown",
   "metadata": {},
   "source": [
    "### 2.4. 하드 보팅\n",
    "\n",
    "하드 보팅은 일반적인 투표와 같이 각 분류기의 예측값들을 모아 가장 많은 투표를 받은 예측값으로 최종 결론을 내리는 방식이다."
   ]
  },
  {
   "cell_type": "code",
   "execution_count": 16,
   "metadata": {},
   "outputs": [
    {
     "name": "stdout",
     "output_type": "stream",
     "text": [
      "hard voting 정확도: 0.925\n"
     ]
    }
   ],
   "source": [
    "voting_clf = VotingClassifier(estimators=[('decision_tree', dtree), ('knn',knn),('svm',svm)],\n",
    "                             weights=[1,1,1], voting='hard').fit(x_train, y_train)\n",
    "\n",
    "hard_voting_predicted = voting_clf.predict(x_test)\n",
    "\n",
    "print('hard voting 정확도: {}'.format(accuracy_score(y_test,hard_voting_predicted)))\n"
   ]
  },
  {
   "cell_type": "markdown",
   "metadata": {},
   "source": [
    "### 2.5. 소프트 보팅"
   ]
  },
  {
   "cell_type": "code",
   "execution_count": 17,
   "metadata": {},
   "outputs": [
    {
     "name": "stdout",
     "output_type": "stream",
     "text": [
      "soft voting 정확도: 0.8861111111111111\n"
     ]
    }
   ],
   "source": [
    "voting_clf = VotingClassifier(estimators=[('decision_tree', dtree), ('knn',knn),('svm',svm)],\n",
    "                             weights=[1,1,1], voting='soft').fit(x_train, y_train)\n",
    "\n",
    "soft_voting_predicted = voting_clf.predict(x_test)\n",
    "\n",
    "print('soft voting 정확도: {}'.format(accuracy_score(y_test,soft_voting_predicted)))\n"
   ]
  },
  {
   "cell_type": "markdown",
   "metadata": {},
   "source": [
    "### 2.6. 단일 모델과 앙상블 모델의 정확도 비교 시각화"
   ]
  },
  {
   "cell_type": "code",
   "execution_count": 21,
   "metadata": {},
   "outputs": [
    {
     "data": {
      "image/png": "[encoded data removed]",
      "text/plain": [
       "<Figure size 432x288 with 1 Axes>"
      ]
     },
     "metadata": {
      "needs_background": "light"
     },
     "output_type": "display_data"
    }
   ],
   "source": [
    "x = np.arange(5)\n",
    "plt.bar(x, height=[accuracy_score(y_test, dtree_predicted),\n",
    "                  accuracy_score(y_test, knn_predicted),\n",
    "                  accuracy_score(y_test, svm_predicted),\n",
    "                  accuracy_score(y_test, hard_voting_predicted),\n",
    "                  accuracy_score(y_test, soft_voting_predicted)])\n",
    "plt.xticks(x, ['decision tree', 'knn', 'svm', 'hard voting', 'soft voting'])\n",
    "plt.show()"
   ]
  },
  {
   "cell_type": "code",
   "execution_count": null,
   "metadata": {},
   "outputs": [],
   "source": []
  },
  {
   "cell_type": "code",
   "execution_count": null,
   "metadata": {},
   "outputs": [],
   "source": []
  },
  {
   "cell_type": "code",
   "execution_count": null,
   "metadata": {},
   "outputs": [],
   "source": []
  }
 ],
 "metadata": {
  "kernelspec": {
   "display_name": "Python 3",
   "language": "python",
   "name": "python3"
  },
  "language_info": {
   "codemirror_mode": {
    "name": "ipython",
    "version": 3
   },
   "file_extension": ".py",
   "mimetype": "text/x-python",
   "name": "python",
   "nbconvert_exporter": "python",
   "pygments_lexer": "ipython3",
   "version": "3.8.5"
  },
  "toc": {
   "base_numbering": 1,
   "nav_menu": {},
   "number_sections": false,
   "sideBar": true,
   "skip_h1_title": false,
   "title_cell": "Table of Contents",
   "title_sidebar": "Contents",
   "toc_cell": false,
   "toc_position": {
    "height": "calc(100% - 180px)",
    "left": "10px",
    "top": "150px",
    "width": "165px"
   },
   "toc_section_display": true,
   "toc_window_display": true
  }
 },
 "nbformat": 4,
 "nbformat_minor": 4
}
