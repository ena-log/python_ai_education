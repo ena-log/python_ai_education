{
 "cells": [
  {
   "cell_type": "code",
   "execution_count": 1,
   "metadata": {},
   "outputs": [],
   "source": [
    "import numpy as np\n",
    "import matplotlib.pyplot as plt"
   ]
  },
  {
   "cell_type": "code",
   "execution_count": 2,
   "metadata": {},
   "outputs": [],
   "source": [
    "def arr_print(arr):\n",
    "    print('type: {}'.format(type(arr)))\n",
    "    print('shape: {}, dimension : {}, dtype : {}'.format(arr.shape, arr.ndim, arr.dtype))\n",
    "    print('numpy 배열의 데이터\\n', arr)"
   ]
  },
  {
   "cell_type": "code",
   "execution_count": 3,
   "metadata": {},
   "outputs": [
    {
     "name": "stdout",
     "output_type": "stream",
     "text": [
      "type: <class 'numpy.ndarray'>\n",
      "shape: (2, 3, 6), dimension : 3, dtype : float64\n",
      "numpy 배열의 데이터\n",
      " [[[0.82408885 0.00201944 0.15593058 0.24140012 0.9172671  0.42745351]\n",
      "  [0.46793922 0.25477915 0.77102061 0.90525019 0.27929307 0.30086193]\n",
      "  [0.02061661 0.57895022 0.161546   0.4066954  0.94172076 0.82596261]]\n",
      "\n",
      " [[0.15536485 0.46535913 0.07808959 0.88002767 0.24065267 0.58371494]\n",
      "  [0.5580266  0.52143883 0.36356923 0.50812262 0.64957727 0.04815799]\n",
      "  [0.79075203 0.42898162 0.09929139 0.79543486 0.56284532 0.04695778]]]\n"
     ]
    }
   ],
   "source": [
    "arr = np.random.random((2,3,6))\n",
    "arr_print(arr)"
   ]
  },
  {
   "cell_type": "code",
   "execution_count": 12,
   "metadata": {},
   "outputs": [
    {
     "name": "stdout",
     "output_type": "stream",
     "text": [
      "배열의 타입 : <class 'numpy.ndarray'>\n",
      "배열의 shape : (2, 3, 6)\n",
      "배열의 길이(면) : 2\n",
      "배열의 길이(행) : 3\n",
      "배열의 길이(열) : 6\n",
      "배열의 차원 : 3\n",
      "배열의 요소 수 : 36\n",
      "배열의 데이터 타입 : float64\n",
      "배열의 데이터 타입 이름 : float64\n"
     ]
    }
   ],
   "source": [
    "print('배열의 타입 : {}'.format(type(arr)))\n",
    "print('배열의 shape : {}'.format(arr.shape))\n",
    "print('배열의 길이(면) : {}'.format(len(arr)))\n",
    "print('배열의 길이(행) : {}'.format(len(arr[0])))\n",
    "print('배열의 길이(열) : {}'.format(len(arr[0][0])))\n",
    "print('배열의 차원 : {}'.format(arr.ndim))\n",
    "print('배열의 요소 수 : {}'.format(arr.size))\n",
    "print('배열의 데이터 타입 : {}'.format(arr.dtype))\n",
    "print('배열의 데이터 타입 이름 : {}'.format(arr.dtype.name))"
   ]
  },
  {
   "cell_type": "code",
   "execution_count": 14,
   "metadata": {},
   "outputs": [
    {
     "name": "stdout",
     "output_type": "stream",
     "text": [
      "[[[0 0 0 0 0 0]\n",
      "  [0 0 0 0 0 0]\n",
      "  [0 0 0 0 0 0]]\n",
      "\n",
      " [[0 0 0 0 0 0]\n",
      "  [0 0 0 0 0 0]\n",
      "  [0 0 0 0 0 0]]]\n",
      "[[[0.82408885 0.00201944 0.15593058 0.24140012 0.9172671  0.42745351]\n",
      "  [0.46793922 0.25477915 0.77102061 0.90525019 0.27929307 0.30086193]\n",
      "  [0.02061661 0.57895022 0.161546   0.4066954  0.94172076 0.82596261]]\n",
      "\n",
      " [[0.15536485 0.46535913 0.07808959 0.88002767 0.24065267 0.58371494]\n",
      "  [0.5580266  0.52143883 0.36356923 0.50812262 0.64957727 0.04815799]\n",
      "  [0.79075203 0.42898162 0.09929139 0.79543486 0.56284532 0.04695778]]]\n"
     ]
    }
   ],
   "source": [
    "print(arr.astype(np.int))\n",
    "print(arr)"
   ]
  },
  {
   "cell_type": "code",
   "execution_count": null,
   "metadata": {},
   "outputs": [],
   "source": []
  }
 ],
 "metadata": {
  "kernelspec": {
   "display_name": "Python 3",
   "language": "python",
   "name": "python3"
  },
  "language_info": {
   "codemirror_mode": {
    "name": "ipython",
    "version": 3
   },
   "file_extension": ".py",
   "mimetype": "text/x-python",
   "name": "python",
   "nbconvert_exporter": "python",
   "pygments_lexer": "ipython3",
   "version": "3.8.5"
  }
 },
 "nbformat": 4,
 "nbformat_minor": 4
}
