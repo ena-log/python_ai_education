{
 "cells": [
  {
   "cell_type": "code",
   "execution_count": 1,
   "metadata": {},
   "outputs": [],
   "source": [
    "import warnings\n",
    "warnings.filterwarnings('ignore')"
   ]
  },
  {
   "cell_type": "code",
   "execution_count": 4,
   "metadata": {},
   "outputs": [],
   "source": [
    "from IPython.display import Image"
   ]
  },
  {
   "cell_type": "code",
   "execution_count": 5,
   "metadata": {},
   "outputs": [
    {
     "name": "stdout",
     "output_type": "stream",
     "text": [
      "1.19.2\n"
     ]
    }
   ],
   "source": [
    "import numpy as np\n",
    "print(np.__version__)"
   ]
  },
  {
   "cell_type": "markdown",
   "metadata": {},
   "source": [
    "### 1. numpy의 reshape() 메소드 사용"
   ]
  },
  {
   "cell_type": "code",
   "execution_count": 19,
   "metadata": {},
   "outputs": [
    {
     "name": "stdout",
     "output_type": "stream",
     "text": [
      "32\n",
      "[ 0  1  2  3  4  5  6  7  8  9 10 11 12 13 14 15 16 17 18 19 20 21 22 23\n",
      " 24 25 26 27 28 29 30 31]\n",
      "<class 'numpy.ndarray'>\n",
      "(32,)\n"
     ]
    }
   ],
   "source": [
    "arr = np.arange(0, 32)\n",
    "print(len(arr))\n",
    "print(arr)\n",
    "print(type(arr))\n",
    "print(arr.shape)"
   ]
  },
  {
   "cell_type": "code",
   "execution_count": 20,
   "metadata": {},
   "outputs": [
    {
     "name": "stdout",
     "output_type": "stream",
     "text": [
      "[[[ 0  1  2  3]\n",
      "  [ 4  5  6  7]]\n",
      "\n",
      " [[ 8  9 10 11]\n",
      "  [12 13 14 15]]\n",
      "\n",
      " [[16 17 18 19]\n",
      "  [20 21 22 23]]\n",
      "\n",
      " [[24 25 26 27]\n",
      "  [28 29 30 31]]]\n",
      "(4, 2, 4)\n"
     ]
    }
   ],
   "source": [
    "arr_reshape = arr.reshape(4, 2, 4)\n",
    "print(arr_reshape)\n",
    "print(arr_reshape.shape)"
   ]
  },
  {
   "cell_type": "markdown",
   "metadata": {},
   "source": [
    "### 2. numpy의 sum() 메소드 사용"
   ]
  },
  {
   "cell_type": "code",
   "execution_count": 26,
   "metadata": {},
   "outputs": [
    {
     "name": "stdout",
     "output_type": "stream",
     "text": [
      "3\n"
     ]
    }
   ],
   "source": [
    "print(arr_reshape.ndim)"
   ]
  },
  {
   "cell_type": "code",
   "execution_count": 28,
   "metadata": {},
   "outputs": [
    {
     "name": "stdout",
     "output_type": "stream",
     "text": [
      "(4, 2, 4)\n",
      "496\n",
      "3\n"
     ]
    }
   ],
   "source": [
    "# axis = None\n",
    "print(arr_reshape.shape)\n",
    "print(arr_reshape.sum())\n",
    "print(arr_reshape.ndim)"
   ]
  },
  {
   "cell_type": "code",
   "execution_count": 31,
   "metadata": {},
   "outputs": [
    {
     "name": "stdout",
     "output_type": "stream",
     "text": [
      "(2, 4)\n",
      "[[48 52 56 60]\n",
      " [64 68 72 76]]\n",
      "2\n"
     ]
    }
   ],
   "source": [
    "# axis = 0\n",
    "arr_reahspe_sum = arr_reshape.sum(axis = 0)\n",
    "print(arr_reahspe_sum.shape)\n",
    "print(arr_reahspe_sum)\n",
    "print(arr_reahspe_sum.ndim)"
   ]
  },
  {
   "cell_type": "code",
   "execution_count": 32,
   "metadata": {},
   "outputs": [
    {
     "name": "stdout",
     "output_type": "stream",
     "text": [
      "(4, 4)\n",
      "[[ 4  6  8 10]\n",
      " [20 22 24 26]\n",
      " [36 38 40 42]\n",
      " [52 54 56 58]]\n",
      "2\n"
     ]
    }
   ],
   "source": [
    "# axis = 1\n",
    "arr_reahspe_sum = arr_reshape.sum(axis = 1)\n",
    "print(arr_reahspe_sum.shape)\n",
    "print(arr_reahspe_sum)\n",
    "print(arr_reahspe_sum.ndim)"
   ]
  },
  {
   "cell_type": "code",
   "execution_count": 33,
   "metadata": {},
   "outputs": [
    {
     "name": "stdout",
     "output_type": "stream",
     "text": [
      "(4, 2)\n",
      "[[  6  22]\n",
      " [ 38  54]\n",
      " [ 70  86]\n",
      " [102 118]]\n",
      "2\n"
     ]
    }
   ],
   "source": [
    "# axis = 2\n",
    "arr_reahspe_sum = arr_reshape.sum(axis = 2)\n",
    "print(arr_reahspe_sum.shape)\n",
    "print(arr_reahspe_sum)\n",
    "print(arr_reahspe_sum.ndim)"
   ]
  },
  {
   "cell_type": "markdown",
   "metadata": {},
   "source": [
    "### 3. numpy의 array() 메소드 사용"
   ]
  },
  {
   "cell_type": "code",
   "execution_count": 6,
   "metadata": {},
   "outputs": [],
   "source": [
    "def arr_print(arr):\n",
    "    print('type: {}'.format(type(arr)))\n",
    "    print('shape: {}, dimension : {}, dtype : {}'.format(arr.shape, arr.ndim, arr.dtype))\n",
    "    print('numpy 배열의 데이터\\n', arr)"
   ]
  },
  {
   "cell_type": "code",
   "execution_count": 12,
   "metadata": {},
   "outputs": [
    {
     "name": "stdout",
     "output_type": "stream",
     "text": [
      "<class 'list'>\n",
      "type: <class 'numpy.ndarray'>\n",
      "shape: (3,), dimension : 1, dtype : int32\n",
      "numpy 배열의 데이터\n",
      " [1 2 3]\n"
     ]
    }
   ],
   "source": [
    "# 1차원 list로 numpy 배열 만들기\n",
    "arr = [1, 2, 3]\n",
    "print(type(arr))\n",
    "arr_arr = np.array(arr)\n",
    "arr_print(arr_arr)"
   ]
  },
  {
   "cell_type": "code",
   "execution_count": 13,
   "metadata": {},
   "outputs": [
    {
     "name": "stdout",
     "output_type": "stream",
     "text": [
      "<class 'list'>\n",
      "type: <class 'numpy.ndarray'>\n",
      "shape: (2, 3), dimension : 2, dtype : float32\n",
      "numpy 배열의 데이터\n",
      " [[1. 2. 3.]\n",
      " [4. 5. 6.]]\n"
     ]
    }
   ],
   "source": [
    "# 2차원 list로 numpy 배열 만들기\n",
    "arr = [[1, 2, 3], [4, 5, 6]]\n",
    "print(type(arr))\n",
    "# arr_np = np.array(arr) # dtype이 암시적으로 int32로 만들어짐\n",
    "# arr_np = np.array(arr, dtype = float) # dtype이 명시적으로 float로 바뀜\n",
    "arr_arr = np.array(arr, dtype = np.float32) # dtype 뒤에 숫자를 적을 시 np를 앞에 작성해야 함\n",
    "arr_print(arr_arr)"
   ]
  },
  {
   "cell_type": "code",
   "execution_count": 37,
   "metadata": {},
   "outputs": [
    {
     "name": "stdout",
     "output_type": "stream",
     "text": [
      "<class 'list'>\n",
      "type: <class 'numpy.ndarray'>\n",
      "shape: (2, 2, 3), dimension : 3, dtype : int32\n",
      "numpy 배열의 데이터\n",
      " [[[ 1  2  3]\n",
      "  [ 4  5  6]]\n",
      "\n",
      " [[11 12 13]\n",
      "  [14 15 16]]]\n"
     ]
    }
   ],
   "source": [
    "# 3차원 list로 numpy 배열 만들기\n",
    "arr = [[[1, 2, 3], [4, 5, 6]] , [[11, 12, 13], [14, 15, 16]]]\n",
    "print(type(arr))\n",
    "arr_arr = np.array(arr, dtype = int)\n",
    "arr_print(arr_arr)"
   ]
  },
  {
   "cell_type": "markdown",
   "metadata": {},
   "source": [
    "### 4. numpy의 zero() 메소드 사용"
   ]
  },
  {
   "cell_type": "code",
   "execution_count": 39,
   "metadata": {},
   "outputs": [
    {
     "name": "stdout",
     "output_type": "stream",
     "text": [
      "type: <class 'numpy.ndarray'>\n",
      "shape: (3, 4), dimension : 2, dtype : float64\n",
      "numpy 배열의 데이터\n",
      " [[0. 0. 0. 0.]\n",
      " [0. 0. 0. 0.]\n",
      " [0. 0. 0. 0.]]\n"
     ]
    }
   ],
   "source": [
    "a = np.zeros(shape=(3,4))\n",
    "arr_print(a)"
   ]
  },
  {
   "cell_type": "code",
   "execution_count": 41,
   "metadata": {},
   "outputs": [
    {
     "name": "stdout",
     "output_type": "stream",
     "text": [
      "type: <class 'numpy.ndarray'>\n",
      "shape: (3, 4), dimension : 2, dtype : int16\n",
      "numpy 배열의 데이터\n",
      " [[0 0 0 0]\n",
      " [0 0 0 0]\n",
      " [0 0 0 0]]\n"
     ]
    }
   ],
   "source": [
    "a = np.zeros(shape=(3,4), dtype = np.int16)\n",
    "arr_print(a)"
   ]
  },
  {
   "cell_type": "markdown",
   "metadata": {},
   "source": [
    "### 5. numpy의 ones() 메소드 사용"
   ]
  },
  {
   "cell_type": "code",
   "execution_count": 45,
   "metadata": {},
   "outputs": [
    {
     "name": "stdout",
     "output_type": "stream",
     "text": [
      "type: <class 'numpy.ndarray'>\n",
      "shape: (2, 3, 4), dimension : 3, dtype : int32\n",
      "numpy 배열의 데이터\n",
      " [[[1 1 1 1]\n",
      "  [1 1 1 1]\n",
      "  [1 1 1 1]]\n",
      "\n",
      " [[1 1 1 1]\n",
      "  [1 1 1 1]\n",
      "  [1 1 1 1]]]\n"
     ]
    }
   ],
   "source": [
    "a = np.ones(shape=(2,3,4), dtype = int)\n",
    "arr_print(a)"
   ]
  },
  {
   "cell_type": "markdown",
   "metadata": {},
   "source": [
    "### 6. numpy의 full() 메소드 사용"
   ]
  },
  {
   "cell_type": "code",
   "execution_count": 49,
   "metadata": {},
   "outputs": [
    {
     "name": "stdout",
     "output_type": "stream",
     "text": [
      "type: <class 'numpy.ndarray'>\n",
      "shape: (2, 3), dimension : 2, dtype : int32\n",
      "numpy 배열의 데이터\n",
      " [[7 7 7]\n",
      " [7 7 7]]\n"
     ]
    }
   ],
   "source": [
    "a = np.full(shape=(2,3), fill_value = 7)\n",
    "arr_print(a)"
   ]
  },
  {
   "cell_type": "markdown",
   "metadata": {},
   "source": [
    "### 7. numpy의 eye() 메소드 사용"
   ]
  },
  {
   "cell_type": "code",
   "execution_count": 50,
   "metadata": {},
   "outputs": [
    {
     "name": "stdout",
     "output_type": "stream",
     "text": [
      "type: <class 'numpy.ndarray'>\n",
      "shape: (5, 5), dimension : 2, dtype : float64\n",
      "numpy 배열의 데이터\n",
      " [[1. 0. 0. 0. 0.]\n",
      " [0. 1. 0. 0. 0.]\n",
      " [0. 0. 1. 0. 0.]\n",
      " [0. 0. 0. 1. 0.]\n",
      " [0. 0. 0. 0. 1.]]\n"
     ]
    }
   ],
   "source": [
    "a = np.eye(5)\n",
    "arr_print(a)"
   ]
  },
  {
   "cell_type": "markdown",
   "metadata": {},
   "source": [
    "### 8. numpy의 empty() 메소드 사용"
   ]
  },
  {
   "cell_type": "code",
   "execution_count": 51,
   "metadata": {},
   "outputs": [
    {
     "name": "stdout",
     "output_type": "stream",
     "text": [
      "type: <class 'numpy.ndarray'>\n",
      "shape: (4, 2), dimension : 2, dtype : float64\n",
      "numpy 배열의 데이터\n",
      " [[1.27319747e-313 2.12199579e-313]\n",
      " [4.66839074e-313 5.51718906e-313]\n",
      " [8.06358401e-313 8.91238232e-313]\n",
      " [1.14587773e-312 1.23075756e-312]]\n"
     ]
    }
   ],
   "source": [
    "a = np.empty(shape=(4,2))\n",
    "arr_print(a)"
   ]
  },
  {
   "cell_type": "markdown",
   "metadata": {},
   "source": [
    "### 9. numpy의 like() 메소드 사용"
   ]
  },
  {
   "cell_type": "code",
   "execution_count": 52,
   "metadata": {},
   "outputs": [
    {
     "name": "stdout",
     "output_type": "stream",
     "text": [
      "type: <class 'numpy.ndarray'>\n",
      "shape: (2, 3), dimension : 2, dtype : int32\n",
      "numpy 배열의 데이터\n",
      " [[1 2 3]\n",
      " [4 5 6]]\n"
     ]
    }
   ],
   "source": [
    "a = np.array([[1,2,3],[4,5,6]])\n",
    "arr_print(a)"
   ]
  },
  {
   "cell_type": "code",
   "execution_count": 53,
   "metadata": {},
   "outputs": [
    {
     "name": "stdout",
     "output_type": "stream",
     "text": [
      "type: <class 'numpy.ndarray'>\n",
      "shape: (2, 3), dimension : 2, dtype : int32\n",
      "numpy 배열의 데이터\n",
      " [[0 0 0]\n",
      " [0 0 0]]\n"
     ]
    }
   ],
   "source": [
    "a_zeros = np.zeros_like(a)\n",
    "arr_print(a_zeros)"
   ]
  },
  {
   "cell_type": "code",
   "execution_count": 54,
   "metadata": {},
   "outputs": [
    {
     "name": "stdout",
     "output_type": "stream",
     "text": [
      "type: <class 'numpy.ndarray'>\n",
      "shape: (2, 3), dimension : 2, dtype : int32\n",
      "numpy 배열의 데이터\n",
      " [[1 1 1]\n",
      " [1 1 1]]\n"
     ]
    }
   ],
   "source": [
    "a_ones = np.ones_like(a)\n",
    "arr_print(a_ones)"
   ]
  },
  {
   "cell_type": "code",
   "execution_count": 56,
   "metadata": {},
   "outputs": [
    {
     "name": "stdout",
     "output_type": "stream",
     "text": [
      "type: <class 'numpy.ndarray'>\n",
      "shape: (2, 3), dimension : 2, dtype : int32\n",
      "numpy 배열의 데이터\n",
      " [[999 999 999]\n",
      " [999 999 999]]\n"
     ]
    }
   ],
   "source": [
    "a_full = np.full_like(a, 999)\n",
    "arr_print(a_full)"
   ]
  },
  {
   "cell_type": "code",
   "execution_count": 57,
   "metadata": {},
   "outputs": [
    {
     "name": "stdout",
     "output_type": "stream",
     "text": [
      "type: <class 'numpy.ndarray'>\n",
      "shape: (2, 3), dimension : 2, dtype : int32\n",
      "numpy 배열의 데이터\n",
      " [[180270816       336         0]\n",
      " [        0         1 677733225]]\n"
     ]
    }
   ],
   "source": [
    "a_empty = np.empty_like(a)\n",
    "arr_print(a_empty)"
   ]
  },
  {
   "cell_type": "code",
   "execution_count": null,
   "metadata": {},
   "outputs": [],
   "source": []
  }
 ],
 "metadata": {
  "kernelspec": {
   "display_name": "Python 3",
   "language": "python",
   "name": "python3"
  },
  "language_info": {
   "codemirror_mode": {
    "name": "ipython",
    "version": 3
   },
   "file_extension": ".py",
   "mimetype": "text/x-python",
   "name": "python",
   "nbconvert_exporter": "python",
   "pygments_lexer": "ipython3",
   "version": "3.8.5"
  }
 },
 "nbformat": 4,
 "nbformat_minor": 4
}
