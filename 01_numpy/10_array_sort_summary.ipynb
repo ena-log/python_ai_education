{
 "cells": [
  {
   "cell_type": "code",
   "execution_count": 2,
   "metadata": {},
   "outputs": [],
   "source": [
    "import warnings\n",
    "warnings.filterwarnings('ignore')\n",
    "from IPython.display import Image\n",
    "\n",
    "import numpy as np\n",
    "import matplotlib.pyplot as plt"
   ]
  },
  {
   "cell_type": "code",
   "execution_count": 3,
   "metadata": {},
   "outputs": [],
   "source": [
    "def arr_print(arr):\n",
    "    print('type: {}'.format(type(arr)))\n",
    "    print('shape: {}, dimension : {}, dtype : {}'.format(arr.shape, arr.ndim, arr.dtype))\n",
    "    print('numpy 배열의 데이터\\n', arr)"
   ]
  },
  {
   "cell_type": "code",
   "execution_count": null,
   "metadata": {},
   "outputs": [],
   "source": []
  },
  {
   "cell_type": "code",
   "execution_count": 13,
   "metadata": {},
   "outputs": [
    {
     "name": "stdout",
     "output_type": "stream",
     "text": [
      "type: <class 'numpy.ndarray'>\n",
      "shape: (3, 3), dimension : 2, dtype : float64\n",
      "numpy 배열의 데이터\n",
      " [[0.15385632 0.01183112 0.51515856]\n",
      " [0.81651242 0.69952573 0.94975273]\n",
      " [0.63214397 0.26688611 0.09803005]]\n"
     ]
    }
   ],
   "source": [
    "unsorted_arr = np.random.random((3,3))\n",
    "arr_print(unsorted_arr)"
   ]
  },
  {
   "cell_type": "code",
   "execution_count": 9,
   "metadata": {},
   "outputs": [],
   "source": [
    "unsorted_arr1 = unsorted_arr.copy()\n",
    "unsorted_arr2 = unsorted_arr.copy()\n",
    "unsorted_arr3 = unsorted_arr.copy()"
   ]
  },
  {
   "cell_type": "code",
   "execution_count": 14,
   "metadata": {},
   "outputs": [
    {
     "name": "stdout",
     "output_type": "stream",
     "text": [
      "type: <class 'numpy.ndarray'>\n",
      "shape: (3, 3), dimension : 2, dtype : float64\n",
      "numpy 배열의 데이터\n",
      " [[0.08042216 0.43157323 0.55062808]\n",
      " [0.10996733 0.22640553 0.44447398]\n",
      " [0.08086576 0.35740032 0.93091584]]\n"
     ]
    }
   ],
   "source": [
    "unsorted_arr1.sort()\n",
    "arr_print(unsorted_arr1)"
   ]
  },
  {
   "cell_type": "code",
   "execution_count": 15,
   "metadata": {},
   "outputs": [
    {
     "name": "stdout",
     "output_type": "stream",
     "text": [
      "type: <class 'numpy.ndarray'>\n",
      "shape: (3, 3), dimension : 2, dtype : float64\n",
      "numpy 배열의 데이터\n",
      " [[0.08086576 0.35740032 0.08042216]\n",
      " [0.10996733 0.43157323 0.22640553]\n",
      " [0.55062808 0.44447398 0.93091584]]\n"
     ]
    }
   ],
   "source": [
    "unsorted_arr2.sort(axis = 0)\n",
    "arr_print(unsorted_arr2)"
   ]
  },
  {
   "cell_type": "code",
   "execution_count": 16,
   "metadata": {},
   "outputs": [
    {
     "name": "stdout",
     "output_type": "stream",
     "text": [
      "type: <class 'numpy.ndarray'>\n",
      "shape: (3, 3), dimension : 2, dtype : float64\n",
      "numpy 배열의 데이터\n",
      " [[0.08086576 0.35740032 0.08042216]\n",
      " [0.10996733 0.43157323 0.22640553]\n",
      " [0.55062808 0.44447398 0.93091584]]\n"
     ]
    }
   ],
   "source": [
    "unsorted_arr3.sort(axis = 1)\n",
    "arr_print(unsorted_arr2)"
   ]
  },
  {
   "cell_type": "code",
   "execution_count": null,
   "metadata": {},
   "outputs": [],
   "source": []
  }
 ],
 "metadata": {
  "kernelspec": {
   "display_name": "Python 3",
   "language": "python",
   "name": "python3"
  },
  "language_info": {
   "codemirror_mode": {
    "name": "ipython",
    "version": 3
   },
   "file_extension": ".py",
   "mimetype": "text/x-python",
   "name": "python",
   "nbconvert_exporter": "python",
   "pygments_lexer": "ipython3",
   "version": "3.8.5"
  }
 },
 "nbformat": 4,
 "nbformat_minor": 4
}
