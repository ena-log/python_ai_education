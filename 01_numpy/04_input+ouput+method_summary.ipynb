{
 "cells": [
  {
   "cell_type": "code",
   "execution_count": 1,
   "metadata": {},
   "outputs": [],
   "source": [
    "import warnings\n",
    "warnings.filterwarnings('ignore')\n",
    "from IPython.display import Image\n",
    "\n",
    "import numpy as np\n",
    "import matplotlib.pyplot as plt"
   ]
  },
  {
   "cell_type": "code",
   "execution_count": 2,
   "metadata": {},
   "outputs": [],
   "source": [
    "def arr_print(arr):\n",
    "    print('type: {}'.format(type(arr)))\n",
    "    print('shape: {}, dimension : {}, dtype : {}'.format(arr.shape, arr.ndim, arr.dtype))\n",
    "    print('numpy 배열의 데이터\\n', arr)"
   ]
  },
  {
   "cell_type": "markdown",
   "metadata": {},
   "source": [
    "### 1. numpy의 save(), savez() 메소드  사용"
   ]
  },
  {
   "cell_type": "code",
   "execution_count": 9,
   "metadata": {},
   "outputs": [
    {
     "name": "stdout",
     "output_type": "stream",
     "text": [
      "type: <class 'numpy.ndarray'>\n",
      "shape: (2, 3), dimension : 2, dtype : int32\n",
      "numpy 배열의 데이터\n",
      " [[5 3 4]\n",
      " [7 8 1]]\n",
      "type: <class 'numpy.ndarray'>\n",
      "shape: (2, 3), dimension : 2, dtype : int32\n",
      "numpy 배열의 데이터\n",
      " [[0 1 7]\n",
      " [6 6 8]]\n"
     ]
    }
   ],
   "source": [
    "a = np.random.randint(0, 10, (2,3))\n",
    "arr_print(a)\n",
    "b = np.random.randint(0, 10, (2,3))\n",
    "arr_print(b)"
   ]
  },
  {
   "cell_type": "code",
   "execution_count": 5,
   "metadata": {},
   "outputs": [],
   "source": [
    "np.save('.\\output\\my_arr1', a)\n",
    "np.savez('.\\output\\my_arr2', a, b)"
   ]
  },
  {
   "cell_type": "code",
   "execution_count": 8,
   "metadata": {},
   "outputs": [
    {
     "name": "stdout",
     "output_type": "stream",
     "text": [
      "[[6 0 4]\n",
      " [2 4 5]]\n",
      "<numpy.lib.npyio.NpzFile object at 0x000001D600B645E0>\n",
      "[[6 0 4]\n",
      " [2 4 5]]\n",
      "[[9 1 8]\n",
      " [4 9 2]]\n"
     ]
    }
   ],
   "source": [
    "print(np.load('.\\output\\my_arr1.npy'))\n",
    "\n",
    "print(np.load('.\\output\\my_arr2.npz')) # <numpy.lib.npyio.NpzFile object at 0x000001D67EF6D340>\n",
    "npzfiles = np.load('.\\output\\my_arr2.npz')\n",
    "print(npzfiles['arr_0'])\n",
    "print(npzfiles['arr_1'])"
   ]
  },
  {
   "cell_type": "markdown",
   "metadata": {},
   "source": [
    "### 2. numpy의 savetxt() 메소드 사용"
   ]
  },
  {
   "cell_type": "code",
   "execution_count": 10,
   "metadata": {},
   "outputs": [
    {
     "name": "stdout",
     "output_type": "stream",
     "text": [
      "type: <class 'numpy.ndarray'>\n",
      "shape: (3, 4), dimension : 2, dtype : float64\n",
      "numpy 배열의 데이터\n",
      " [[0.39741915 0.56133952 0.33320376 0.48223088]\n",
      " [0.30061181 0.40566189 0.6787462  0.59570582]\n",
      " [0.70687067 0.07743368 0.35567876 0.40876927]]\n"
     ]
    }
   ],
   "source": [
    "data = np.random.random((3,4))\n",
    "arr_print(data)"
   ]
  },
  {
   "cell_type": "code",
   "execution_count": 13,
   "metadata": {},
   "outputs": [],
   "source": [
    "np.savetxt('./output/saved.csv', data, delimiter=',')\n",
    "np.savetxt('./output/saved.tsv', data, delimiter='\\t')"
   ]
  },
  {
   "cell_type": "code",
   "execution_count": 20,
   "metadata": {},
   "outputs": [
    {
     "name": "stdout",
     "output_type": "stream",
     "text": [
      "[[0.39741915 0.56133952 0.33320376 0.48223088]\n",
      " [0.30061181 0.40566189 0.6787462  0.59570582]\n",
      " [0.70687067 0.07743368 0.35567876 0.40876927]]\n"
     ]
    }
   ],
   "source": [
    "print(np.loadtxt('./output/saved.csv', dtype=float, delimiter=','))"
   ]
  },
  {
   "cell_type": "code",
   "execution_count": null,
   "metadata": {},
   "outputs": [],
   "source": []
  }
 ],
 "metadata": {
  "kernelspec": {
   "display_name": "Python 3",
   "language": "python",
   "name": "python3"
  },
  "language_info": {
   "codemirror_mode": {
    "name": "ipython",
    "version": 3
   },
   "file_extension": ".py",
   "mimetype": "text/x-python",
   "name": "python",
   "nbconvert_exporter": "python",
   "pygments_lexer": "ipython3",
   "version": "3.8.5"
  }
 },
 "nbformat": 4,
 "nbformat_minor": 4
}
