{
 "cells": [
  {
   "cell_type": "markdown",
   "metadata": {},
   "source": [
    "## 배열 변환"
   ]
  },
  {
   "cell_type": "code",
   "execution_count": 1,
   "metadata": {},
   "outputs": [],
   "source": [
    "import warnings\n",
    "warnings.filterwarnings('ignore')\n",
    "from IPython.display import Image\n",
    "\n",
    "import numpy as np\n",
    "import matplotlib.pyplot as plt"
   ]
  },
  {
   "cell_type": "code",
   "execution_count": 2,
   "metadata": {},
   "outputs": [],
   "source": [
    "def arr_print(arr):\n",
    "    print('type: {}'.format(type(arr)))\n",
    "    print('shape: {}, dimension : {}, dtype : {}'.format(arr.shape, arr.ndim, arr.dtype))\n",
    "    print('numpy 배열의 데이터\\n', arr)"
   ]
  },
  {
   "cell_type": "markdown",
   "metadata": {},
   "source": [
    "### 1. 전치"
   ]
  },
  {
   "cell_type": "code",
   "execution_count": 3,
   "metadata": {},
   "outputs": [
    {
     "name": "stdout",
     "output_type": "stream",
     "text": [
      "type: <class 'numpy.ndarray'>\n",
      "shape: (2, 3), dimension : 2, dtype : int32\n",
      "numpy 배열의 데이터\n",
      " [[3 5 9]\n",
      " [2 2 7]]\n"
     ]
    }
   ],
   "source": [
    "a = np.random.randint(1,10,(2,3))\n",
    "arr_print(a)"
   ]
  },
  {
   "cell_type": "code",
   "execution_count": 4,
   "metadata": {},
   "outputs": [
    {
     "name": "stdout",
     "output_type": "stream",
     "text": [
      "type: <class 'numpy.ndarray'>\n",
      "shape: (3, 2), dimension : 2, dtype : int32\n",
      "numpy 배열의 데이터\n",
      " [[3 2]\n",
      " [5 2]\n",
      " [9 7]]\n"
     ]
    }
   ],
   "source": [
    "arr_print(a.T)"
   ]
  },
  {
   "cell_type": "code",
   "execution_count": null,
   "metadata": {},
   "outputs": [],
   "source": []
  },
  {
   "cell_type": "markdown",
   "metadata": {},
   "source": [
    "### 2. 배열 형태 변경"
   ]
  },
  {
   "cell_type": "markdown",
   "metadata": {},
   "source": [
    "ravel()"
   ]
  },
  {
   "cell_type": "code",
   "execution_count": 5,
   "metadata": {},
   "outputs": [
    {
     "name": "stdout",
     "output_type": "stream",
     "text": [
      "type: <class 'numpy.ndarray'>\n",
      "shape: (2, 3), dimension : 2, dtype : int32\n",
      "numpy 배열의 데이터\n",
      " [[7 4 6]\n",
      " [2 4 5]]\n",
      "type: <class 'numpy.ndarray'>\n",
      "shape: (6,), dimension : 1, dtype : int32\n",
      "numpy 배열의 데이터\n",
      " [7 4 6 2 4 5]\n"
     ]
    }
   ],
   "source": [
    "a = np.random.randint(1,10,(2,3))\n",
    "arr_print(a)\n",
    "arr_print(a.ravel())"
   ]
  },
  {
   "cell_type": "code",
   "execution_count": 6,
   "metadata": {},
   "outputs": [
    {
     "name": "stdout",
     "output_type": "stream",
     "text": [
      "type: <class 'numpy.ndarray'>\n",
      "shape: (6,), dimension : 1, dtype : int32\n",
      "numpy 배열의 데이터\n",
      " [7 4 6 2 4 5]\n",
      "type: <class 'numpy.ndarray'>\n",
      "shape: (6,), dimension : 1, dtype : int32\n",
      "numpy 배열의 데이터\n",
      " [999   4   6   2   4   5]\n",
      "type: <class 'numpy.ndarray'>\n",
      "shape: (2, 3), dimension : 2, dtype : int32\n",
      "numpy 배열의 데이터\n",
      " [[999   4   6]\n",
      " [  2   4   5]]\n"
     ]
    }
   ],
   "source": [
    "b = a.ravel()\n",
    "arr_print(b)\n",
    "b[0] = 999\n",
    "arr_print(b)\n",
    "arr_print(a)"
   ]
  },
  {
   "cell_type": "markdown",
   "metadata": {},
   "source": [
    "reshape()"
   ]
  },
  {
   "cell_type": "code",
   "execution_count": 7,
   "metadata": {},
   "outputs": [
    {
     "name": "stdout",
     "output_type": "stream",
     "text": [
      "type: <class 'numpy.ndarray'>\n",
      "shape: (2, 3), dimension : 2, dtype : int32\n",
      "numpy 배열의 데이터\n",
      " [[6 1 6]\n",
      " [6 3 1]]\n",
      "type: <class 'numpy.ndarray'>\n",
      "shape: (3, 2, 1), dimension : 3, dtype : int32\n",
      "numpy 배열의 데이터\n",
      " [[[6]\n",
      "  [1]]\n",
      "\n",
      " [[6]\n",
      "  [6]]\n",
      "\n",
      " [[3]\n",
      "  [1]]]\n",
      "type: <class 'numpy.ndarray'>\n",
      "shape: (3, 2, 1), dimension : 3, dtype : int32\n",
      "numpy 배열의 데이터\n",
      " [[[999]\n",
      "  [  1]]\n",
      "\n",
      " [[  6]\n",
      "  [  6]]\n",
      "\n",
      " [[  3]\n",
      "  [  1]]]\n",
      "type: <class 'numpy.ndarray'>\n",
      "shape: (2, 3), dimension : 2, dtype : int32\n",
      "numpy 배열의 데이터\n",
      " [[999   1   6]\n",
      " [  6   3   1]]\n"
     ]
    }
   ],
   "source": [
    "a = np.random.randint(1,10,(2,3))\n",
    "arr_print(a)\n",
    "b = a.reshape(3,2,1)\n",
    "arr_print(b)\n",
    "b[0][0][0] = 999\n",
    "arr_print(b)\n",
    "arr_print(a)"
   ]
  },
  {
   "cell_type": "markdown",
   "metadata": {},
   "source": [
    "resize()"
   ]
  },
  {
   "cell_type": "code",
   "execution_count": 8,
   "metadata": {},
   "outputs": [
    {
     "name": "stdout",
     "output_type": "stream",
     "text": [
      "type: <class 'numpy.ndarray'>\n",
      "shape: (2, 6), dimension : 2, dtype : int32\n",
      "numpy 배열의 데이터\n",
      " [[9 7 8 3 3 4]\n",
      " [8 7 8 1 4 3]]\n",
      "type: <class 'numpy.ndarray'>\n",
      "shape: (6, 2), dimension : 2, dtype : int32\n",
      "numpy 배열의 데이터\n",
      " [[9 7]\n",
      " [8 3]\n",
      " [3 4]\n",
      " [8 7]\n",
      " [8 1]\n",
      " [4 3]]\n",
      "type: <class 'numpy.ndarray'>\n",
      "shape: (6, 2), dimension : 2, dtype : int32\n",
      "numpy 배열의 데이터\n",
      " [[9 7]\n",
      " [8 3]\n",
      " [3 4]\n",
      " [8 7]\n",
      " [8 1]\n",
      " [4 3]]\n"
     ]
    }
   ],
   "source": [
    "a = np.random.randint(1,10,(2,6))\n",
    "arr_print(a)\n",
    "b = np.resize(a, (6,2))\n",
    "arr_print(b)\n",
    "a.resize((6,2))\n",
    "arr_print(a)"
   ]
  },
  {
   "cell_type": "code",
   "execution_count": 9,
   "metadata": {},
   "outputs": [
    {
     "ename": "ValueError",
     "evalue": "cannot reshape array of size 12 into shape (2,10)",
     "output_type": "error",
     "traceback": [
      "\u001b[1;31m---------------------------------------------------------------------------\u001b[0m",
      "\u001b[1;31mValueError\u001b[0m                                Traceback (most recent call last)",
      "\u001b[1;32m<ipython-input-9-13dc4c303cfa>\u001b[0m in \u001b[0;36m<module>\u001b[1;34m\u001b[0m\n\u001b[1;32m----> 1\u001b[1;33m \u001b[0ma\u001b[0m\u001b[1;33m.\u001b[0m\u001b[0mreshape\u001b[0m\u001b[1;33m(\u001b[0m\u001b[1;36m2\u001b[0m\u001b[1;33m,\u001b[0m\u001b[1;36m10\u001b[0m\u001b[1;33m)\u001b[0m\u001b[1;33m\u001b[0m\u001b[1;33m\u001b[0m\u001b[0m\n\u001b[0m\u001b[0;32m      2\u001b[0m \u001b[0marr_print\u001b[0m\u001b[1;33m(\u001b[0m\u001b[0ma\u001b[0m\u001b[1;33m)\u001b[0m\u001b[1;33m\u001b[0m\u001b[1;33m\u001b[0m\u001b[0m\n",
      "\u001b[1;31mValueError\u001b[0m: cannot reshape array of size 12 into shape (2,10)"
     ]
    }
   ],
   "source": [
    "a.reshape(2,10)\n",
    "arr_print(a)"
   ]
  },
  {
   "cell_type": "code",
   "execution_count": 10,
   "metadata": {},
   "outputs": [
    {
     "name": "stdout",
     "output_type": "stream",
     "text": [
      "type: <class 'numpy.ndarray'>\n",
      "shape: (2, 10), dimension : 2, dtype : int32\n",
      "numpy 배열의 데이터\n",
      " [[9 7 8 3 3 4 8 7 8 1]\n",
      " [4 3 0 0 0 0 0 0 0 0]]\n"
     ]
    }
   ],
   "source": [
    "a.resize(2,10)\n",
    "arr_print(a)"
   ]
  },
  {
   "cell_type": "code",
   "execution_count": 11,
   "metadata": {
    "scrolled": true
   },
   "outputs": [
    {
     "name": "stdout",
     "output_type": "stream",
     "text": [
      "type: <class 'numpy.ndarray'>\n",
      "shape: (2, 4), dimension : 2, dtype : int32\n",
      "numpy 배열의 데이터\n",
      " [[9 7 8 3]\n",
      " [3 4 8 7]]\n"
     ]
    }
   ],
   "source": [
    "a.resize(2,4)\n",
    "arr_print(a)"
   ]
  },
  {
   "cell_type": "code",
   "execution_count": null,
   "metadata": {},
   "outputs": [],
   "source": []
  },
  {
   "cell_type": "markdown",
   "metadata": {},
   "source": [
    "### 3. 배열 요소 추가"
   ]
  },
  {
   "cell_type": "markdown",
   "metadata": {},
   "source": [
    "append()"
   ]
  },
  {
   "cell_type": "code",
   "execution_count": 13,
   "metadata": {},
   "outputs": [
    {
     "name": "stdout",
     "output_type": "stream",
     "text": [
      "type: <class 'numpy.ndarray'>\n",
      "shape: (3, 3), dimension : 2, dtype : int32\n",
      "numpy 배열의 데이터\n",
      " [[9 6 9]\n",
      " [4 7 8]\n",
      " [5 9 2]]\n",
      "type: <class 'numpy.ndarray'>\n",
      "shape: (3, 3), dimension : 2, dtype : int32\n",
      "numpy 배열의 데이터\n",
      " [[18 11 13]\n",
      " [13 10 14]\n",
      " [11 14 11]]\n"
     ]
    }
   ],
   "source": [
    "a = np.random.randint(1,10,(3,3))\n",
    "arr_print(a)\n",
    "b = np.random.randint(10,19,(3,3))\n",
    "arr_print(b)"
   ]
  },
  {
   "cell_type": "code",
   "execution_count": 15,
   "metadata": {},
   "outputs": [
    {
     "name": "stdout",
     "output_type": "stream",
     "text": [
      "type: <class 'numpy.ndarray'>\n",
      "shape: (18,), dimension : 1, dtype : int32\n",
      "numpy 배열의 데이터\n",
      " [ 9  6  9  4  7  8  5  9  2 18 11 13 13 10 14 11 14 11]\n"
     ]
    }
   ],
   "source": [
    "# axis를 지정하지 않은 경우\n",
    "result = np.append(a,b)\n",
    "arr_print(result)"
   ]
  },
  {
   "cell_type": "code",
   "execution_count": 17,
   "metadata": {},
   "outputs": [
    {
     "name": "stdout",
     "output_type": "stream",
     "text": [
      "type: <class 'numpy.ndarray'>\n",
      "shape: (6, 3), dimension : 2, dtype : int32\n",
      "numpy 배열의 데이터\n",
      " [[ 9  6  9]\n",
      " [ 4  7  8]\n",
      " [ 5  9  2]\n",
      " [18 11 13]\n",
      " [13 10 14]\n",
      " [11 14 11]]\n",
      "a의 shape : (3, 3), a의 shape[0]: 3, a의 shape[1]: 3\n"
     ]
    }
   ],
   "source": [
    "# axis = 0으로 지정한 경우\n",
    "result = np.append(a,b, axis=0)\n",
    "arr_print(result)\n",
    "\n",
    "print('a의 shape : {}, a의 shape[0]: {}, a의 shape[1]: {}'.format(a.shape, a.shape[0], a.shape[1]))"
   ]
  },
  {
   "cell_type": "code",
   "execution_count": 18,
   "metadata": {},
   "outputs": [
    {
     "name": "stdout",
     "output_type": "stream",
     "text": [
      "type: <class 'numpy.ndarray'>\n",
      "shape: (3, 6), dimension : 2, dtype : int32\n",
      "numpy 배열의 데이터\n",
      " [[ 9  6  9 18 11 13]\n",
      " [ 4  7  8 13 10 14]\n",
      " [ 5  9  2 11 14 11]]\n"
     ]
    }
   ],
   "source": [
    "# axis = 1으로 지정한 경우\n",
    "result = np.append(a,b, axis=1)\n",
    "arr_print(result)"
   ]
  },
  {
   "cell_type": "markdown",
   "metadata": {},
   "source": [
    "insert()"
   ]
  },
  {
   "cell_type": "code",
   "execution_count": 19,
   "metadata": {},
   "outputs": [
    {
     "name": "stdout",
     "output_type": "stream",
     "text": [
      "type: <class 'numpy.ndarray'>\n",
      "shape: (3, 3), dimension : 2, dtype : int32\n",
      "numpy 배열의 데이터\n",
      " [[3 2 1]\n",
      " [4 1 4]\n",
      " [5 6 7]]\n"
     ]
    }
   ],
   "source": [
    "a = np.random.randint(1, 10, (3,3))\n",
    "arr_print(a)"
   ]
  },
  {
   "cell_type": "code",
   "execution_count": 21,
   "metadata": {},
   "outputs": [
    {
     "name": "stdout",
     "output_type": "stream",
     "text": [
      "type: <class 'numpy.ndarray'>\n",
      "shape: (10,), dimension : 1, dtype : int32\n",
      "numpy 배열의 데이터\n",
      " [   3 9999    2    1    4    1    4    5    6    7]\n",
      "type: <class 'numpy.ndarray'>\n",
      "shape: (4, 3), dimension : 2, dtype : int32\n",
      "numpy 배열의 데이터\n",
      " [[   3    2    1]\n",
      " [9999 9999 9999]\n",
      " [   4    1    4]\n",
      " [   5    6    7]]\n",
      "type: <class 'numpy.ndarray'>\n",
      "shape: (3, 4), dimension : 2, dtype : int32\n",
      "numpy 배열의 데이터\n",
      " [[   3 9999    2    1]\n",
      " [   4 9999    1    4]\n",
      " [   5 9999    6    7]]\n"
     ]
    }
   ],
   "source": [
    "arr_print(np.insert(a,1, 9999))\n",
    "arr_print(np.insert(a,1, 9999, axis=0))\n",
    "arr_print(np.insert(a,1, 9999, axis=1))"
   ]
  },
  {
   "cell_type": "code",
   "execution_count": null,
   "metadata": {},
   "outputs": [],
   "source": []
  },
  {
   "cell_type": "markdown",
   "metadata": {},
   "source": [
    "### 4. 배열 요소 삭제"
   ]
  },
  {
   "cell_type": "markdown",
   "metadata": {},
   "source": [
    "delete()"
   ]
  },
  {
   "cell_type": "code",
   "execution_count": 22,
   "metadata": {},
   "outputs": [
    {
     "name": "stdout",
     "output_type": "stream",
     "text": [
      "type: <class 'numpy.ndarray'>\n",
      "shape: (3, 3), dimension : 2, dtype : int32\n",
      "numpy 배열의 데이터\n",
      " [[9 2 6]\n",
      " [3 5 4]\n",
      " [6 7 6]]\n",
      "type: <class 'numpy.ndarray'>\n",
      "shape: (8,), dimension : 1, dtype : int32\n",
      "numpy 배열의 데이터\n",
      " [9 6 3 5 4 6 7 6]\n",
      "type: <class 'numpy.ndarray'>\n",
      "shape: (2, 3), dimension : 2, dtype : int32\n",
      "numpy 배열의 데이터\n",
      " [[9 2 6]\n",
      " [6 7 6]]\n",
      "type: <class 'numpy.ndarray'>\n",
      "shape: (3, 2), dimension : 2, dtype : int32\n",
      "numpy 배열의 데이터\n",
      " [[9 6]\n",
      " [3 4]\n",
      " [6 6]]\n"
     ]
    }
   ],
   "source": [
    "a = np.random.randint(1, 10, (3,3))\n",
    "arr_print(a)\n",
    "\n",
    "arr_print(np.delete(a,1))\n",
    "arr_print(np.delete(a,1, axis=0))\n",
    "arr_print(np.delete(a,1, axis=1))"
   ]
  },
  {
   "cell_type": "code",
   "execution_count": null,
   "metadata": {},
   "outputs": [],
   "source": []
  },
  {
   "cell_type": "markdown",
   "metadata": {},
   "source": [
    "### 5. 배열 결합"
   ]
  },
  {
   "cell_type": "markdown",
   "metadata": {},
   "source": [
    "concatenate()"
   ]
  },
  {
   "cell_type": "code",
   "execution_count": 26,
   "metadata": {},
   "outputs": [
    {
     "name": "stdout",
     "output_type": "stream",
     "text": [
      "type: <class 'numpy.ndarray'>\n",
      "shape: (2, 3), dimension : 2, dtype : int32\n",
      "numpy 배열의 데이터\n",
      " [[8 4 5]\n",
      " [6 8 1]]\n",
      "type: <class 'numpy.ndarray'>\n",
      "shape: (2, 3), dimension : 2, dtype : int32\n",
      "numpy 배열의 데이터\n",
      " [[5 7 8]\n",
      " [7 9 8]]\n",
      "type: <class 'numpy.ndarray'>\n",
      "shape: (4, 3), dimension : 2, dtype : int32\n",
      "numpy 배열의 데이터\n",
      " [[8 4 5]\n",
      " [6 8 1]\n",
      " [5 7 8]\n",
      " [7 9 8]]\n",
      "type: <class 'numpy.ndarray'>\n",
      "shape: (4, 3), dimension : 2, dtype : int32\n",
      "numpy 배열의 데이터\n",
      " [[8 4 5]\n",
      " [6 8 1]\n",
      " [5 7 8]\n",
      " [7 9 8]]\n",
      "type: <class 'numpy.ndarray'>\n",
      "shape: (2, 6), dimension : 2, dtype : int32\n",
      "numpy 배열의 데이터\n",
      " [[8 4 5 5 7 8]\n",
      " [6 8 1 7 9 8]]\n"
     ]
    }
   ],
   "source": [
    "a = np.random.randint(1, 10, (2,3))\n",
    "arr_print(a)\n",
    "b = np.random.randint(1, 10, (2,3))\n",
    "arr_print(b)\n",
    "\n",
    "result = np.concatenate((a,b))\n",
    "arr_print(result)\n",
    "result = np.concatenate((a,b), axis=0)\n",
    "arr_print(result)\n",
    "result = np.concatenate((a,b), axis=1)\n",
    "arr_print(result)"
   ]
  },
  {
   "cell_type": "markdown",
   "metadata": {},
   "source": [
    "vstack()"
   ]
  },
  {
   "cell_type": "code",
   "execution_count": 27,
   "metadata": {},
   "outputs": [
    {
     "name": "stdout",
     "output_type": "stream",
     "text": [
      "type: <class 'numpy.ndarray'>\n",
      "shape: (2, 3), dimension : 2, dtype : int32\n",
      "numpy 배열의 데이터\n",
      " [[9 4 7]\n",
      " [6 4 1]]\n",
      "type: <class 'numpy.ndarray'>\n",
      "shape: (2, 3), dimension : 2, dtype : int32\n",
      "numpy 배열의 데이터\n",
      " [[3 2 4]\n",
      " [5 5 4]]\n",
      "type: <class 'numpy.ndarray'>\n",
      "shape: (4, 3), dimension : 2, dtype : int32\n",
      "numpy 배열의 데이터\n",
      " [[9 4 7]\n",
      " [6 4 1]\n",
      " [3 2 4]\n",
      " [5 5 4]]\n",
      "type: <class 'numpy.ndarray'>\n",
      "shape: (8, 3), dimension : 2, dtype : int32\n",
      "numpy 배열의 데이터\n",
      " [[9 4 7]\n",
      " [6 4 1]\n",
      " [3 2 4]\n",
      " [5 5 4]\n",
      " [9 4 7]\n",
      " [6 4 1]\n",
      " [3 2 4]\n",
      " [5 5 4]]\n"
     ]
    }
   ],
   "source": [
    "a = np.random.randint(1,10, (2,3))\n",
    "arr_print(a)\n",
    "b = np.random.randint(1,10, (2,3))\n",
    "arr_print(b)\n",
    "\n",
    "arr_print(np.vstack((a,b)))\n",
    "arr_print(np.vstack((a,b,a,b)))"
   ]
  },
  {
   "cell_type": "markdown",
   "metadata": {},
   "source": [
    "hstack()"
   ]
  },
  {
   "cell_type": "code",
   "execution_count": 28,
   "metadata": {},
   "outputs": [
    {
     "name": "stdout",
     "output_type": "stream",
     "text": [
      "type: <class 'numpy.ndarray'>\n",
      "shape: (2, 3), dimension : 2, dtype : int32\n",
      "numpy 배열의 데이터\n",
      " [[8 7 6]\n",
      " [8 1 9]]\n",
      "type: <class 'numpy.ndarray'>\n",
      "shape: (2, 3), dimension : 2, dtype : int32\n",
      "numpy 배열의 데이터\n",
      " [[4 2 4]\n",
      " [3 3 6]]\n",
      "type: <class 'numpy.ndarray'>\n",
      "shape: (2, 6), dimension : 2, dtype : int32\n",
      "numpy 배열의 데이터\n",
      " [[8 7 6 4 2 4]\n",
      " [8 1 9 3 3 6]]\n",
      "type: <class 'numpy.ndarray'>\n",
      "shape: (2, 12), dimension : 2, dtype : int32\n",
      "numpy 배열의 데이터\n",
      " [[8 7 6 4 2 4 8 7 6 4 2 4]\n",
      " [8 1 9 3 3 6 8 1 9 3 3 6]]\n"
     ]
    }
   ],
   "source": [
    "a = np.random.randint(1,10, (2,3))\n",
    "arr_print(a)\n",
    "b = np.random.randint(1,10, (2,3))\n",
    "arr_print(b)\n",
    "\n",
    "arr_print(np.hstack((a,b)))\n",
    "arr_print(np.hstack((a,b,a,b)))"
   ]
  },
  {
   "cell_type": "code",
   "execution_count": null,
   "metadata": {},
   "outputs": [],
   "source": []
  },
  {
   "cell_type": "markdown",
   "metadata": {},
   "source": [
    "### 6. 배열분리"
   ]
  },
  {
   "cell_type": "markdown",
   "metadata": {},
   "source": [
    "hsplite()"
   ]
  },
  {
   "cell_type": "code",
   "execution_count": 33,
   "metadata": {},
   "outputs": [
    {
     "name": "stdout",
     "output_type": "stream",
     "text": [
      "type: <class 'numpy.ndarray'>\n",
      "shape: (4, 6), dimension : 2, dtype : int32\n",
      "numpy 배열의 데이터\n",
      " [[ 1  2  3  4  5  6]\n",
      " [ 7  8  9 10 11 12]\n",
      " [13 14 15 16 17 18]\n",
      " [19 20 21 22 23 24]]\n"
     ]
    }
   ],
   "source": [
    "a = np.arange(1, 25).reshape(4,6)\n",
    "arr_print(a)"
   ]
  },
  {
   "cell_type": "code",
   "execution_count": 38,
   "metadata": {},
   "outputs": [
    {
     "name": "stdout",
     "output_type": "stream",
     "text": [
      "[array([[ 1,  2],\n",
      "       [ 7,  8],\n",
      "       [13, 14],\n",
      "       [19, 20]]), array([[ 3,  4],\n",
      "       [ 9, 10],\n",
      "       [15, 16],\n",
      "       [21, 22]]), array([[ 5,  6],\n",
      "       [11, 12],\n",
      "       [17, 18],\n",
      "       [23, 24]])]\n",
      "<class 'list'>\n",
      "(3, 4, 2)\n"
     ]
    }
   ],
   "source": [
    "result = np.hsplit(a,3)\n",
    "print(result)\n",
    "print(type(result))\n",
    "print(np.array(result).shape)"
   ]
  },
  {
   "cell_type": "code",
   "execution_count": 40,
   "metadata": {},
   "outputs": [
    {
     "name": "stdout",
     "output_type": "stream",
     "text": [
      "[array([[ 1],\n",
      "       [ 7],\n",
      "       [13],\n",
      "       [19]]), array([[ 2,  3],\n",
      "       [ 8,  9],\n",
      "       [14, 15],\n",
      "       [20, 21]]), array([[ 4,  5],\n",
      "       [10, 11],\n",
      "       [16, 17],\n",
      "       [22, 23]]), array([[ 6],\n",
      "       [12],\n",
      "       [18],\n",
      "       [24]])]\n",
      "<class 'list'>\n"
     ]
    }
   ],
   "source": [
    "result = np.hsplit(a,[1,3,5])\n",
    "print(result)\n",
    "print(type(result))"
   ]
  },
  {
   "cell_type": "markdown",
   "metadata": {},
   "source": [
    "vsplite()"
   ]
  },
  {
   "cell_type": "code",
   "execution_count": 42,
   "metadata": {},
   "outputs": [
    {
     "name": "stdout",
     "output_type": "stream",
     "text": [
      "type: <class 'numpy.ndarray'>\n",
      "shape: (4, 6), dimension : 2, dtype : int32\n",
      "numpy 배열의 데이터\n",
      " [[ 1  2  3  4  5  6]\n",
      " [ 7  8  9 10 11 12]\n",
      " [13 14 15 16 17 18]\n",
      " [19 20 21 22 23 24]]\n"
     ]
    }
   ],
   "source": [
    "a = np.arange(1, 25).reshape(4,6)\n",
    "arr_print(a)"
   ]
  },
  {
   "cell_type": "code",
   "execution_count": 44,
   "metadata": {},
   "outputs": [
    {
     "name": "stdout",
     "output_type": "stream",
     "text": [
      "[array([[ 1,  2,  3,  4,  5,  6],\n",
      "       [ 7,  8,  9, 10, 11, 12]]), array([[13, 14, 15, 16, 17, 18],\n",
      "       [19, 20, 21, 22, 23, 24]])]\n",
      "<class 'list'>\n",
      "(2, 2, 6)\n"
     ]
    }
   ],
   "source": [
    "result = np.vsplit(a,2)\n",
    "print(result)\n",
    "print(type(result))\n",
    "print(np.array(result).shape)"
   ]
  },
  {
   "cell_type": "code",
   "execution_count": 45,
   "metadata": {},
   "outputs": [
    {
     "name": "stdout",
     "output_type": "stream",
     "text": [
      "[array([[1, 2, 3, 4, 5, 6]]), array([[ 7,  8,  9, 10, 11, 12]]), array([[13, 14, 15, 16, 17, 18]]), array([[19, 20, 21, 22, 23, 24]])]\n"
     ]
    }
   ],
   "source": [
    "result = np.vsplit(a,4)\n",
    "print(result)"
   ]
  },
  {
   "cell_type": "code",
   "execution_count": 46,
   "metadata": {},
   "outputs": [
    {
     "name": "stdout",
     "output_type": "stream",
     "text": [
      "[array([[1, 2, 3, 4, 5, 6]]), array([[ 7,  8,  9, 10, 11, 12],\n",
      "       [13, 14, 15, 16, 17, 18]]), array([[19, 20, 21, 22, 23, 24]])]\n"
     ]
    }
   ],
   "source": [
    "result = np.vsplit(a,[1,3])\n",
    "print(result)"
   ]
  },
  {
   "cell_type": "code",
   "execution_count": null,
   "metadata": {},
   "outputs": [],
   "source": []
  },
  {
   "cell_type": "code",
   "execution_count": null,
   "metadata": {},
   "outputs": [],
   "source": []
  },
  {
   "cell_type": "code",
   "execution_count": null,
   "metadata": {},
   "outputs": [],
   "source": []
  }
 ],
 "metadata": {
  "kernelspec": {
   "display_name": "Python 3",
   "language": "python",
   "name": "python3"
  },
  "language_info": {
   "codemirror_mode": {
    "name": "ipython",
    "version": 3
   },
   "file_extension": ".py",
   "mimetype": "text/x-python",
   "name": "python",
   "nbconvert_exporter": "python",
   "pygments_lexer": "ipython3",
   "version": "3.8.5"
  }
 },
 "nbformat": 4,
 "nbformat_minor": 4
}
