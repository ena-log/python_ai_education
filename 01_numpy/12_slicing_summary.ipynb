{
 "cells": [
  {
   "cell_type": "code",
   "execution_count": 1,
   "metadata": {},
   "outputs": [],
   "source": [
    "import warnings\n",
    "warnings.filterwarnings('ignore')\n",
    "from IPython.display import Image\n",
    "\n",
    "import numpy as np\n",
    "import matplotlib.pyplot as plt"
   ]
  },
  {
   "cell_type": "code",
   "execution_count": 2,
   "metadata": {},
   "outputs": [],
   "source": [
    "def arr_print(arr):\n",
    "    print('type: {}'.format(type(arr)))\n",
    "    print('shape: {}, dimension : {}, dtype : {}'.format(arr.shape, arr.ndim, arr.dtype))\n",
    "    print('numpy 배열의 데이터\\n', arr)"
   ]
  },
  {
   "cell_type": "code",
   "execution_count": null,
   "metadata": {},
   "outputs": [],
   "source": []
  },
  {
   "cell_type": "code",
   "execution_count": 5,
   "metadata": {},
   "outputs": [
    {
     "name": "stdout",
     "output_type": "stream",
     "text": [
      "type: <class 'numpy.ndarray'>\n",
      "shape: (24,), dimension : 1, dtype : int32\n",
      "numpy 배열의 데이터\n",
      " [ 0  1  2  3  4  5  6  7  8  9 10 11 12 13 14 15 16 17 18 19 20 21 22 23]\n",
      "type: <class 'numpy.ndarray'>\n",
      "shape: (4,), dimension : 1, dtype : int32\n",
      "numpy 배열의 데이터\n",
      " [2 3 4 5]\n"
     ]
    }
   ],
   "source": [
    "a0 = np.arange(24)\n",
    "arr_print(a0)\n",
    "\n",
    "arr_print(a0[2:6])"
   ]
  },
  {
   "cell_type": "code",
   "execution_count": 19,
   "metadata": {},
   "outputs": [
    {
     "name": "stdout",
     "output_type": "stream",
     "text": [
      "type: <class 'numpy.ndarray'>\n",
      "shape: (4, 6), dimension : 2, dtype : int32\n",
      "numpy 배열의 데이터\n",
      " [[ 0  1  2  3  4  5]\n",
      " [ 6  7  8  9 10 11]\n",
      " [12 13 14 15 16 17]\n",
      " [18 19 20 21 22 23]]\n",
      "type: <class 'numpy.ndarray'>\n",
      "shape: (2, 6), dimension : 2, dtype : int32\n",
      "numpy 배열의 데이터\n",
      " [[ 6  7  8  9 10 11]\n",
      " [12 13 14 15 16 17]]\n",
      "type: <class 'numpy.ndarray'>\n",
      "shape: (4, 4), dimension : 2, dtype : int32\n",
      "numpy 배열의 데이터\n",
      " [[ 1  2  3  4]\n",
      " [ 7  8  9 10]\n",
      " [13 14 15 16]\n",
      " [19 20 21 22]]\n",
      "type: <class 'numpy.ndarray'>\n",
      "shape: (2, 4), dimension : 2, dtype : int32\n",
      "numpy 배열의 데이터\n",
      " [[ 7  8  9 10]\n",
      " [13 14 15 16]]\n",
      "type: <class 'numpy.ndarray'>\n",
      "shape: (2, 4), dimension : 2, dtype : int32\n",
      "numpy 배열의 데이터\n",
      " [[ 7  8  9 10]\n",
      " [13 14 15 16]]\n"
     ]
    }
   ],
   "source": [
    "a1 = np.arange(24).reshape(4,6)\n",
    "arr_print(a1)\n",
    "\n",
    "arr_print(a1[1:3])\n",
    "arr_print(a1[:, 1:5])\n",
    "arr_print(a1[1:3, 1:5])\n",
    "arr_print(a1[1:-1, 1:-1])"
   ]
  },
  {
   "cell_type": "code",
   "execution_count": 20,
   "metadata": {},
   "outputs": [
    {
     "name": "stdout",
     "output_type": "stream",
     "text": [
      "type: <class 'numpy.ndarray'>\n",
      "shape: (2, 4), dimension : 2, dtype : int32\n",
      "numpy 배열의 데이터\n",
      " [[ 7  8  9 10]\n",
      " [13 14 15 16]]\n",
      "type: <class 'numpy.ndarray'>\n",
      "shape: (2, 2), dimension : 2, dtype : int32\n",
      "numpy 배열의 데이터\n",
      " [[ 8  9]\n",
      " [14 15]]\n",
      "type: <class 'numpy.ndarray'>\n",
      "shape: (2, 4), dimension : 2, dtype : int32\n",
      "numpy 배열의 데이터\n",
      " [[  7 999 999  10]\n",
      " [ 13 999 999  16]]\n",
      "type: <class 'numpy.ndarray'>\n",
      "shape: (4, 6), dimension : 2, dtype : int32\n",
      "numpy 배열의 데이터\n",
      " [[  0   1   2   3   4   5]\n",
      " [  6   7 999 999  10  11]\n",
      " [ 12  13 999 999  16  17]\n",
      " [ 18  19  20  21  22  23]]\n"
     ]
    }
   ],
   "source": [
    "slicing_arr = a1[1:3, 1:5]\n",
    "arr_print(slicing_arr)\n",
    "arr_print(slicing_arr[:, 1:3])\n",
    "slicing_arr[:, 1:3] = 999\n",
    "arr_print(slicing_arr)\n",
    "\n",
    "arr_print(a1)"
   ]
  },
  {
   "cell_type": "code",
   "execution_count": 9,
   "metadata": {},
   "outputs": [
    {
     "name": "stdout",
     "output_type": "stream",
     "text": [
      "[[[ 0  1  2]\n",
      "  [ 3  4  5]\n",
      "  [ 6  7  8]\n",
      "  [ 9 10 11]]\n",
      "\n",
      " [[12 13 14]\n",
      "  [15 16 17]\n",
      "  [18 19 20]\n",
      "  [21 22 23]]]\n"
     ]
    }
   ],
   "source": [
    "a2 = np.arange(24).reshape(2,4,3)\n",
    "print(a2)\n",
    "\n",
    "arr_print(a)"
   ]
  },
  {
   "cell_type": "code",
   "execution_count": null,
   "metadata": {},
   "outputs": [],
   "source": []
  }
 ],
 "metadata": {
  "kernelspec": {
   "display_name": "Python 3",
   "language": "python",
   "name": "python3"
  },
  "language_info": {
   "codemirror_mode": {
    "name": "ipython",
    "version": 3
   },
   "file_extension": ".py",
   "mimetype": "text/x-python",
   "name": "python",
   "nbconvert_exporter": "python",
   "pygments_lexer": "ipython3",
   "version": "3.8.5"
  }
 },
 "nbformat": 4,
 "nbformat_minor": 4
}
