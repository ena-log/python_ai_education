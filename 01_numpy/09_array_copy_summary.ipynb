{
 "cells": [
  {
   "cell_type": "code",
   "execution_count": 1,
   "metadata": {},
   "outputs": [],
   "source": [
    "import warnings\n",
    "warnings.filterwarnings('ignore')\n",
    "from IPython.display import Image\n",
    "\n",
    "import numpy as np\n",
    "import matplotlib.pyplot as plt"
   ]
  },
  {
   "cell_type": "code",
   "execution_count": 3,
   "metadata": {},
   "outputs": [],
   "source": [
    "def arr_print(arr):\n",
    "    print('type: {}'.format(type(arr)))\n",
    "    print('shape: {}, dimension : {}, dtype : {}'.format(arr.shape, arr.ndim, arr.dtype))\n",
    "    print('numpy 배열의 데이터\\n', arr)"
   ]
  },
  {
   "cell_type": "code",
   "execution_count": null,
   "metadata": {},
   "outputs": [],
   "source": []
  },
  {
   "cell_type": "code",
   "execution_count": 4,
   "metadata": {},
   "outputs": [
    {
     "name": "stdout",
     "output_type": "stream",
     "text": [
      "type: <class 'numpy.ndarray'>\n",
      "shape: (3, 3), dimension : 2, dtype : int32\n",
      "numpy 배열의 데이터\n",
      " [[8 7 4]\n",
      " [3 3 0]\n",
      " [6 0 3]]\n",
      "type: <class 'numpy.ndarray'>\n",
      "shape: (3, 3), dimension : 2, dtype : int32\n",
      "numpy 배열의 데이터\n",
      " [[999   7   4]\n",
      " [999   3   0]\n",
      " [999   0   3]]\n"
     ]
    }
   ],
   "source": [
    "a = np.random.randint(0, 9, (3,3))\n",
    "arr_print(a)\n",
    "\n",
    "a[:, 0] = 999 # a 배열의 모든 행의 0번째 열을 999로 변경함\n",
    "arr_print(a)"
   ]
  },
  {
   "cell_type": "code",
   "execution_count": 5,
   "metadata": {},
   "outputs": [
    {
     "name": "stdout",
     "output_type": "stream",
     "text": [
      "type: <class 'numpy.ndarray'>\n",
      "shape: (3, 3), dimension : 2, dtype : int32\n",
      "numpy 배열의 데이터\n",
      " [[999   7   4]\n",
      " [999   3   0]\n",
      " [999   0   3]]\n",
      "type: <class 'numpy.ndarray'>\n",
      "shape: (3, 3), dimension : 2, dtype : int32\n",
      "numpy 배열의 데이터\n",
      " [[999 777   4]\n",
      " [999 777   0]\n",
      " [999 777   3]]\n",
      "type: <class 'numpy.ndarray'>\n",
      "shape: (3, 3), dimension : 2, dtype : int32\n",
      "numpy 배열의 데이터\n",
      " [[999   7   4]\n",
      " [999   3   0]\n",
      " [999   0   3]]\n"
     ]
    }
   ],
   "source": [
    "copied_a = np.copy(a)\n",
    "arr_print(copied_a)\n",
    "copied_a[:, 1] = 777\n",
    "arr_print(copied_a)\n",
    "arr_print(a)"
   ]
  },
  {
   "cell_type": "code",
   "execution_count": null,
   "metadata": {},
   "outputs": [],
   "source": []
  }
 ],
 "metadata": {
  "kernelspec": {
   "display_name": "Python 3",
   "language": "python",
   "name": "python3"
  },
  "language_info": {
   "codemirror_mode": {
    "name": "ipython",
    "version": 3
   },
   "file_extension": ".py",
   "mimetype": "text/x-python",
   "name": "python",
   "nbconvert_exporter": "python",
   "pygments_lexer": "ipython3",
   "version": "3.8.5"
  }
 },
 "nbformat": 4,
 "nbformat_minor": 4
}
