{
 "cells": [
  {
   "cell_type": "code",
   "execution_count": 11,
   "metadata": {},
   "outputs": [],
   "source": [
    "import warnings\n",
    "warnings.filterwarnings('ignore')\n",
    "\n",
    "import numpy as np \n",
    "import pandas as pd"
   ]
  },
  {
   "cell_type": "code",
   "execution_count": null,
   "metadata": {},
   "outputs": [],
   "source": []
  },
  {
   "cell_type": "markdown",
   "metadata": {},
   "source": [
    "데이터 생성 및 확인"
   ]
  },
  {
   "cell_type": "code",
   "execution_count": 12,
   "metadata": {},
   "outputs": [
    {
     "name": "stdout",
     "output_type": "stream",
     "text": [
      "공부한 시간 : 2, 실제 성적 : 81\n",
      "공부한 시간 : 4, 실제 성적 : 93\n",
      "공부한 시간 : 6, 실제 성적 : 91\n",
      "공부한 시간 : 8, 실제 성적 : 97\n"
     ]
    }
   ],
   "source": [
    "# [공부한 시간(x), 실제 성적(y)]\n",
    "data = [[2, 81], [4, 93], [6, 91], [8, 97]]\n",
    "# 기울기, y절편]\n",
    "ab = [3, 76] # 2.3, 79\n",
    "\n",
    "for i in data:\n",
    "    print('공부한 시간 : {}, 실제 성적 : {}'.format(i[0], i[1]))"
   ]
  },
  {
   "cell_type": "code",
   "execution_count": 13,
   "metadata": {},
   "outputs": [
    {
     "name": "stdout",
     "output_type": "stream",
     "text": [
      "공부한 시간 : 2, 실제 성적 : 81\n",
      "공부한 시간 : 4, 실제 성적 : 93\n",
      "공부한 시간 : 6, 실제 성적 : 91\n",
      "공부한 시간 : 8, 실제 성적 : 97\n"
     ]
    }
   ],
   "source": [
    "x = [i[0] for i in data] # 공부한 시간\n",
    "y = [i[1] for i in data] # 시험 성적\n",
    "for i in range(len(x)):\n",
    "    print('공부한 시간 : {}, 실제 성적 : {}'.format(x[i], y[i]))"
   ]
  },
  {
   "cell_type": "markdown",
   "metadata": {},
   "source": [
    "예측 성적 계산"
   ]
  },
  {
   "cell_type": "code",
   "execution_count": 14,
   "metadata": {},
   "outputs": [],
   "source": [
    "# y = a * x + b에 a(기울기), b(y절편) 값을 대입해서 결과(예측 성적)를 계산하는 함수\n",
    "def predict(x):\n",
    "    return ab[0] * x + ab[1]"
   ]
  },
  {
   "cell_type": "code",
   "execution_count": 15,
   "metadata": {},
   "outputs": [
    {
     "name": "stdout",
     "output_type": "stream",
     "text": [
      "공부한 시간 : 2, 실제 성적 : 81, 예측 성적 : 82\n",
      "공부한 시간 : 4, 실제 성적 : 93, 예측 성적 : 88\n",
      "공부한 시간 : 6, 실제 성적 : 91, 예측 성적 : 94\n",
      "공부한 시간 : 8, 실제 성적 : 97, 예측 성적 : 100\n"
     ]
    }
   ],
   "source": [
    "predict_result = []\n",
    "\n",
    "for i in range(len(x)):\n",
    "    predict_result.append(predict(x[i]))\n",
    "    print('공부한 시간 : {}, 실제 성적 : {}, 예측 성적 : {}'.format(x[i], y[i], predict_result[i]))"
   ]
  },
  {
   "cell_type": "markdown",
   "metadata": {},
   "source": [
    "평균제곱근오차를 계산하는 함수"
   ]
  },
  {
   "cell_type": "code",
   "execution_count": 16,
   "metadata": {},
   "outputs": [],
   "source": [
    "def rmse(predict_result, y):\n",
    "    return np.sqrt(((predict_result - y) ** 2).mean())"
   ]
  },
  {
   "cell_type": "code",
   "execution_count": 17,
   "metadata": {},
   "outputs": [],
   "source": [
    "def rmse_val(predict_result, y):\n",
    "    return rmse(np.array(predict_result), np.array(y))"
   ]
  },
  {
   "cell_type": "code",
   "execution_count": 18,
   "metadata": {},
   "outputs": [
    {
     "name": "stdout",
     "output_type": "stream",
     "text": [
      "RMSE(평균 제곱근 오차) : 3.3166247903554\n"
     ]
    }
   ],
   "source": [
    "rmse_result = rmse_val(predict_result, y)\n",
    "print('RMSE(평균 제곱근 오차) : {}'.format(rmse_result))"
   ]
  },
  {
   "cell_type": "code",
   "execution_count": null,
   "metadata": {},
   "outputs": [],
   "source": []
  },
  {
   "cell_type": "code",
   "execution_count": null,
   "metadata": {},
   "outputs": [],
   "source": []
  },
  {
   "cell_type": "code",
   "execution_count": null,
   "metadata": {},
   "outputs": [],
   "source": []
  },
  {
   "cell_type": "code",
   "execution_count": null,
   "metadata": {},
   "outputs": [],
   "source": []
  }
 ],
 "metadata": {
  "kernelspec": {
   "display_name": "Python 3",
   "language": "python",
   "name": "python3"
  },
  "language_info": {
   "codemirror_mode": {
    "name": "ipython",
    "version": 3
   },
   "file_extension": ".py",
   "mimetype": "text/x-python",
   "name": "python",
   "nbconvert_exporter": "python",
   "pygments_lexer": "ipython3",
   "version": "3.8.5"
  }
 },
 "nbformat": 4,
 "nbformat_minor": 4
}
