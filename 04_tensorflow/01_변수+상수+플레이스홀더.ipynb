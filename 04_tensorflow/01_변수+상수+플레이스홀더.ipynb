{
 "cells": [
  {
   "cell_type": "code",
   "execution_count": 1,
   "metadata": {},
   "outputs": [],
   "source": [
    "#!pip install tensorflow"
   ]
  },
  {
   "cell_type": "code",
   "execution_count": 2,
   "metadata": {},
   "outputs": [
    {
     "name": "stdout",
     "output_type": "stream",
     "text": [
      "WARNING:tensorflow:From C:\\Users\\circl\\anaconda3\\lib\\site-packages\\tensorflow\\python\\compat\\v2_compat.py:96: disable_resource_variables (from tensorflow.python.ops.variable_scope) is deprecated and will be removed in a future version.\n",
      "Instructions for updating:\n",
      "non-resource variables are not supported in the long term\n"
     ]
    }
   ],
   "source": [
    "import warnings\n",
    "warnings.filterwarnings(\"ignore\")\n",
    "\n",
    "import tensorflow.compat.v1 as tf\n",
    "tf.disable_v2_behavior()"
   ]
  },
  {
   "cell_type": "code",
   "execution_count": 3,
   "metadata": {},
   "outputs": [
    {
     "name": "stdout",
     "output_type": "stream",
     "text": [
      "2.5.0\n"
     ]
    }
   ],
   "source": [
    "print(tf.__version__)"
   ]
  },
  {
   "cell_type": "code",
   "execution_count": null,
   "metadata": {},
   "outputs": [],
   "source": []
  },
  {
   "cell_type": "markdown",
   "metadata": {},
   "source": [
    "### 1. 상수"
   ]
  },
  {
   "cell_type": "code",
   "execution_count": 11,
   "metadata": {},
   "outputs": [
    {
     "name": "stdout",
     "output_type": "stream",
     "text": [
      "Tensor(\"Const_7:0\", shape=(), dtype=int32)\n",
      "Tensor(\"add_6:0\", shape=(), dtype=int32)\n",
      "Tensor(\"Add_7:0\", shape=(), dtype=int32)\n",
      "a = 500\n",
      "b = 200\n",
      "a + b = 700\n"
     ]
    }
   ],
   "source": [
    "a = tf.constant(500)\n",
    "print(a)\n",
    "b = tf.constant(200)\n",
    "c = a + b \n",
    "print(c)\n",
    "c = tf.add(a, b)\n",
    "print(c)\n",
    "\n",
    "sess = tf.Session()\n",
    "print('a =', sess.run(a))\n",
    "print('b =', sess.run(b))\n",
    "print('a + b =', sess.run(c))"
   ]
  },
  {
   "cell_type": "markdown",
   "metadata": {},
   "source": [
    "### 2. 변수"
   ]
  },
  {
   "cell_type": "code",
   "execution_count": 10,
   "metadata": {},
   "outputs": [
    {
     "name": "stdout",
     "output_type": "stream",
     "text": [
      "<tf.Variable 'Variable_6:0' shape=() dtype=int32_ref>\n",
      "<tf.Variable 'Variable_7:0' shape=() dtype=int32_ref>\n",
      "Tensor(\"mul_8:0\", shape=(), dtype=int32)\n",
      "Tensor(\"Mul_9:0\", shape=(), dtype=int32)\n",
      "a = 5\n",
      "b = 3\n",
      "a * b = 15\n",
      "a * b = 45\n"
     ]
    }
   ],
   "source": [
    "a = tf.Variable(5) \n",
    "print(a)\n",
    "b = tf.Variable(3)\n",
    "print(b)\n",
    "c = a * b\n",
    "print(c)\n",
    "c = tf.multiply(a, b)\n",
    "print(c)\n",
    "\n",
    "sess = tf.Session()\n",
    "\n",
    "sess.run(tf.global_variables_initializer())\n",
    "print('a =', sess.run(a))\n",
    "print('b =', sess.run(b))\n",
    "c = tf.multiply(a, b)\n",
    "print('a * b =', sess.run(c))\n",
    "\n",
    "a = tf.Variable(15) \n",
    "sess.run(tf.global_variables_initializer())\n",
    "c = tf.multiply(a, b)\n",
    "print('a * b =', sess.run(c))"
   ]
  },
  {
   "cell_type": "markdown",
   "metadata": {},
   "source": [
    "### 3. 플레이스홀더"
   ]
  },
  {
   "cell_type": "code",
   "execution_count": null,
   "metadata": {},
   "outputs": [],
   "source": [
    "xData = [1, 2, 3, 4, 5]\n",
    "yData = [5, 4, 3, 2, 1]\n",
    "\n",
    "\n",
    "x = tf.placeholder(dtype=tf.float32)\n",
    "y = tf.placeholder(dtype=tf.float32)\n",
    "\n",
    "z = x + y\n",
    "\n",
    "sess = tf.Session()\n",
    "\n",
    "result = sess.run(z, feed_dict={x: xData, y: yData})\n",
    "print(result)"
   ]
  },
  {
   "cell_type": "code",
   "execution_count": null,
   "metadata": {},
   "outputs": [],
   "source": []
  },
  {
   "cell_type": "code",
   "execution_count": null,
   "metadata": {},
   "outputs": [],
   "source": []
  }
 ],
 "metadata": {
  "kernelspec": {
   "display_name": "Python 3",
   "language": "python",
   "name": "python3"
  },
  "language_info": {
   "codemirror_mode": {
    "name": "ipython",
    "version": 3
   },
   "file_extension": ".py",
   "mimetype": "text/x-python",
   "name": "python",
   "nbconvert_exporter": "python",
   "pygments_lexer": "ipython3",
   "version": "3.8.5"
  }
 },
 "nbformat": 4,
 "nbformat_minor": 4
}
