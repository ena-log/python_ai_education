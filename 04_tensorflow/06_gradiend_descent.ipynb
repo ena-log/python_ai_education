{
 "cells": [
  {
   "cell_type": "code",
   "execution_count": 1,
   "metadata": {},
   "outputs": [
    {
     "name": "stdout",
     "output_type": "stream",
     "text": [
      "WARNING:tensorflow:From C:\\Users\\circl\\anaconda3\\lib\\site-packages\\tensorflow\\python\\compat\\v2_compat.py:96: disable_resource_variables (from tensorflow.python.ops.variable_scope) is deprecated and will be removed in a future version.\n",
      "Instructions for updating:\n",
      "non-resource variables are not supported in the long term\n"
     ]
    }
   ],
   "source": [
    "import warnings\n",
    "warnings.filterwarnings('ignore')\n",
    "\n",
    "import numpy as np \n",
    "import pandas as pd\n",
    "\n",
    "import tensorflow.compat.v1 as tf\n",
    "tf.disable_v2_behavior()"
   ]
  },
  {
   "cell_type": "markdown",
   "metadata": {},
   "source": [
    " 데이터 생성 및 확인"
   ]
  },
  {
   "cell_type": "code",
   "execution_count": 2,
   "metadata": {},
   "outputs": [],
   "source": [
    "data = [[2, 81], [4, 93], [6, 91], [8, 97]] # [공부한 시간(x), 실제 성적(y)]\n",
    "xData = [i[0] for i in data] # 공부한 시간\n",
    "yData = [i[1] for i in data] # 시험 성적"
   ]
  },
  {
   "cell_type": "code",
   "execution_count": 3,
   "metadata": {},
   "outputs": [
    {
     "name": "stdout",
     "output_type": "stream",
     "text": [
      "a: [2.568103], b: [30.555607]\n"
     ]
    }
   ],
   "source": [
    "a = tf.Variable(tf.random_uniform([1], 0, 10, dtype=tf.float32))\n",
    "b = tf.Variable(tf.random_uniform([1], 0, 100, dtype=tf.float32))\n",
    "\n",
    "sess = tf.Session()\n",
    "sess.run(tf.global_variables_initializer())\n",
    "\n",
    "print('a: {}, b: {}'.format(sess.run(a), sess.run(b)))"
   ]
  },
  {
   "cell_type": "markdown",
   "metadata": {},
   "source": [
    "수식 만들기"
   ]
  },
  {
   "cell_type": "code",
   "execution_count": 4,
   "metadata": {},
   "outputs": [],
   "source": [
    "y = a * xData + b # 예측 성적을 얻기 위한 수식"
   ]
  },
  {
   "cell_type": "code",
   "execution_count": 5,
   "metadata": {},
   "outputs": [],
   "source": [
    "rmse = tf.sqrt(tf.reduce_mean(tf.square(y - yData))) # 평균 제곱근 오차 수식"
   ]
  },
  {
   "cell_type": "code",
   "execution_count": 6,
   "metadata": {},
   "outputs": [],
   "source": [
    "learning_rate = 0.1\n",
    "\n",
    "# 경사 하강법을 이용해서 RMSE(평균 제곱근 오차)를 최소로 하는 값을 찾는 수식\n",
    "gradient_descent = tf.train.GradientDescentOptimizer(learning_rate).minimize(rmse) "
   ]
  },
  {
   "cell_type": "markdown",
   "metadata": {},
   "source": [
    "학습"
   ]
  },
  {
   "cell_type": "code",
   "execution_count": 7,
   "metadata": {},
   "outputs": [
    {
     "name": "stdout",
     "output_type": "stream",
     "text": [
      "Epoch:    0, RMSE: 23.2486, 기울기:  4.4546, y절편: 45.6660\n",
      "Epoch:  200, RMSE: 10.6587, 기울기:  6.5119, y절편: 53.8654\n",
      "Epoch:  400, RMSE:  7.7430, 기울기:  5.2498, y절편: 61.3966\n",
      "Epoch:  600, RMSE:  5.1804, 기울기:  4.0671, y절편: 68.4548\n",
      "Epoch:  800, RMSE:  3.4962, 기울기:  3.1129, y절편: 74.1487\n",
      "Epoch: 1000, RMSE:  2.9663, 기울기:  2.5900, y절편: 77.2695\n",
      "Epoch: 1200, RMSE:  2.8903, 기울기:  2.3951, y절편: 78.4327\n",
      "Epoch: 1400, RMSE:  2.8819, 기울기:  2.3308, y절편: 78.8163\n",
      "Epoch: 1600, RMSE:  2.8811, 기울기:  2.3100, y절편: 78.9406\n",
      "Epoch: 1800, RMSE:  2.8810, 기울기:  2.3032, y절편: 78.9808\n",
      "Epoch: 2000, RMSE:  2.8810, 기울기:  2.3010, y절편: 78.9938\n",
      "Epoch: 2200, RMSE:  2.8810, 기울기:  2.3003, y절편: 78.9980\n",
      "Epoch: 2400, RMSE:  2.8810, 기울기:  2.3001, y절편: 78.9994\n",
      "Epoch: 2600, RMSE:  2.8810, 기울기:  2.3001, y절편: 78.9994\n",
      "Epoch: 2800, RMSE:  2.8810, 기울기:  2.3001, y절편: 78.9994\n",
      "Epoch: 3000, RMSE:  2.8810, 기울기:  2.3001, y절편: 78.9994\n"
     ]
    }
   ],
   "source": [
    "#import time\n",
    "sess = tf.Session()\n",
    "sess.run(tf.global_variables_initializer())\n",
    "\n",
    "for i in range(3001):\n",
    "    sess.run(gradient_descent)\n",
    "    if i % 200 == 0:\n",
    "        print('Epoch: %4d, RMSE: %7.4f, 기울기: %7.4f, y절편: %7.4f' % (i, sess.run(rmse), sess.run(a), sess.run(b)))\n",
    "        #time.sleep(0.25)"
   ]
  },
  {
   "cell_type": "code",
   "execution_count": null,
   "metadata": {},
   "outputs": [],
   "source": []
  }
 ],
 "metadata": {
  "kernelspec": {
   "display_name": "Python 3",
   "language": "python",
   "name": "python3"
  },
  "language_info": {
   "codemirror_mode": {
    "name": "ipython",
    "version": 3
   },
   "file_extension": ".py",
   "mimetype": "text/x-python",
   "name": "python",
   "nbconvert_exporter": "python",
   "pygments_lexer": "ipython3",
   "version": "3.8.5"
  }
 },
 "nbformat": 4,
 "nbformat_minor": 4
}
