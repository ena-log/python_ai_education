{
 "cells": [
  {
   "cell_type": "code",
   "execution_count": 1,
   "metadata": {},
   "outputs": [
    {
     "name": "stdout",
     "output_type": "stream",
     "text": [
      "WARNING:tensorflow:From C:\\Users\\circl\\anaconda3\\lib\\site-packages\\tensorflow\\python\\compat\\v2_compat.py:96: disable_resource_variables (from tensorflow.python.ops.variable_scope) is deprecated and will be removed in a future version.\n",
      "Instructions for updating:\n",
      "non-resource variables are not supported in the long term\n"
     ]
    }
   ],
   "source": [
    "import warnings\n",
    "warnings.filterwarnings(\"ignore\")\n",
    "\n",
    "import tensorflow.compat.v1 as tf\n",
    "tf.disable_v2_behavior()"
   ]
  },
  {
   "cell_type": "markdown",
   "metadata": {},
   "source": [
    " 학습 데이터"
   ]
  },
  {
   "cell_type": "code",
   "execution_count": 2,
   "metadata": {},
   "outputs": [],
   "source": [
    "# 지도 학습\n",
    "xData = [1, 2, 3, 4, 5, 6, 7] # 하루 근무 시간\n",
    "yData = [25000, 55000, 75000, 110000, 128000, 155000, 180000] # 근무 시간에 따른 매출 금액, 실제값"
   ]
  },
  {
   "cell_type": "code",
   "execution_count": 13,
   "metadata": {},
   "outputs": [
    {
     "data": {
      "text/plain": [
       "[<matplotlib.lines.Line2D at 0x238376799d0>]"
      ]
     },
     "execution_count": 13,
     "metadata": {},
     "output_type": "execute_result"
    },
    {
     "data": {
      "image/png": "[encoded data removed]",
      "text/plain": [
       "<Figure size 432x288 with 1 Axes>"
      ]
     },
     "metadata": {
      "needs_background": "light"
     },
     "output_type": "display_data"
    }
   ],
   "source": [
    "import matplotlib.pyplot as plt\n",
    "\n",
    "plt.plot(xData,yData,\"b.\")"
   ]
  },
  {
   "cell_type": "markdown",
   "metadata": {},
   "source": [
    "난수 발생"
   ]
  },
  {
   "cell_type": "code",
   "execution_count": 3,
   "metadata": {},
   "outputs": [
    {
     "name": "stdout",
     "output_type": "stream",
     "text": [
      "a = <tf.Variable 'Variable:0' shape=(1,) dtype=float32_ref>, b = <tf.Variable 'Variable_1:0' shape=(1,) dtype=float32_ref>\n"
     ]
    }
   ],
   "source": [
    "a = tf.Variable(tf.random_uniform([1], -100, 100))\n",
    "b = tf.Variable(tf.random_uniform([1], -100, 100))\n",
    "print('a = {}, b = {}'.format(a, b))"
   ]
  },
  {
   "cell_type": "code",
   "execution_count": 4,
   "metadata": {},
   "outputs": [
    {
     "name": "stdout",
     "output_type": "stream",
     "text": [
      "a = [-70.54088], b = [81.46443]\n"
     ]
    }
   ],
   "source": [
    "sess = tf.Session()\n",
    "sess.run(tf.global_variables_initializer())\n",
    "\n",
    "print('a = {}, b = {}'.format(sess.run(a), sess.run(b)))"
   ]
  },
  {
   "cell_type": "markdown",
   "metadata": {},
   "source": [
    "placeholder 선언"
   ]
  },
  {
   "cell_type": "code",
   "execution_count": 5,
   "metadata": {},
   "outputs": [],
   "source": [
    "x = tf.placeholder(dtype=tf.float32)\n",
    "y = tf.placeholder(dtype=tf.float32)"
   ]
  },
  {
   "cell_type": "markdown",
   "metadata": {},
   "source": [
    "가설 및 비용(오차) 함수 정의"
   ]
  },
  {
   "cell_type": "code",
   "execution_count": 6,
   "metadata": {},
   "outputs": [],
   "source": [
    "Y = a * x + b\n",
    "\n",
    "cost = tf.reduce_mean(tf.square(Y - y))"
   ]
  },
  {
   "cell_type": "markdown",
   "metadata": {},
   "source": [
    "경사하강법"
   ]
  },
  {
   "cell_type": "code",
   "execution_count": 7,
   "metadata": {},
   "outputs": [],
   "source": [
    "# 경사 하강 알고리즘의 학습율을 설정\n",
    "learning_rate = tf.Variable(0.01)\n",
    "\n",
    "train = tf.train.GradientDescentOptimizer(learning_rate).minimize(cost)"
   ]
  },
  {
   "cell_type": "markdown",
   "metadata": {},
   "source": [
    "학습"
   ]
  },
  {
   "cell_type": "code",
   "execution_count": 8,
   "metadata": {},
   "outputs": [
    {
     "name": "stdout",
     "output_type": "stream",
     "text": [
      "   0 4571622400.00   10427.06    1984.97\n",
      " 500    8684306.00   25540.25    1936.68\n",
      "1000    8633745.00   25627.90    1502.62\n",
      "1500    8632674.00   25640.68    1439.37\n",
      "2000    8632655.00   25642.54    1430.14\n",
      "2500    8632654.00   25642.81    1428.81\n",
      "3000    8632651.00   25642.84    1428.63\n",
      "3500    8632656.00   25642.85    1428.61\n",
      "4000    8632656.00   25642.85    1428.61\n",
      "4500    8632656.00   25642.85    1428.61\n",
      "5000    8632656.00   25642.85    1428.61\n"
     ]
    }
   ],
   "source": [
    "sess = tf.Session()\n",
    "sess.run(tf.global_variables_initializer())\n",
    "\n",
    "for i in range(5001):\n",
    "    sess.run(train, feed_dict={x: xData, y: yData})\n",
    "    \n",
    "    if i % 500 == 0:\n",
    "        # i, 오차, 기울기, y절편\n",
    "        print('{0:4d} {1:13.2f} {2:10.2f} {3:10.2f}'.format(i, \n",
    "                        sess.run(cost, feed_dict={x: xData, y: yData}),\n",
    "                        sess.run(a)[0],\n",
    "                        sess.run(b)[0]))\n",
    "# 초기 데이터에 따른 Y = a * x + b 방정식 최적의 기울기(a)와 y절편(b)을 찾았다."
   ]
  },
  {
   "cell_type": "markdown",
   "metadata": {},
   "source": [
    "결과 출력"
   ]
  },
  {
   "cell_type": "code",
   "execution_count": 9,
   "metadata": {},
   "outputs": [
    {
     "name": "stdout",
     "output_type": "stream",
     "text": [
      " 8시간 근무를 했을 때 하루 매출 기대금액 :  206,571원\n",
      " 9시간 근무를 했을 때 하루 매출 기대금액 :  232,214원\n",
      "10시간 근무를 했을 때 하루 매출 기대금액 :  257,857원\n",
      "11시간 근무를 했을 때 하루 매출 기대금액 :  283,500원\n",
      "12시간 근무를 했을 때 하루 매출 기대금액 :  309,143원\n",
      "13시간 근무를 했을 때 하루 매출 기대금액 :  334,786원\n",
      "14시간 근무를 했을 때 하루 매출 기대금액 :  360,428원\n",
      "15시간 근무를 했을 때 하루 매출 기대금액 :  386,071원\n",
      "16시간 근무를 했을 때 하루 매출 기대금액 :  411,714원\n",
      "17시간 근무를 했을 때 하루 매출 기대금액 :  437,357원\n",
      "18시간 근무를 했을 때 하루 매출 기대금액 :  463,000원\n",
      "19시간 근무를 했을 때 하루 매출 기대금액 :  488,643원\n",
      "20시간 근무를 했을 때 하루 매출 기대금액 :  514,286원\n",
      "21시간 근무를 했을 때 하루 매출 기대금액 :  539,928원\n",
      "22시간 근무를 했을 때 하루 매출 기대금액 :  565,571원\n",
      "23시간 근무를 했을 때 하루 매출 기대금액 :  591,214원\n",
      "24시간 근무를 했을 때 하루 매출 기대금액 :  616,857원\n"
     ]
    }
   ],
   "source": [
    "for i in range(8, 25):\n",
    "    print('{0:2d}시간 근무를 했을 때 하루 매출 기대금액 : {1:8,.0f}원'.format(i, sess.run(Y, feed_dict={x: [i]})[0]))"
   ]
  },
  {
   "cell_type": "code",
   "execution_count": null,
   "metadata": {},
   "outputs": [],
   "source": []
  },
  {
   "cell_type": "code",
   "execution_count": null,
   "metadata": {},
   "outputs": [],
   "source": []
  }
 ],
 "metadata": {
  "kernelspec": {
   "display_name": "Python 3",
   "language": "python",
   "name": "python3"
  },
  "language_info": {
   "codemirror_mode": {
    "name": "ipython",
    "version": 3
   },
   "file_extension": ".py",
   "mimetype": "text/x-python",
   "name": "python",
   "nbconvert_exporter": "python",
   "pygments_lexer": "ipython3",
   "version": "3.8.5"
  }
 },
 "nbformat": 4,
 "nbformat_minor": 4
}
