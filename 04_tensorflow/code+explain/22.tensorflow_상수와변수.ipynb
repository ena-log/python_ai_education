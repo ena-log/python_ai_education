{
 "cells": [
  {
   "cell_type": "code",
   "execution_count": 1,
   "metadata": {},
   "outputs": [],
   "source": [
    "import warnings\n",
    "warnings.filterwarnings(\"ignore\")"
   ]
  },
  {
   "cell_type": "code",
   "execution_count": 2,
   "metadata": {},
   "outputs": [
    {
     "name": "stdout",
     "output_type": "stream",
     "text": [
      "WARNING:tensorflow:From d:\\python36\\lib\\site-packages\\tensorflow\\python\\compat\\v2_compat.py:96: disable_resource_variables (from tensorflow.python.ops.variable_scope) is deprecated and will be removed in a future version.\n",
      "Instructions for updating:\n",
      "non-resource variables are not supported in the long term\n",
      "2.4.1\n"
     ]
    }
   ],
   "source": [
    "# tensorflow 라이브러리를 설치하고 tf라는 별명을 지정한다.\n",
    "# import tensorflow as tf\n",
    "# tensorflow 2.x 버전이 설치된 경우 tensorflow 버전 1.x 버전 문법을 사용하려면 아래와 같이 import 하면된다.\n",
    "import tensorflow.compat.v1 as tf\n",
    "# tensorflow 2.x 버전의 문법을 사용하지 않겠다고 선언한다.\n",
    "tf.disable_v2_behavior()\n",
    "print(tf.__version__)"
   ]
  },
  {
   "cell_type": "markdown",
   "metadata": {},
   "source": [
    "변수, 상수, 수식을 만든다. => 세션에 넣는다. => 변수를 초기화 시킨다. => 실행한다."
   ]
  },
  {
   "cell_type": "markdown",
   "metadata": {},
   "source": [
    "tensorflow 상수"
   ]
  },
  {
   "cell_type": "code",
   "execution_count": 12,
   "metadata": {},
   "outputs": [
    {
     "name": "stdout",
     "output_type": "stream",
     "text": [
      "Tensor(\"Const_5:0\", shape=(), dtype=int32)\n",
      "Tensor(\"add_7:0\", shape=(), dtype=int32)\n",
      "Tensor(\"Add_8:0\", shape=(), dtype=int32)\n",
      "a = 500\n",
      "b = 200\n",
      "a + b = 700\n"
     ]
    }
   ],
   "source": [
    "# constant() : tensorflow에서 사용할 상수를 정의하는 메소드\n",
    "a = tf.constant(500) # tensorflow에서 사용할 상수를 정의한다.\n",
    "print(a)\n",
    "b = tf.constant(200)\n",
    "c = a + b            # tensorflow에서 사용할 수식을 정의한다.\n",
    "print(c)\n",
    "c = tf.add(a, b)\n",
    "print(c)\n",
    "\n",
    "# tensorflow는 반드시 Session 이라는 작업 영역을 만든 후 상수, 변수, 수식을 대입한 다음 실행해야 한다.\n",
    "sess = tf.Session()  # tensorflow Session을 만든다.\n",
    "# run() : tensorflow에서 Session의 내용을 실행하는 메소드\n",
    "print('a =', sess.run(a))\n",
    "print('b =', sess.run(b))\n",
    "print('a + b =', sess.run(c))"
   ]
  },
  {
   "cell_type": "markdown",
   "metadata": {},
   "source": [
    "tensorflow 변수 => 반드시 실행하기 전에 초기화를 시켜야 한다."
   ]
  },
  {
   "cell_type": "code",
   "execution_count": 21,
   "metadata": {
    "scrolled": false
   },
   "outputs": [
    {
     "name": "stdout",
     "output_type": "stream",
     "text": [
      "<tf.Variable 'Variable_25:0' shape=() dtype=int32_ref>\n",
      "<tf.Variable 'Variable_26:0' shape=() dtype=int32_ref>\n",
      "Tensor(\"mul_29:0\", shape=(), dtype=int32)\n",
      "Tensor(\"Mul_30:0\", shape=(), dtype=int32)\n",
      "a = 5\n",
      "b = 3\n",
      "a + b = 15\n",
      "a + b = 45\n"
     ]
    }
   ],
   "source": [
    "# Variable() : tensorflow에서 사용할 변수를 정의하는 메소드\n",
    "a = tf.Variable(5) # tensorflow에서 사용할 변수를 정의하고 데이터를 넣어준다.\n",
    "print(a)\n",
    "b = tf.Variable(3)\n",
    "print(b)\n",
    "c = a * b\n",
    "print(c)\n",
    "c = tf.multiply(a, b)\n",
    "print(c)\n",
    "\n",
    "sess = tf.Session()\n",
    "\n",
    "# global_variables_initializer() : tensorflow에서 사용할 변수를 초기화하는 메소드\n",
    "# Variable() 메소드를 사용해서 생성한 tensorflow 변수는 사용하기 전에 반드시 초기화 시켜야 한다.\n",
    "# tensorflow 변수 초기화는 연산을 실행(사용)하기 전에만 해주면 된다.\n",
    "\n",
    "# tensorflow 변수 초기화\n",
    "# init = tf.global_variables_initializer()\n",
    "# sess.run(init)\n",
    "# 위의 2줄로 사용한 tensorflow 변수 초기화를 아래와 같이 1줄로 줄여서 사용할 수 있다.\n",
    "sess.run(tf.global_variables_initializer())\n",
    "print('a =', sess.run(a))\n",
    "print('b =', sess.run(b))\n",
    "c = tf.multiply(a, b)\n",
    "print('a + b =', sess.run(c))\n",
    "\n",
    "# tensorflow 변수에 저장된 데이터를 변경시켰다.\n",
    "a = tf.Variable(15) \n",
    "# tensorflow 변수에 저장된 데이터가 변경되면 반드시 다시 초기화 시켜야 한다.\n",
    "sess.run(tf.global_variables_initializer())\n",
    "c = tf.multiply(a, b)\n",
    "print('a + b =', sess.run(c))"
   ]
  },
  {
   "cell_type": "code",
   "execution_count": null,
   "metadata": {},
   "outputs": [],
   "source": []
  },
  {
   "cell_type": "code",
   "execution_count": null,
   "metadata": {},
   "outputs": [],
   "source": []
  },
  {
   "cell_type": "code",
   "execution_count": null,
   "metadata": {},
   "outputs": [],
   "source": []
  },
  {
   "cell_type": "code",
   "execution_count": null,
   "metadata": {},
   "outputs": [],
   "source": []
  },
  {
   "cell_type": "code",
   "execution_count": null,
   "metadata": {},
   "outputs": [],
   "source": []
  }
 ],
 "metadata": {
  "kernelspec": {
   "display_name": "Python 3",
   "language": "python",
   "name": "python3"
  },
  "language_info": {
   "codemirror_mode": {
    "name": "ipython",
    "version": 3
   },
   "file_extension": ".py",
   "mimetype": "text/x-python",
   "name": "python",
   "nbconvert_exporter": "python",
   "pygments_lexer": "ipython3",
   "version": "3.8.5"
  }
 },
 "nbformat": 4,
 "nbformat_minor": 5
}
