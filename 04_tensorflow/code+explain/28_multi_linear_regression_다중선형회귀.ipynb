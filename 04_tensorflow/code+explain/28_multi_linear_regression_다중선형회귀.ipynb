{
 "cells": [
  {
   "cell_type": "code",
   "execution_count": 1,
   "metadata": {},
   "outputs": [
    {
     "name": "stdout",
     "output_type": "stream",
     "text": [
      "WARNING:tensorflow:From d:\\python36\\lib\\site-packages\\tensorflow\\python\\compat\\v2_compat.py:96: disable_resource_variables (from tensorflow.python.ops.variable_scope) is deprecated and will be removed in a future version.\n",
      "Instructions for updating:\n",
      "non-resource variables are not supported in the long term\n"
     ]
    }
   ],
   "source": [
    "import warnings\n",
    "warnings.filterwarnings('ignore')\n",
    "import numpy as np \n",
    "import pandas as pd\n",
    "import tensorflow.compat.v1 as tf\n",
    "tf.disable_v2_behavior()"
   ]
  },
  {
   "cell_type": "code",
   "execution_count": 2,
   "metadata": {},
   "outputs": [],
   "source": [
    "# [공부한 시간(x1), 과외 수업 시간(x2), 실제 성적(y)]\n",
    "data = [[2, 0, 81], [4, 4, 93], [6, 2, 91], [8, 3, 97]]\n",
    "xData1 = [i[0] for i in data] # 공부 시간\n",
    "xData2 = [i[1] for i in data] # 과외 수업 시간\n",
    "yData  = [i[2] for i in data] # 실제 성적"
   ]
  },
  {
   "cell_type": "code",
   "execution_count": 3,
   "metadata": {},
   "outputs": [
    {
     "name": "stdout",
     "output_type": "stream",
     "text": [
      "a1: [1.0306609], a2: [3.7756526], b: [73.8143]\n"
     ]
    }
   ],
   "source": [
    "# 기울기 a1, a2와 y절편 b를 임의의 값으로 정한다.\n",
    "# 단, 기울기의 범위는 0 ~ 10 사이이며 y절편의 범위는 0 ~ 100 사이이며 임의로 변하게 한다.\n",
    "a1 = tf.Variable(tf.random_uniform([1], 0, 10, dtype=tf.float32))\n",
    "a2 = tf.Variable(tf.random_uniform([1], 0, 10, dtype=tf.float32))\n",
    "b  = tf.Variable(tf.random_uniform([1], 0, 100, dtype=tf.float32))\n",
    "sess = tf.Session()\n",
    "sess.run(tf.global_variables_initializer())\n",
    "print('a1: {}, a2: {}, b: {}'.format(sess.run(a1), sess.run(a2), sess.run(b)))"
   ]
  },
  {
   "cell_type": "code",
   "execution_count": 4,
   "metadata": {},
   "outputs": [],
   "source": [
    "# 예측 성적(y)을 얻기위한 가설(수식)을 만든다.\n",
    "y = a1 * xData1 + a2 * xData2 + b\n",
    "# tensorflow에서 실행할 RMSE(평균 제곱근 오차) 수식(오차 비용 함수)을 만든다.\n",
    "rmse = tf.sqrt(tf.reduce_mean(tf.square(y - yData)))\n",
    "# 경사 하강법을 이용해서 RMSE(평균 제곱근 오차)를 최소로 하는 값을 찾는 수식을 만든다.\n",
    "gradient_descent = tf.train.GradientDescentOptimizer(0.1).minimize(rmse)"
   ]
  },
  {
   "cell_type": "code",
   "execution_count": 5,
   "metadata": {},
   "outputs": [
    {
     "name": "stdout",
     "output_type": "stream",
     "text": [
      "Epoch:    0, RMSE: 70.7335, 기울기1:  0.9187, 기울기2:  0.7588, y절편: 13.5361\n",
      "Epoch:  200, RMSE: 22.2146, 기울기1:  9.5624, 기울기2:  4.9817, y절편: 22.7368\n",
      "Epoch:  400, RMSE: 19.0424, 기울기1:  8.3909, 기울기2:  4.6415, y절편: 30.6079\n",
      "Epoch:  600, RMSE: 15.8707, 기울기1:  7.2372, 기울기2:  4.2617, y절편: 38.4792\n",
      "Epoch:  800, RMSE: 12.6993, 기울기1:  6.0891, 기울기2:  3.8695, y절편: 46.3504\n",
      "Epoch: 1000, RMSE:  9.5287, 기울기1:  4.9426, 기울기2:  3.4743, y절편: 54.2207\n",
      "Epoch: 1200, RMSE:  6.3600, 기울기1:  3.7966, 기울기2:  3.0787, y절편: 62.0887\n",
      "Epoch: 1400, RMSE:  3.1986, 기울기1:  2.6520, 기울기2:  2.6835, y절편: 69.9475\n",
      "Epoch: 1600, RMSE:  1.8359, 기울기1:  1.9844, 기울기2:  2.4803, y절편: 76.3061\n",
      "Epoch: 1800, RMSE:  1.8370, 기울기1:  1.8103, 기울기2:  2.4221, y절편: 77.6213\n",
      "Epoch: 2000, RMSE:  1.8370, 기울기1:  1.7771, 기울기2:  2.4107, y절편: 77.8529\n",
      "Epoch: 2200, RMSE:  1.8370, 기울기1:  1.7712, 기울기2:  2.4086, y절편: 77.8938\n",
      "Epoch: 2400, RMSE:  1.8370, 기울기1:  1.7701, 기울기2:  2.4082, y절편: 77.9010\n",
      "Epoch: 2600, RMSE:  1.8369, 기울기1:  1.7699, 기울기2:  2.4082, y절편: 77.9022\n",
      "Epoch: 2800, RMSE:  1.8369, 기울기1:  1.7699, 기울기2:  2.4082, y절편: 77.9022\n",
      "Epoch: 3000, RMSE:  1.8369, 기울기1:  1.7699, 기울기2:  2.4082, y절편: 77.9022\n"
     ]
    }
   ],
   "source": [
    "# 학습을 시킨다.\n",
    "import time\n",
    "sess = tf.Session()\n",
    "sess.run(tf.global_variables_initializer())\n",
    "\n",
    "for i in range(3001):\n",
    "    sess.run(gradient_descent)\n",
    "    if i % 200 == 0:\n",
    "        print('Epoch: %4d, RMSE: %7.4f, 기울기1: %7.4f, 기울기2: %7.4f, y절편: %7.4f' % (i, sess.run(rmse), sess.run(a1),\n",
    "                                                            sess.run(a2), sess.run(b)))\n",
    "        time.sleep(0.25)"
   ]
  },
  {
   "cell_type": "code",
   "execution_count": null,
   "metadata": {},
   "outputs": [],
   "source": []
  },
  {
   "cell_type": "code",
   "execution_count": null,
   "metadata": {},
   "outputs": [],
   "source": []
  },
  {
   "cell_type": "code",
   "execution_count": null,
   "metadata": {},
   "outputs": [],
   "source": []
  },
  {
   "cell_type": "code",
   "execution_count": null,
   "metadata": {},
   "outputs": [],
   "source": []
  },
  {
   "cell_type": "code",
   "execution_count": null,
   "metadata": {},
   "outputs": [],
   "source": []
  },
  {
   "cell_type": "code",
   "execution_count": null,
   "metadata": {},
   "outputs": [],
   "source": []
  }
 ],
 "metadata": {
  "kernelspec": {
   "display_name": "Python 3",
   "language": "python",
   "name": "python3"
  },
  "language_info": {
   "codemirror_mode": {
    "name": "ipython",
    "version": 3
   },
   "file_extension": ".py",
   "mimetype": "text/x-python",
   "name": "python",
   "nbconvert_exporter": "python",
   "pygments_lexer": "ipython3",
   "version": "3.8.5"
  }
 },
 "nbformat": 4,
 "nbformat_minor": 5
}
