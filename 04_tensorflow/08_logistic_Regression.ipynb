{
 "cells": [
  {
   "cell_type": "code",
   "execution_count": 1,
   "metadata": {},
   "outputs": [
    {
     "name": "stdout",
     "output_type": "stream",
     "text": [
      "WARNING:tensorflow:From C:\\Users\\circl\\anaconda3\\lib\\site-packages\\tensorflow\\python\\compat\\v2_compat.py:96: disable_resource_variables (from tensorflow.python.ops.variable_scope) is deprecated and will be removed in a future version.\n",
      "Instructions for updating:\n",
      "non-resource variables are not supported in the long term\n"
     ]
    }
   ],
   "source": [
    "import warnings\n",
    "warnings.filterwarnings('ignore')\n",
    "import numpy as np \n",
    "import pandas as pd\n",
    "import tensorflow.compat.v1 as tf\n",
    "tf.disable_v2_behavior()"
   ]
  },
  {
   "cell_type": "markdown",
   "metadata": {},
   "source": [
    "데이터 생성"
   ]
  },
  {
   "cell_type": "code",
   "execution_count": 2,
   "metadata": {},
   "outputs": [
    {
     "name": "stdout",
     "output_type": "stream",
     "text": [
      "공부 시간: [2, 4, 6, 8, 10, 12, 14], 합격 여부: [0, 0, 0, 1, 1, 1, 1]\n"
     ]
    }
   ],
   "source": [
    "data = [[2, 0], [4, 0], [6, 0], [8, 1], [10, 1], [12, 1], [14, 1]]\n",
    "xData = [i[0] for i in data] # 공부 시간\n",
    "yData = [i[1] for i in data] # 합격 여부\n",
    "print('공부 시간: {}, 합격 여부: {}'.format(xData, yData))"
   ]
  },
  {
   "cell_type": "markdown",
   "metadata": {},
   "source": [
    "기울기(a)와 y절편(b) 값을 랜덤한 값으로 정함"
   ]
  },
  {
   "cell_type": "code",
   "execution_count": 14,
   "metadata": {},
   "outputs": [
    {
     "name": "stdout",
     "output_type": "stream",
     "text": [
      "a: [0.15791577], b: [0.10021869]\n"
     ]
    }
   ],
   "source": [
    "a = tf.Variable(tf.random_normal([1], dtype=tf.float64))\n",
    "b = tf.Variable(tf.random_normal([1], dtype=tf.float64))\n",
    "\n",
    "sess = tf.Session()\n",
    "sess.run(tf.global_variables_initializer())\n",
    "print('a: {}, b: {}'.format(sess.run(a), sess.run(b)))"
   ]
  },
  {
   "cell_type": "markdown",
   "metadata": {},
   "source": [
    "시그모이드 방정식"
   ]
  },
  {
   "cell_type": "code",
   "execution_count": 15,
   "metadata": {},
   "outputs": [],
   "source": [
    "y = 1/(1 + np.e ** -(a * xData + b))"
   ]
  },
  {
   "cell_type": "markdown",
   "metadata": {},
   "source": [
    "시그모이드 방정식의 오차 계산"
   ]
  },
  {
   "cell_type": "code",
   "execution_count": 16,
   "metadata": {},
   "outputs": [],
   "source": [
    "loss = -tf.reduce_mean(np.array(yData) * tf.log(y) + (1 - np.array(yData)) * tf.log(1-y))"
   ]
  },
  {
   "cell_type": "markdown",
   "metadata": {},
   "source": [
    "오차를 최소로 하는 값을 찾음"
   ]
  },
  {
   "cell_type": "code",
   "execution_count": 17,
   "metadata": {},
   "outputs": [],
   "source": [
    "gradient_descent = tf.train.GradientDescentOptimizer(0.1).minimize(loss)"
   ]
  },
  {
   "cell_type": "markdown",
   "metadata": {},
   "source": [
    "학습"
   ]
  },
  {
   "cell_type": "code",
   "execution_count": 18,
   "metadata": {},
   "outputs": [
    {
     "name": "stdout",
     "output_type": "stream",
     "text": [
      "Epoch(학습횟수):      0, loss(오차):   6.3861, 기울기:  -1.1052, y절편:   1.0593\n",
      "Epoch(학습횟수):   5000, loss(오차):   0.0586, 기울기:   1.5512, y절편: -10.6696\n",
      "Epoch(학습횟수):  10000, loss(오차):   0.0372, 기울기:   2.0055, y절편: -13.8721\n",
      "Epoch(학습횟수):  15000, loss(오차):   0.0275, 기울기:   2.3150, y절편: -16.0468\n",
      "Epoch(학습횟수):  20000, loss(오차):   0.0218, 기울기:   2.5524, y절편: -17.7128\n",
      "Epoch(학습횟수):  25000, loss(오차):   0.0180, 기울기:   2.7454, y절편: -19.0662\n",
      "Epoch(학습횟수):  30000, loss(오차):   0.0154, 기울기:   2.9080, y절편: -20.2063\n",
      "Epoch(학습횟수):  35000, loss(오차):   0.0134, 기울기:   3.0485, y절편: -21.1912\n",
      "Epoch(학습횟수):  40000, loss(오차):   0.0119, 기울기:   3.1722, y절편: -22.0580\n",
      "Epoch(학습횟수):  45000, loss(오차):   0.0106, 기울기:   3.2826, y절편: -22.8317\n",
      "Epoch(학습횟수):  50000, loss(오차):   0.0097, 기울기:   3.3823, y절편: -23.5303\n",
      "Epoch(학습횟수):  55000, loss(오차):   0.0088, 기울기:   3.4732, y절편: -24.1670\n",
      "Epoch(학습횟수):  60000, loss(오차):   0.0081, 기울기:   3.5567, y절편: -24.7518\n",
      "Epoch(학습횟수):  65000, loss(오차):   0.0075, 기울기:   3.6339, y절편: -25.2925\n",
      "Epoch(학습횟수):  70000, loss(오차):   0.0070, 기울기:   3.7057, y절편: -25.7952\n",
      "Epoch(학습횟수):  75000, loss(오차):   0.0066, 기울기:   3.7727, y절편: -26.2649\n",
      "Epoch(학습횟수):  80000, loss(오차):   0.0062, 기울기:   3.8357, y절편: -26.7056\n",
      "Epoch(학습횟수):  85000, loss(오차):   0.0058, 기울기:   3.8949, y절편: -27.1206\n",
      "Epoch(학습횟수):  90000, loss(오차):   0.0055, 기울기:   3.9509, y절편: -27.5128\n",
      "Epoch(학습횟수):  95000, loss(오차):   0.0052, 기울기:   4.0040, y절편: -27.8845\n",
      "Epoch(학습횟수): 100000, loss(오차):   0.0050, 기울기:   4.0545, y절편: -28.2378\n",
      "Epoch(학습횟수): 105000, loss(오차):   0.0047, 기울기:   4.1025, y절편: -28.5744\n",
      "Epoch(학습횟수): 110000, loss(오차):   0.0045, 기울기:   4.1484, y절편: -28.8957\n",
      "Epoch(학습횟수): 115000, loss(오차):   0.0043, 기울기:   4.1923, y절편: -29.2031\n",
      "Epoch(학습횟수): 120000, loss(오차):   0.0042, 기울기:   4.2344, y절편: -29.4977\n",
      "Epoch(학습횟수): 125000, loss(오차):   0.0040, 기울기:   4.2748, y절편: -29.7807\n",
      "Epoch(학습횟수): 130000, loss(오차):   0.0038, 기울기:   4.3137, y절편: -30.0527\n",
      "Epoch(학습횟수): 135000, loss(오차):   0.0037, 기울기:   4.3511, y절편: -30.3147\n",
      "Epoch(학습횟수): 140000, loss(오차):   0.0036, 기울기:   4.3872, y절편: -30.5674\n",
      "Epoch(학습횟수): 145000, loss(오차):   0.0034, 기울기:   4.4220, y절편: -30.8113\n",
      "Epoch(학습횟수): 150000, loss(오차):   0.0033, 기울기:   4.4557, y절편: -31.0471\n",
      "Epoch(학습횟수): 155000, loss(오차):   0.0032, 기울기:   4.4883, y절편: -31.2753\n",
      "Epoch(학습횟수): 160000, loss(오차):   0.0031, 기울기:   4.5198, y절편: -31.4964\n",
      "Epoch(학습횟수): 165000, loss(오차):   0.0030, 기울기:   4.5505, y절편: -31.7108\n",
      "Epoch(학습횟수): 170000, loss(오차):   0.0029, 기울기:   4.5802, y절편: -31.9189\n",
      "Epoch(학습횟수): 175000, loss(오차):   0.0029, 기울기:   4.6091, y절편: -32.1210\n",
      "Epoch(학습횟수): 180000, loss(오차):   0.0028, 기울기:   4.6371, y절편: -32.3175\n",
      "Epoch(학습횟수): 185000, loss(오차):   0.0027, 기울기:   4.6644, y절편: -32.5087\n",
      "Epoch(학습횟수): 190000, loss(오차):   0.0026, 기울기:   4.6910, y절편: -32.6949\n",
      "Epoch(학습횟수): 195000, loss(오차):   0.0026, 기울기:   4.7169, y절편: -32.8762\n",
      "Epoch(학습횟수): 200000, loss(오차):   0.0025, 기울기:   4.7422, y절편: -33.0531\n",
      "Epoch(학습횟수): 205000, loss(오차):   0.0024, 기울기:   4.7668, y절편: -33.2256\n",
      "Epoch(학습횟수): 210000, loss(오차):   0.0024, 기울기:   4.7909, y절편: -33.3940\n",
      "Epoch(학습횟수): 215000, loss(오차):   0.0023, 기울기:   4.8144, y절편: -33.5584\n",
      "Epoch(학습횟수): 220000, loss(오차):   0.0023, 기울기:   4.8373, y절편: -33.7191\n",
      "Epoch(학습횟수): 225000, loss(오차):   0.0022, 기울기:   4.8598, y절편: -33.8763\n",
      "Epoch(학습횟수): 230000, loss(오차):   0.0022, 기울기:   4.8817, y절편: -34.0300\n",
      "Epoch(학습횟수): 235000, loss(오차):   0.0021, 기울기:   4.9032, y절편: -34.1804\n",
      "Epoch(학습횟수): 240000, loss(오차):   0.0021, 기울기:   4.9242, y절편: -34.3277\n",
      "Epoch(학습횟수): 245000, loss(오차):   0.0020, 기울기:   4.9449, y절편: -34.4720\n",
      "Epoch(학습횟수): 250000, loss(오차):   0.0020, 기울기:   4.9650, y절편: -34.6134\n",
      "Epoch(학습횟수): 255000, loss(오차):   0.0020, 기울기:   4.9848, y절편: -34.7520\n",
      "Epoch(학습횟수): 260000, loss(오차):   0.0019, 기울기:   5.0043, y절편: -34.8879\n",
      "Epoch(학습횟수): 265000, loss(오차):   0.0019, 기울기:   5.0233, y절편: -35.0213\n",
      "Epoch(학습횟수): 270000, loss(오차):   0.0019, 기울기:   5.0420, y절편: -35.1522\n",
      "Epoch(학습횟수): 275000, loss(오차):   0.0018, 기울기:   5.0604, y절편: -35.2807\n",
      "Epoch(학습횟수): 280000, loss(오차):   0.0018, 기울기:   5.0784, y절편: -35.4068\n",
      "Epoch(학습횟수): 285000, loss(오차):   0.0018, 기울기:   5.0961, y절편: -35.5308\n",
      "Epoch(학습횟수): 290000, loss(오차):   0.0017, 기울기:   5.1135, y절편: -35.6526\n",
      "Epoch(학습횟수): 295000, loss(오차):   0.0017, 기울기:   5.1306, y절편: -35.7724\n",
      "Epoch(학습횟수): 300000, loss(오차):   0.0017, 기울기:   5.1474, y절편: -35.8901\n"
     ]
    }
   ],
   "source": [
    "sess = tf.Session()\n",
    "sess.run(tf.global_variables_initializer())\n",
    "\n",
    "for i in range(300001):\n",
    "    sess.run(gradient_descent)\n",
    "    if i % 5000 == 0:\n",
    "        print('Epoch(학습횟수): %6d, loss(오차): %8.4f, 기울기: %8.4f, y절편: %8.4f' % \n",
    "             (i, sess.run(loss), sess.run(a), sess.run(b)))"
   ]
  },
  {
   "cell_type": "code",
   "execution_count": null,
   "metadata": {},
   "outputs": [],
   "source": []
  }
 ],
 "metadata": {
  "kernelspec": {
   "display_name": "Python 3",
   "language": "python",
   "name": "python3"
  },
  "language_info": {
   "codemirror_mode": {
    "name": "ipython",
    "version": 3
   },
   "file_extension": ".py",
   "mimetype": "text/x-python",
   "name": "python",
   "nbconvert_exporter": "python",
   "pygments_lexer": "ipython3",
   "version": "3.8.5"
  }
 },
 "nbformat": 4,
 "nbformat_minor": 4
}
