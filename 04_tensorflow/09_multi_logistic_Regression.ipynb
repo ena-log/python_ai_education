{
 "cells": [
  {
   "cell_type": "code",
   "execution_count": 1,
   "metadata": {},
   "outputs": [
    {
     "name": "stdout",
     "output_type": "stream",
     "text": [
      "WARNING:tensorflow:From C:\\Users\\circl\\anaconda3\\lib\\site-packages\\tensorflow\\python\\compat\\v2_compat.py:96: disable_resource_variables (from tensorflow.python.ops.variable_scope) is deprecated and will be removed in a future version.\n",
      "Instructions for updating:\n",
      "non-resource variables are not supported in the long term\n"
     ]
    }
   ],
   "source": [
    "import warnings\n",
    "warnings.filterwarnings('ignore')\n",
    "import numpy as np \n",
    "import pandas as pd\n",
    "import tensorflow.compat.v1 as tf\n",
    "tf.disable_v2_behavior()"
   ]
  },
  {
   "cell_type": "code",
   "execution_count": null,
   "metadata": {},
   "outputs": [],
   "source": []
  },
  {
   "cell_type": "markdown",
   "metadata": {},
   "source": [
    "학습데이터 생성"
   ]
  },
  {
   "cell_type": "code",
   "execution_count": 2,
   "metadata": {},
   "outputs": [
    {
     "name": "stdout",
     "output_type": "stream",
     "text": [
      "[[2, 3], [4, 3], [6, 4], [8, 6], [10, 7], [12, 8], [14, 9]]\n",
      "<class 'list'>\n",
      "[[ 2  3]\n",
      " [ 4  3]\n",
      " [ 6  4]\n",
      " [ 8  6]\n",
      " [10  7]\n",
      " [12  8]\n",
      " [14  9]]\n",
      "<class 'numpy.ndarray'>\n"
     ]
    }
   ],
   "source": [
    "# xData = [공부 시간, 과외 시간]\n",
    "temp = [[2, 3], [4, 3], [6, 4], [8, 6], [10, 7], [12, 8], [14, 9]]\n",
    "print(temp)\n",
    "print(type(temp))\n",
    "\n",
    "xData = np.array(temp)\n",
    "print(xData)\n",
    "print(type(xData))"
   ]
  },
  {
   "cell_type": "markdown",
   "metadata": {},
   "source": [
    "결과 데이터 생성 -> 실제값"
   ]
  },
  {
   "cell_type": "code",
   "execution_count": 3,
   "metadata": {},
   "outputs": [
    {
     "name": "stdout",
     "output_type": "stream",
     "text": [
      "[0, 0, 0, 1, 1, 1, 1]\n",
      "<class 'list'>\n",
      "[0 0 0 1 1 1 1]\n",
      "<class 'numpy.ndarray'>\n",
      "[[0]\n",
      " [0]\n",
      " [0]\n",
      " [1]\n",
      " [1]\n",
      " [1]\n",
      " [1]]\n",
      "<class 'numpy.ndarray'>\n"
     ]
    }
   ],
   "source": [
    "# yData = [합격여부]\n",
    "temp = [0,0,0,1,1,1,1]\n",
    "print(temp)\n",
    "print(type(temp))\n",
    "\n",
    "yData = np.array(temp)\n",
    "print(yData)\n",
    "print(type(yData))\n",
    "\n",
    "yData = np.array(temp).reshape(7,1)\n",
    "print(yData)\n",
    "print(type(yData))"
   ]
  },
  {
   "cell_type": "markdown",
   "metadata": {},
   "source": [
    "xDate와 yData를 저장할 placeholder 만듦"
   ]
  },
  {
   "cell_type": "code",
   "execution_count": 4,
   "metadata": {},
   "outputs": [],
   "source": [
    "X = tf.placeholder(dtype=tf.float32, shape=[None, 2])\n",
    "Y = tf.placeholder(dtype=tf.float32, shape=[None, 1])"
   ]
  },
  {
   "cell_type": "markdown",
   "metadata": {},
   "source": [
    "기울기(가중치, a)와 y절편(바이어스, b)를 임의의 값으로 정함"
   ]
  },
  {
   "cell_type": "code",
   "execution_count": 5,
   "metadata": {},
   "outputs": [
    {
     "name": "stdout",
     "output_type": "stream",
     "text": [
      "a1: [0.946555], a2: [0.6024834], b: [0.7647165]\n",
      "[[0.946555 ]\n",
      " [0.6024834]]\n",
      "[0.7647165]\n"
     ]
    }
   ],
   "source": [
    "# random_uniform : 균등분포, random_normal : 정규분포\n",
    "a = tf.Variable(tf.random_uniform([2,1]), dtype=tf.float32)\n",
    "b = tf.Variable(tf.random_uniform([1]), dtype=tf.float32)\n",
    "\n",
    "sess = tf.Session()\n",
    "sess.run(tf.global_variables_initializer())\n",
    "print('a1: {}, a2: {}, b: {}'.format(sess.run(a)[0], sess.run(a)[1], sess.run(b)))\n",
    "print('{}'.format(sess.run(a)))\n",
    "print('{}'.format(sess.run(b)))"
   ]
  },
  {
   "cell_type": "markdown",
   "metadata": {},
   "source": [
    "시그모이드 방정식, 오차 함수, 경사하강법"
   ]
  },
  {
   "cell_type": "code",
   "execution_count": 6,
   "metadata": {},
   "outputs": [],
   "source": [
    "y = tf.sigmoid(tf.matmul(X, a) + b)\n",
    "loss = -tf.reduce_mean(Y * tf.log(y) + (1 - Y) * tf.log(1-y))\n",
    "gradient_descent = tf.train.GradientDescentOptimizer(0.1).minimize(loss)"
   ]
  },
  {
   "cell_type": "markdown",
   "metadata": {},
   "source": [
    "sigmoid() 메소드를 실행한 예상값 계산"
   ]
  },
  {
   "cell_type": "code",
   "execution_count": 11,
   "metadata": {},
   "outputs": [],
   "source": [
    "# sigmoid() 메소드의 실행 결과(y)가 0.5 이상이면 1을, 0.5 미만이며 0을 리턴함\n",
    "sess = tf.Session()\n",
    "#predicted = tf.cast(tf.constant([1.9, 2.1]), dtype=tf.int32) # 실수 -> 정수\n",
    "#print(sess.run(predicted)) # [1 2]\n",
    "#predicted = tf.cast(0.4 >= 0.5, dtype=tf.int32) # boolean : True(1), False(0)\n",
    "#print(sess.run(predicted)) # 0 \n",
    "\n",
    "predicted = tf.cast(y >= 0.5, dtype=tf.float32)"
   ]
  },
  {
   "cell_type": "markdown",
   "metadata": {},
   "source": [
    "예측값과 실제값이 일치하는 정도(정확도) 계산"
   ]
  },
  {
   "cell_type": "code",
   "execution_count": 12,
   "metadata": {},
   "outputs": [],
   "source": [
    "# reduce_mean : 평균\n",
    "accuracy = tf.reduce_mean(tf.cast(tf.equal(predicted, Y), dtype=tf.int32))"
   ]
  },
  {
   "cell_type": "markdown",
   "metadata": {},
   "source": [
    "학습"
   ]
  },
  {
   "cell_type": "code",
   "execution_count": 17,
   "metadata": {},
   "outputs": [
    {
     "name": "stdout",
     "output_type": "stream",
     "text": [
      "Epoch(학습횟수):    0, a1(공부시간기울기):  0.41376, a2(과외시간기울기):  0.29746, b(y절편):  0.62997, loss(오차함수):  1.92117\n",
      "Epoch(학습횟수):  300, a1(공부시간기울기):  0.85002, a2(과외시간기울기): -0.62544, b(y절편): -2.30587, loss(오차함수):  0.27468\n",
      "Epoch(학습횟수):  600, a1(공부시간기울기):  0.84536, a2(과외시간기울기): -0.34268, b(y절편): -3.80266, loss(오차함수):  0.19605\n",
      "Epoch(학습횟수):  900, a1(공부시간기울기):  0.75209, a2(과외시간기울기): -0.00742, b(y절편): -4.88376, loss(오차함수):  0.15276\n",
      "Epoch(학습횟수): 1200, a1(공부시간기울기):  0.64570, a2(과외시간기울기):  0.30508, b(y절편): -5.73742, loss(오차함수):  0.12472\n",
      "Epoch(학습횟수): 1500, a1(공부시간기울기):  0.54452, a2(과외시간기울기):  0.58311, b(y절편): -6.44425, loss(오차함수):  0.10509\n",
      "Epoch(학습횟수): 1800, a1(공부시간기울기):  0.45320, a2(과외시간기울기):  0.82795, b(y절편): -7.04782, loss(오차함수):  0.09063\n",
      "Epoch(학습횟수): 2100, a1(공부시간기울기):  0.37222, a2(과외시간기울기):  1.04378, b(y절편): -7.57467, loss(오차함수):  0.07959\n",
      "Epoch(학습횟수): 2400, a1(공부시간기울기):  0.30071, a2(과외시간기울기):  1.23505, b(y절편): -8.04222, loss(오차함수):  0.07090\n",
      "Epoch(학습횟수): 2700, a1(공부시간기울기):  0.23746, a2(과외시간기울기):  1.40571, b(y절편): -8.46255, loss(오차함수):  0.06389\n",
      "Epoch(학습횟수): 3000, a1(공부시간기울기):  0.18128, a2(과외시간기울기):  1.55908, b(y절편): -8.84436, loss(오차함수):  0.05814\n"
     ]
    }
   ],
   "source": [
    "sess = tf.Session()\n",
    "sess.run(tf.global_variables_initializer())\n",
    "\n",
    "for i in range(3001):\n",
    "    # 기울기, y절편, 오차함수, 경사하강\n",
    "    a_, b_, loss_, _ = sess.run([a, b, loss, gradient_descent], feed_dict={X: xData, Y: yData})\n",
    "    if i % 300 == 0:\n",
    "        print('Epoch(학습횟수): %4d, a1(공부시간기울기): %8.5f, a2(과외시간기울기): %8.5f, b(y절편): %8.5f, loss(오차함수): %8.5f' % (i, a_[0], a_[1], b_, loss_))\n"
   ]
  },
  {
   "cell_type": "markdown",
   "metadata": {},
   "source": [
    "테스트 데이터 만듦"
   ]
  },
  {
   "cell_type": "code",
   "execution_count": 34,
   "metadata": {},
   "outputs": [
    {
     "name": "stdout",
     "output_type": "stream",
     "text": [
      "[[6 5]]\n",
      "공부시간: 6, 과외시간: 5\n",
      "합격여부: 1, 합격확률: 0.509674\n",
      "공부시간: 0, 과외시간:  0 합격여부: 불합격, 합격확률: 0.000144%\n",
      "공부시간: 0, 과외시간:  1 합격여부: 불합격, 합격확률: 0.000685%\n",
      "공부시간: 0, 과외시간:  2 합격여부: 불합격, 합격확률: 0.003249%\n",
      "공부시간: 0, 과외시간:  3 합격여부: 불합격, 합격확률: 0.015260%\n",
      "공부시간: 0, 과외시간:  4 합격여부: 불합격, 합격확률: 0.068623%\n",
      "공부시간: 0, 과외시간:  5 합격여부: 불합격, 합격확률: 0.259426%\n",
      "공부시간: 0, 과외시간:  6 합격여부:  합격 , 합격확률: 0.624835%\n",
      "공부시간: 0, 과외시간:  7 합격여부:  합격 , 합격확률: 0.887874%\n",
      "공부시간: 0, 과외시간:  8 합격여부:  합격 , 합격확률: 0.974126%\n",
      "공부시간: 0, 과외시간:  9 합격여부:  합격 , 합격확률: 0.994444%\n",
      "공부시간: 0, 과외시간: 10 합격여부:  합격 , 합격확률: 0.998826%\n"
     ]
    }
   ],
   "source": [
    "new_x = np.array([6,5]).reshape(1,2)\n",
    "print(new_x)\n",
    "\n",
    "# sigmoid() 메소드의 연산 결과에 테스트 데이터 대입 후 연산\n",
    "result, new_y = sess.run([predicted, y], feed_dict={X:new_x})\n",
    "print('공부시간: %d, 과외시간: %d' % (new_x[:,0], new_x[:,1]))\n",
    "print('합격여부: %d, 합격확률: %f' % (result, new_y))\n",
    "\n",
    "for i in range(11):\n",
    "    new_x = np.array([0,i]).reshape(1,2)\n",
    "    result, new_y = sess.run([predicted, y], feed_dict={X:new_x})\n",
    "    print('공부시간: %d, 과외시간: %2d' % (new_x[:,0], new_x[:,1]), end=' ')\n",
    "    print('합격여부: %s, 합격확률: %f%%' % (' 합격 ' if result==1 else '불합격', new_y))"
   ]
  },
  {
   "cell_type": "code",
   "execution_count": null,
   "metadata": {},
   "outputs": [],
   "source": []
  },
  {
   "cell_type": "code",
   "execution_count": null,
   "metadata": {},
   "outputs": [],
   "source": []
  }
 ],
 "metadata": {
  "kernelspec": {
   "display_name": "Python 3",
   "language": "python",
   "name": "python3"
  },
  "language_info": {
   "codemirror_mode": {
    "name": "ipython",
    "version": 3
   },
   "file_extension": ".py",
   "mimetype": "text/x-python",
   "name": "python",
   "nbconvert_exporter": "python",
   "pygments_lexer": "ipython3",
   "version": "3.8.5"
  }
 },
 "nbformat": 4,
 "nbformat_minor": 4
}
