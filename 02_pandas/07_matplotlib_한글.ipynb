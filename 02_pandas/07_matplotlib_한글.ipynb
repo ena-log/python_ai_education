{
 "cells": [
  {
   "cell_type": "code",
   "execution_count": null,
   "metadata": {},
   "outputs": [],
   "source": [
    "#!pip install matplotlib"
   ]
  },
  {
   "cell_type": "code",
   "execution_count": 8,
   "metadata": {},
   "outputs": [],
   "source": [
    "import warnings\n",
    "warnings.filterwarnings('ignore')\n",
    "import numpy as np\n",
    "import pandas as pd\n",
    "import seaborn as sns\n",
    "import matplotlib as mpl\n",
    "import matplotlib.pyplot as plt\n",
    "import matplotlib.font_manager as fm\n",
    "%matplotlib inline\n",
    "mpl.rcParams['axes.unicode_minus'] = False\n",
    "\n",
    "from IPython.display import Image\n",
    "import random as r\n",
    "from numpy import NaN, NAN, nan"
   ]
  },
  {
   "cell_type": "code",
   "execution_count": 4,
   "metadata": {},
   "outputs": [],
   "source": [
    "mpl.font_manager._rebuild()"
   ]
  },
  {
   "cell_type": "code",
   "execution_count": null,
   "metadata": {},
   "outputs": [],
   "source": []
  },
  {
   "cell_type": "code",
   "execution_count": 5,
   "metadata": {},
   "outputs": [
    {
     "data": {
      "text/plain": [
       "array([ 36,  32,  14,  18,  86, 141, 165, 251, 327, 370, 458, 363, 399,\n",
       "       376, 406, 454, 400, 438, 506, 489, 467, 368, 428, 415, 470, 560,\n",
       "       491, 427, 466, 554, 495, 544, 517, 497, 512, 513, 523, 567, 484,\n",
       "       510, 495, 463, 562, 656, 741, 738, 667, 670, 599, 564], dtype=int32)"
      ]
     },
     "execution_count": 5,
     "metadata": {},
     "output_type": "execute_result"
    }
   ],
   "source": [
    "data = np.random.randint(-100, 100, 50).cumsum() # cumsum : 누적값\n",
    "data"
   ]
  },
  {
   "cell_type": "code",
   "execution_count": null,
   "metadata": {},
   "outputs": [],
   "source": []
  },
  {
   "cell_type": "markdown",
   "metadata": {},
   "source": [
    "### 한글 깨짐 확인"
   ]
  },
  {
   "cell_type": "code",
   "execution_count": null,
   "metadata": {},
   "outputs": [],
   "source": [
    "# 기본폰트로 지정되어있기 때문에 한글이 깨짐\n",
    "plt.plot(range(50), data, 'r')\n",
    "\n",
    "# 그래프 크기 지정\n",
    "plt.rcParams['figure.figsize'] = (16, 7)\n",
    "\n",
    "# 차트 제목\n",
    "plt.title('데미 데이터 차트')\n",
    "\n",
    "# 축 이름\n",
    "plt.ylabel('y축')\n",
    "plt.xlabel('x축')"
   ]
  },
  {
   "cell_type": "markdown",
   "metadata": {},
   "source": [
    "### 폰트 설정"
   ]
  },
  {
   "cell_type": "code",
   "execution_count": null,
   "metadata": {},
   "outputs": [],
   "source": [
    "# 폰트 설정\n",
    "print('버전 : ', mpl.__version__)\n",
    "print('설치 위치 : ', mpl.__file__)\n",
    "print('설정 위치 : ', mpl.get_configdir())\n",
    "print('캐시 위치 : ', mpl.get_cachedir()) # 이 위치에 있는 데이터 삭제"
   ]
  },
  {
   "cell_type": "code",
   "execution_count": null,
   "metadata": {},
   "outputs": [],
   "source": [
    "# 설정 파일 위치 확인\n",
    "print('설정 파일 위치 : ', mpl.matplotlib_fname()) \n",
    "# 메모장을 열기 -> font.family 검색"
   ]
  },
  {
   "cell_type": "code",
   "execution_count": null,
   "metadata": {},
   "outputs": [],
   "source": [
    "# 컴퓨터 설치된 폰트 목록\n",
    "font_list = fm.findSystemFonts(fontpaths=None, fontext='ttf')\n",
    "print(len(font_list))\n",
    "print(font_list[:10])\n",
    "\n",
    "f = [f.name for f in fm.fontManager.ttflist]\n",
    "print(len(f))\n",
    "print(f[:10])"
   ]
  },
  {
   "cell_type": "code",
   "execution_count": null,
   "metadata": {},
   "outputs": [],
   "source": [
    "# 나눔 글꼴을 사용할 예정이므로 이름에 'Nanum'이 포함된 폰트만 가져옴\n",
    "# f.name : 폰트이름, f.fname : 폰트설치경로\n",
    "[(f.name, f.fname) for f in fm.fontManager.ttflist if 'Nanum' in f.name]"
   ]
  },
  {
   "cell_type": "code",
   "execution_count": null,
   "metadata": {},
   "outputs": [],
   "source": []
  },
  {
   "cell_type": "markdown",
   "metadata": {},
   "source": [
    "### 한글 폰트 사용"
   ]
  },
  {
   "cell_type": "markdown",
   "metadata": {},
   "source": [
    "1. FontProperties"
   ]
  },
  {
   "cell_type": "code",
   "execution_count": null,
   "metadata": {},
   "outputs": [],
   "source": [
    "# fname 옵션 사용\n",
    "path = 'C:\\\\Users\\\\circl\\\\AppData\\\\Local\\\\Microsoft\\\\Windows\\\\Fonts\\\\NanumGothicCoding.ttf'\n",
    "\n",
    "fontprop = fm.FontProperties(fname=path, size=15)\n",
    "\n",
    "plt.plot(range(50), data, 'r')\n",
    "plt.rcParams['figure.figsize'] = (16, 7)\n",
    "plt.title('데미 데이터 차트', fontproperties=fontprop)\n",
    "plt.ylabel('y축', fontproperties=fontprop)\n",
    "plt.xlabel('x축', fontproperties=fontprop)\n",
    "plt.show()"
   ]
  },
  {
   "cell_type": "markdown",
   "metadata": {},
   "source": [
    "2-1. matplotlib 라이브러리의 rcParams[]로 전역 글꼴 설정"
   ]
  },
  {
   "cell_type": "code",
   "execution_count": null,
   "metadata": {},
   "outputs": [],
   "source": [
    "# 기본 설정 읽기\n",
    "print('기본 설정된 폰트 크기 : ', plt.rcParams['font.size'])\n",
    "print('기본 설정된 폰트 설정 : ', plt.rcParams['font.family'])"
   ]
  },
  {
   "cell_type": "code",
   "execution_count": null,
   "metadata": {},
   "outputs": [],
   "source": [
    "plt.rcParams['font.size'] = 15\n",
    "plt.rcParams['font.family'] = 'NanumGothicCoding'"
   ]
  },
  {
   "cell_type": "code",
   "execution_count": null,
   "metadata": {},
   "outputs": [],
   "source": [
    "print('기본 설정된 폰트 크기 : ', plt.rcParams['font.size'])\n",
    "print('기본 설정된 폰트 설정 : ', plt.rcParams['font.family'])"
   ]
  },
  {
   "cell_type": "code",
   "execution_count": null,
   "metadata": {
    "scrolled": true
   },
   "outputs": [],
   "source": [
    "plt.plot(range(50), data, 'r')\n",
    "plt.rcParams['figure.figsize'] = (16, 7)\n",
    "plt.title('데미 데이터 차트')\n",
    "plt.ylabel('y축')\n",
    "plt.xlabel('x축')\n",
    "plt.show()"
   ]
  },
  {
   "cell_type": "markdown",
   "metadata": {},
   "source": [
    "2-2. rcParams 대신 FontProperties의 plt.rc를 사용하는 방법"
   ]
  },
  {
   "cell_type": "code",
   "execution_count": null,
   "metadata": {},
   "outputs": [],
   "source": [
    "path = 'C:\\\\Users\\\\circl\\\\AppData\\\\Local\\\\Microsoft\\\\Windows\\\\Fonts\\\\NanumGothicCoding.ttf'\n",
    "font_name = fm.FontProperties(fname=path, size=15).get_name()\n",
    "print(font_name)\n",
    "\n",
    "plt.rc('font', family=font_name)"
   ]
  },
  {
   "cell_type": "code",
   "execution_count": null,
   "metadata": {},
   "outputs": [],
   "source": [
    "plt.plot(range(50), data, 'r')\n",
    "plt.rcParams['figure.figsize'] = (16, 7)\n",
    "plt.title('데미 데이터 차트')\n",
    "plt.ylabel('y축')\n",
    "plt.xlabel('x축')\n",
    "plt.show()"
   ]
  },
  {
   "cell_type": "markdown",
   "metadata": {},
   "source": [
    "3. rcParams를 matplotlib 설정 파일에 직접 넣어줌"
   ]
  },
  {
   "cell_type": "code",
   "execution_count": 7,
   "metadata": {},
   "outputs": [
    {
     "data": {
      "image/png": "[encoded data removed]",
      "text/plain": [
       "<Figure size 1152x504 with 1 Axes>"
      ]
     },
     "metadata": {
      "needs_background": "light"
     },
     "output_type": "display_data"
    }
   ],
   "source": [
    "plt.plot(range(50), data, 'r')\n",
    "plt.rcParams['figure.figsize'] = (16, 7)\n",
    "plt.title('데미 데이터 차트')\n",
    "plt.ylabel('y축')\n",
    "plt.xlabel('x축')\n",
    "plt.show()"
   ]
  },
  {
   "cell_type": "code",
   "execution_count": null,
   "metadata": {},
   "outputs": [],
   "source": []
  },
  {
   "cell_type": "code",
   "execution_count": null,
   "metadata": {},
   "outputs": [],
   "source": []
  }
 ],
 "metadata": {
  "kernelspec": {
   "display_name": "Python 3",
   "language": "python",
   "name": "python3"
  },
  "language_info": {
   "codemirror_mode": {
    "name": "ipython",
    "version": 3
   },
   "file_extension": ".py",
   "mimetype": "text/x-python",
   "name": "python",
   "nbconvert_exporter": "python",
   "pygments_lexer": "ipython3",
   "version": "3.8.5"
  }
 },
 "nbformat": 4,
 "nbformat_minor": 4
}
